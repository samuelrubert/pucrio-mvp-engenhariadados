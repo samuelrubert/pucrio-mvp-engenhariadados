{
 "cells": [
  {
   "cell_type": "markdown",
   "metadata": {
    "application/vnd.databricks.v1+cell": {
     "cellMetadata": {},
     "inputWidgets": {},
     "nuid": "90188fcb-ee45-4c36-bcae-31e5fe9ae39d",
     "showTitle": false,
     "title": ""
    }
   },
   "source": [
    "# Análise da solução do problema"
   ]
  },
  {
   "cell_type": "markdown",
   "metadata": {
    "application/vnd.databricks.v1+cell": {
     "cellMetadata": {},
     "inputWidgets": {},
     "nuid": "961fd8ce-7d27-4061-920d-abc874e9fa1e",
     "showTitle": false,
     "title": ""
    }
   },
   "source": [
    "Antes deste, foi feito o processo de ETL, que pode ser visto no link a seguir.\n",
    "\n",
    "https://github.com/samuelrubert/pucrio-mvp-engenhariadados/blob/main/Notebooks/CCUS_etapa1_ETL.ipynb\n",
    "\n",
    "Também foi feita a análise de qualidade de dados, que pode ser vista no link a seguir.\n",
    "\n",
    "https://github.com/samuelrubert/pucrio-mvp-engenhariadados/blob/main/Notebooks/CCUS_etapa2_qualidade.ipynb"
   ]
  },
  {
   "cell_type": "markdown",
   "metadata": {
    "application/vnd.databricks.v1+cell": {
     "cellMetadata": {},
     "inputWidgets": {},
     "nuid": "70ad4673-2d19-4fe6-97f4-851453a518de",
     "showTitle": false,
     "title": ""
    }
   },
   "source": [
    "A seguir, vamos tentar responder cada uma das perguntas feitas na descrição do trabalho."
   ]
  },
  {
   "cell_type": "markdown",
   "metadata": {
    "application/vnd.databricks.v1+cell": {
     "cellMetadata": {},
     "inputWidgets": {},
     "nuid": "71c253dd-1ad6-49ec-80d4-3db2034b9252",
     "showTitle": false,
     "title": ""
    }
   },
   "source": [
    "## 1. Os investimentos em descarbonização têm aumentado?\n"
   ]
  },
  {
   "cell_type": "code",
   "execution_count": 0,
   "metadata": {
    "application/vnd.databricks.v1+cell": {
     "cellMetadata": {
      "byteLimit": 2048000,
      "implicitDf": true,
      "rowLimit": 10000
     },
     "inputWidgets": {},
     "nuid": "d317ee4e-b4e0-4597-b7b8-67b4cd724c62",
     "showTitle": false,
     "title": ""
    }
   },
   "outputs": [],
   "source": [
    "%sql\n",
    "SELECT Announcement AS Ano, round(sum(Estimated_capacity_by_IEA_Mt_CO2_yr), 1) AS `Capacidade Anunciada (Mt CO2/ano)`\n",
    "FROM dt0051_dev.treinamento.iea_ccus_projects\n",
    "WHERE Announcement IS NOT NULL\n",
    "GROUP BY 1\n",
    "ORDER BY 1"
   ]
  },
  {
   "cell_type": "markdown",
   "metadata": {
    "application/vnd.databricks.v1+cell": {
     "cellMetadata": {},
     "inputWidgets": {},
     "nuid": "4b12a383-b885-4213-a731-25fbf4e469cd",
     "showTitle": false,
     "title": ""
    }
   },
   "source": [
    "É possível observar uma tendência geral de aumento nos investimentos em descarbonização ao longo dos anos. Até 2018, os valores são relativamente baixos e variam muito, mas a partir desse ano há um aumento significativo e consistente na capacidade de projetos anunciados.\n",
    "\n",
    "Obs.: considerando que os dados foram atualizados em 15/03/2024, as informações de 2024 são incompletas e devem ser ignoradas."
   ]
  },
  {
   "cell_type": "markdown",
   "metadata": {
    "application/vnd.databricks.v1+cell": {
     "cellMetadata": {},
     "inputWidgets": {},
     "nuid": "3a813601-c908-4494-bb4c-1fb680f2950b",
     "showTitle": false,
     "title": ""
    }
   },
   "source": [
    "## 2. Quais investimentos estão previstos para o futuro?\n"
   ]
  },
  {
   "cell_type": "code",
   "execution_count": 0,
   "metadata": {
    "application/vnd.databricks.v1+cell": {
     "cellMetadata": {
      "byteLimit": 2048000,
      "implicitDf": true,
      "rowLimit": 10000
     },
     "inputWidgets": {},
     "nuid": "b5a12174-eeaa-4eae-aa60-b97b7fc1bc40",
     "showTitle": false,
     "title": ""
    }
   },
   "outputs": [],
   "source": [
    "%sql\n",
    "SELECT 'Até 2023' AS `Período de entrada em operação`, round(sum(Estimated_capacity_by_IEA_Mt_CO2_yr), 1) AS `Capacidade Operacional (Mt CO2/ano)`\n",
    "FROM dt0051_dev.treinamento.iea_ccus_projects\n",
    "WHERE Operation <= 2023\n",
    "\n",
    "UNION\n",
    "\n",
    "SELECT 'Futuro' AS `Período de entrada em operação`, round(sum(Estimated_capacity_by_IEA_Mt_CO2_yr), 1) AS `Capacidade Operacional (Mt CO2/ano)`\n",
    "FROM dt0051_dev.treinamento.iea_ccus_projects\n",
    "WHERE Operation > 2023\n",
    "\n",
    "ORDER BY 1"
   ]
  },
  {
   "cell_type": "markdown",
   "metadata": {
    "application/vnd.databricks.v1+cell": {
     "cellMetadata": {},
     "inputWidgets": {},
     "nuid": "f43cf933-6349-488d-9046-232479508af0",
     "showTitle": false,
     "title": ""
    }
   },
   "source": [
    "Verificamos que há previsão futura de uma capacidade operacional de 1243,6 Mt CO2/ano. Em comparação com o valor operacional até 2023, percebemos que será um crescimento significativo, de aproximadamente 17 vezes."
   ]
  },
  {
   "cell_type": "markdown",
   "metadata": {
    "application/vnd.databricks.v1+cell": {
     "cellMetadata": {},
     "inputWidgets": {},
     "nuid": "64084a70-80b6-4713-88ae-751d205d33b9",
     "showTitle": false,
     "title": ""
    }
   },
   "source": [
    "## 3. Quais são os países que mais têm investido em descarbonização?\n"
   ]
  },
  {
   "cell_type": "code",
   "execution_count": 0,
   "metadata": {
    "application/vnd.databricks.v1+cell": {
     "cellMetadata": {
      "byteLimit": 2048000,
      "implicitDf": true,
      "rowLimit": 10000
     },
     "inputWidgets": {},
     "nuid": "051d8ed1-f4d2-4e2a-bae8-7fc4fec934b2",
     "showTitle": false,
     "title": ""
    }
   },
   "outputs": [],
   "source": [
    "%sql\n",
    "SELECT Country AS `País`, round(sum(Estimated_capacity_by_IEA_Mt_CO2_yr), 1) AS `Capacidade Operacional e/ou Anunciada (Mt CO2/ano)`\n",
    "FROM dt0051_dev.treinamento.iea_ccus_projects\n",
    "WHERE Country != 'Unknown'\n",
    "GROUP BY 1\n",
    "ORDER BY 2 DESC\n",
    "LIMIT 10"
   ]
  },
  {
   "cell_type": "markdown",
   "metadata": {
    "application/vnd.databricks.v1+cell": {
     "cellMetadata": {},
     "inputWidgets": {},
     "nuid": "50ce170e-d0c0-45e1-a168-4ae0bda6af7e",
     "showTitle": false,
     "title": ""
    }
   },
   "source": [
    "Verificando os top 10 países em capacidade total, percebemos que os sete maiores são países do hemisfério norte. É especialmente notável que os investimentos nos Estados Unidos excedem a capacidade somada de todos os outros países listados."
   ]
  },
  {
   "cell_type": "markdown",
   "metadata": {
    "application/vnd.databricks.v1+cell": {
     "cellMetadata": {},
     "inputWidgets": {},
     "nuid": "949ac386-5229-465e-b338-1c281bc16e6f",
     "showTitle": false,
     "title": ""
    }
   },
   "source": [
    "## 4. Quais são as empresas que mais têm investido em descarbonização?\n"
   ]
  },
  {
   "cell_type": "code",
   "execution_count": 0,
   "metadata": {
    "application/vnd.databricks.v1+cell": {
     "cellMetadata": {
      "byteLimit": 2048000,
      "implicitDf": true,
      "rowLimit": 10000
     },
     "inputWidgets": {},
     "nuid": "2ce035a4-90f2-465f-8947-27bcb9db7c53",
     "showTitle": false,
     "title": ""
    }
   },
   "outputs": [],
   "source": [
    "%sql\n",
    "SELECT DISTINCT split(Partners, ',')[0] AS Empresa, round(sum(Estimated_capacity_by_IEA_Mt_CO2_yr), 1) AS `Capacidade Operacional e/ou Anunciada (Mt CO2/ano)`\n",
    "FROM dt0051_dev.treinamento.iea_ccus_projects\n",
    "GROUP BY 1\n",
    "ORDER BY 2 DESC\n",
    "LIMIT 10"
   ]
  },
  {
   "cell_type": "markdown",
   "metadata": {
    "application/vnd.databricks.v1+cell": {
     "cellMetadata": {
      "byteLimit": 2048000,
      "rowLimit": 10000
     },
     "inputWidgets": {},
     "nuid": "bb231ece-0c6c-4459-ae38-6d879162c569",
     "showTitle": false,
     "title": ""
    }
   },
   "source": [
    "A análise desta pergunta trouxe dificuldades, devido ao preenchimento do campo Partners pelos autores ser multivalorado e inconsistente, frequentemente trazendo descrições além dos nomes de empresas.\n",
    "\n",
    "Apenas por motivo didático, foi feita uma consulta a partir da separação do termo anterior à primeira vírgula. Porém, não é um resultado confiável para análise."
   ]
  },
  {
   "cell_type": "markdown",
   "metadata": {
    "application/vnd.databricks.v1+cell": {
     "cellMetadata": {},
     "inputWidgets": {},
     "nuid": "dc3b88ef-e25d-404c-9c4b-84cb5eaac2f7",
     "showTitle": false,
     "title": ""
    }
   },
   "source": [
    "## 5. Em quais setores da indústria os esforços em descarbonização mais têm sido aplicados?\n"
   ]
  },
  {
   "cell_type": "code",
   "execution_count": 0,
   "metadata": {
    "application/vnd.databricks.v1+cell": {
     "cellMetadata": {
      "byteLimit": 2048000,
      "rowLimit": 10000
     },
     "inputWidgets": {},
     "nuid": "766fce33-b41e-4fb0-ad06-41c899f403a2",
     "showTitle": false,
     "title": ""
    }
   },
   "outputs": [],
   "source": [
    "%sql\n",
    "SELECT \n",
    "  Sector AS `Setor`, \n",
    "  round(sum(Estimated_capacity_by_IEA_Mt_CO2_yr), 1) AS `Capacidade Operacional e/ou Anunciada (Mt CO2/ano)`,\n",
    "  round(sum(Estimated_capacity_by_IEA_Mt_CO2_yr) * 100 / sum(sum(Estimated_capacity_by_IEA_Mt_CO2_yr)) OVER (), 1) AS `Percentual do Total`\n",
    "FROM dt0051_dev.treinamento.iea_ccus_projects\n",
    "GROUP BY 1\n",
    "ORDER BY 2 DESC"
   ]
  },
  {
   "cell_type": "markdown",
   "metadata": {
    "application/vnd.databricks.v1+cell": {
     "cellMetadata": {},
     "inputWidgets": {},
     "nuid": "c04d1c41-8eae-4bd4-9257-1d7354e882eb",
     "showTitle": false,
     "title": ""
    }
   },
   "source": [
    "Pode-se concluir que os setores de transporte e de armazenamento são os setores onde estão mais concentrados os investimentos em CCUS. Considerando as três primeiras linhas do resultado, esses setores concentram juntos 73% da capacidade total prevista."
   ]
  },
  {
   "cell_type": "markdown",
   "metadata": {
    "application/vnd.databricks.v1+cell": {
     "cellMetadata": {},
     "inputWidgets": {},
     "nuid": "8f017005-fc47-485f-9ca8-1109a9a77167",
     "showTitle": false,
     "title": ""
    }
   },
   "source": [
    "## 6. Quais as principais tecnologias que estão sendo utilizadas?\n"
   ]
  },
  {
   "cell_type": "markdown",
   "metadata": {
    "application/vnd.databricks.v1+cell": {
     "cellMetadata": {},
     "inputWidgets": {},
     "nuid": "de945275-02f4-4c84-8e00-1bb97a6980b1",
     "showTitle": false,
     "title": ""
    }
   },
   "source": [
    "A base de dados da IEA não traz informações específicas sobre tecnologias utilizadas em cada projeto, por isso não será possível responder à pergunta original.\n",
    "\n",
    "Em vez disso, vamos fazer uma avaliação dos tipos de projeto que estão sendo contemplados."
   ]
  },
  {
   "cell_type": "code",
   "execution_count": 0,
   "metadata": {
    "application/vnd.databricks.v1+cell": {
     "cellMetadata": {
      "byteLimit": 2048000,
      "rowLimit": 10000
     },
     "inputWidgets": {},
     "nuid": "e4b20800-4d5b-4a55-bc58-4ba43792e41f",
     "showTitle": false,
     "title": ""
    }
   },
   "outputs": [],
   "source": [
    "%sql\n",
    "SELECT \n",
    "  Project_type AS `Tipo de Projeto`,\n",
    "  round(sum(Estimated_capacity_by_IEA_Mt_CO2_yr), 1) AS `Capacidade Operacional e/ou Anunciada (Mt CO2/ano)`,\n",
    "  round(sum(Estimated_capacity_by_IEA_Mt_CO2_yr) * 100 / sum(sum(Estimated_capacity_by_IEA_Mt_CO2_yr)) OVER (), 1) AS `Percentual do Total`\n",
    "FROM dt0051_dev.treinamento.iea_ccus_projects\n",
    "GROUP BY 1\n",
    "ORDER BY 2 DESC"
   ]
  },
  {
   "cell_type": "markdown",
   "metadata": {
    "application/vnd.databricks.v1+cell": {
     "cellMetadata": {},
     "inputWidgets": {},
     "nuid": "b381518a-3bbd-4d74-9f0e-25465aae16a8",
     "showTitle": false,
     "title": ""
    }
   },
   "source": [
    "Como visto na pergunta anterior, os projetos de transporte e de armazenamento são maioria. Mas aqui vemos que projetos apenas de captura têm uma participação relevante, e que projetos que capturam CO2 para uso ainda são pouco proeminentes."
   ]
  },
  {
   "cell_type": "markdown",
   "metadata": {
    "application/vnd.databricks.v1+cell": {
     "cellMetadata": {},
     "inputWidgets": {},
     "nuid": "175916da-8231-476a-94f3-206f5edb5a3d",
     "showTitle": false,
     "title": ""
    }
   },
   "source": [
    "## 7. Qual a quantidade de emissões de carbono que se espera reduzir nos próximos anos?"
   ]
  },
  {
   "cell_type": "code",
   "execution_count": 0,
   "metadata": {
    "application/vnd.databricks.v1+cell": {
     "cellMetadata": {
      "byteLimit": 2048000,
      "rowLimit": 10000
     },
     "inputWidgets": {},
     "nuid": "f152dcf0-68f2-4c48-bcc1-00996e94c451",
     "showTitle": false,
     "title": ""
    }
   },
   "outputs": [],
   "source": [
    "%sql\n",
    "SELECT round(sum((greatest(least(Suspension_decommissioning, 2054), 2024) - least(greatest(Operation, 2024), 2054)) * Estimated_capacity_by_IEA_Mt_CO2_yr) / 1000, 1) AS `Captura estimada para os próximos 30 anos (Gt CO2)`\n",
    "FROM dt0051_dev.treinamento.iea_ccus_projects\n",
    "WHERE Operation IS NOT NULL\n",
    "  AND Estimated_capacity_by_IEA_Mt_CO2_yr IS NOT NULL\n",
    "  AND Project_type IN ('Full chain', 'Capture', 'CCU')"
   ]
  },
  {
   "cell_type": "markdown",
   "metadata": {
    "application/vnd.databricks.v1+cell": {
     "cellMetadata": {},
     "inputWidgets": {},
     "nuid": "b315fc9a-5f1e-4118-b047-dda2a5399c52",
     "showTitle": false,
     "title": ""
    }
   },
   "source": [
    "Aqui, verificamos qual será o total de CO2 capturado nos próximos 30 anos, com base nos dados disponíveis.\n",
    "\n",
    "Multiplicamos a capacidade anual do projeto pelo período de 30 anos, considerando a data de entrada em operação caso seja posterior a 2024, e a data de descomissionamento caso exista e seja anterior a 2054. São considerados apenas tipos de projeto que façam captura de carbono, não somente transporte ou armazenamento.\n",
    "\n",
    "Chegamos ao valor de aproximadamente 12 bilhões de toneladas de CO2 capturadas nesse período. Para comparação, uma pesquisa rápida indica que uma pessoa emite em média 1,6 tonelada de CO2 por ano. Assim, a capacidade calculada dos projetos poderia neutralizar as emissões médias de cerca de 248 milhões de pessoas no período."
   ]
  },
  {
   "cell_type": "markdown",
   "metadata": {
    "application/vnd.databricks.v1+cell": {
     "cellMetadata": {},
     "inputWidgets": {},
     "nuid": "9b92d3d1-08aa-4a6a-ae8a-57d3c029baf4",
     "showTitle": false,
     "title": ""
    }
   },
   "source": [
    "# Discussão"
   ]
  },
  {
   "cell_type": "markdown",
   "metadata": {
    "application/vnd.databricks.v1+cell": {
     "cellMetadata": {},
     "inputWidgets": {},
     "nuid": "1d549ea2-72db-4b74-ab3f-9162ae234446",
     "showTitle": false,
     "title": ""
    }
   },
   "source": [
    "A análise dos investimentos globais em descarbonização revela uma tendência ascendente nos esforços para mitigar as mudanças climáticas, especialmente a partir de 2018. Esse aumento significativo nas capacidades anunciadas de captura e armazenamento de carbono (CCUS) indica uma resposta robusta de governos e empresas ao Acordo de Paris e à necessidade urgente de reduzir as emissões de carbono. Observamos que os investimentos futuros prometem um crescimento substancial, com a capacidade operacional prevista para aumentar cerca de 17 vezes em comparação com os valores até 2023. Esse crescimento é impulsionado principalmente por países do hemisfério norte, com os Estados Unidos liderando significativamente em termos de capacidade total. Esta distribuição geográfica dos investimentos destaca as disparidades regionais nos esforços de descarbonização, sugerindo que políticas e recursos variam amplamente entre os diferentes países.\n",
    "\n",
    "Além disso, a análise do setor industrial e dos tipos de projetos revela que os setores de transporte e armazenamento são os principais focos dos investimentos em CCUS, concentrando 73% da capacidade total prevista. Esta concentração indica que, embora a captura de carbono seja vital, a infraestrutura para transporte e armazenamento também é crucial para o sucesso das iniciativas de descarbonização. Finalmente, a projeção de captura de carbono para os próximos 30 anos estima que poderia neutralizar as emissões médias de cerca de 248 milhões de pessoas. \n",
    "\n",
    "Os resultados obtidos sublinham a importância contínua do investimento e desenvolvimento de tecnologias CCUS como uma peça essencial no combate às mudanças climáticas."
   ]
  },
  {
   "cell_type": "markdown",
   "metadata": {
    "application/vnd.databricks.v1+cell": {
     "cellMetadata": {},
     "inputWidgets": {},
     "nuid": "748b5cc7-64a7-46d3-919b-b8ab49aa4515",
     "showTitle": false,
     "title": ""
    }
   },
   "source": [
    "# Autoavaliação\n",
    "O objetivo principal deste trabalho foi obter perspectivas sobre os esforços globais de descarbonização, analisando tendências, investimentos e resultados. Através das consultas SQL realizadas na base de dados da IEA CCUS, foi possível responder a maioria das questões delineadas inicialmente. Conseguimos identificar um aumento nos investimentos em descarbonização, prever um crescimento significativo na capacidade operacional futura, e destacar os países e setores industriais com maiores investimentos.\n",
    "\n",
    "Uma das principais dificuldades foi a inconsistência na base de dados, especialmente no campo “Partners”, que dificultou a identificação precisa das empresas que mais investem em descarbonização. A falta de detalhes sobre as tecnologias específicas utilizadas em cada projeto também limitou a profundidade da análise. Para superar essas limitações em trabalhos futuros, seria benéfico obter uma base de dados mais padronizada e detalhada, que permita uma análise mais precisa e abrangente. Além disso, a inclusão de outras fontes de dados e a combinação de métodos qualitativos e quantitativos podem enriquecer a análise.\n",
    "\n",
    "Ainda assim, avalia-se que o objetivo do trabalho foi cumprido, com destaque para o aprendizado sobre a construção de um processo de ETL e de análise de dados no Databricks."
   ]
  }
 ],
 "metadata": {
  "application/vnd.databricks.v1+notebook": {
   "dashboards": [],
   "environmentMetadata": null,
   "language": "python",
   "notebookMetadata": {
    "mostRecentlyExecutedCommandWithImplicitDF": {
     "commandId": -1,
     "dataframes": [
      "_sqldf"
     ]
    },
    "pythonIndentUnit": 4
   },
   "notebookName": "CCUS_etapa3_solucao",
   "widgets": {}
  }
 },
 "nbformat": 4,
 "nbformat_minor": 0
}
