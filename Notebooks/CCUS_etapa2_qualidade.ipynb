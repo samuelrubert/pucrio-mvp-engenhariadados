{
 "cells": [
  {
   "cell_type": "markdown",
   "metadata": {
    "application/vnd.databricks.v1+cell": {
     "cellMetadata": {},
     "inputWidgets": {},
     "nuid": "bc9f6ccd-d2d8-45e3-8743-403ca11a5ec1",
     "showTitle": false,
     "title": ""
    }
   },
   "source": [
    "# Análise de qualidade dos dados\n",
    "Aqui faremos a etapa de análise de qualidade de cada atributo do conjunto de dados. Faremos isso utilizando consultas SQL baseadas nas características de cada atributo registradas no catálogo de dados."
   ]
  },
  {
   "cell_type": "markdown",
   "metadata": {
    "application/vnd.databricks.v1+cell": {
     "cellMetadata": {},
     "inputWidgets": {},
     "nuid": "e542867a-5f4c-4808-8855-c56d2a4d40f2",
     "showTitle": false,
     "title": ""
    }
   },
   "source": [
    "Antes deste, foi feito o processo de ETL, que pode ser visto no link a seguir.\n",
    "\n",
    "https://github.com/samuelrubert/pucrio-mvp-engenhariadados/blob/main/Notebooks/CCUS_etapa1_ETL.ipynb"
   ]
  },
  {
   "cell_type": "markdown",
   "metadata": {
    "application/vnd.databricks.v1+cell": {
     "cellMetadata": {},
     "inputWidgets": {},
     "nuid": "045829d9-fc27-4f07-891c-5f9fe4adc2e7",
     "showTitle": false,
     "title": ""
    }
   },
   "source": [
    "Passemos à análise dos atributos."
   ]
  },
  {
   "cell_type": "markdown",
   "metadata": {
    "application/vnd.databricks.v1+cell": {
     "cellMetadata": {
      "byteLimit": 2048000,
      "rowLimit": 10000
     },
     "inputWidgets": {},
     "nuid": "261f8a09-f56f-48a7-8124-a2520d617f8a",
     "showTitle": false,
     "title": ""
    }
   },
   "source": [
    "## 1. Project_name\n",
    "O nome do projeto é um texto livre, porém não pode ser vazio.\n",
    "\n",
    "Vamos verificar se há linhas em que o nome do projeto seja nulo."
   ]
  },
  {
   "cell_type": "code",
   "execution_count": 0,
   "metadata": {
    "application/vnd.databricks.v1+cell": {
     "cellMetadata": {
      "byteLimit": 2048000,
      "implicitDf": true,
      "rowLimit": 10000
     },
     "inputWidgets": {},
     "nuid": "c77fa300-d03e-427f-b568-5e33aa9c7e19",
     "showTitle": false,
     "title": ""
    }
   },
   "outputs": [],
   "source": [
    "%sql\n",
    "SELECT count(1) AS `Nomes de projeto vazios`\n",
    "FROM dt0051_dev.treinamento.iea_ccus_projects\n",
    "WHERE Project_name IS NULL"
   ]
  },
  {
   "cell_type": "markdown",
   "metadata": {
    "application/vnd.databricks.v1+cell": {
     "cellMetadata": {
      "byteLimit": 2048000,
      "rowLimit": 10000
     },
     "inputWidgets": {},
     "nuid": "c24ddb00-428e-49a4-93a3-d734b980491a",
     "showTitle": false,
     "title": ""
    }
   },
   "source": [
    "Não há campos vazios. Dessa forma, não se verificou problemas na coluna."
   ]
  },
  {
   "cell_type": "markdown",
   "metadata": {
    "application/vnd.databricks.v1+cell": {
     "cellMetadata": {},
     "inputWidgets": {},
     "nuid": "4a951e3c-1a12-46de-bb9a-274891aebc8a",
     "showTitle": false,
     "title": ""
    }
   },
   "source": [
    "## 2. ID\n",
    "O processo de ETL já assegurou que o ID seja sempre um número inteiro.\n",
    "\n",
    "Além disso, ele deve ser único. Vamos verificar."
   ]
  },
  {
   "cell_type": "code",
   "execution_count": 0,
   "metadata": {
    "application/vnd.databricks.v1+cell": {
     "cellMetadata": {
      "byteLimit": 2048000,
      "rowLimit": 10000
     },
     "inputWidgets": {},
     "nuid": "562ac821-a8c4-4ec5-b9ff-acfe31580770",
     "showTitle": false,
     "title": ""
    }
   },
   "outputs": [],
   "source": [
    "%sql\n",
    "SELECT ID AS `ID repetido`, count(ID) AS Quantidade\n",
    "FROM dt0051_dev.treinamento.iea_ccus_projects\n",
    "GROUP BY ID\n",
    "HAVING count(ID) > 1"
   ]
  },
  {
   "cell_type": "markdown",
   "metadata": {
    "application/vnd.databricks.v1+cell": {
     "cellMetadata": {},
     "inputWidgets": {},
     "nuid": "589e8d35-23c4-4f59-9652-b701f60d5325",
     "showTitle": false,
     "title": ""
    }
   },
   "source": [
    "Encontramos três IDs que se repetem na tabela. Vamos olhar para esses dados."
   ]
  },
  {
   "cell_type": "code",
   "execution_count": 0,
   "metadata": {
    "application/vnd.databricks.v1+cell": {
     "cellMetadata": {
      "byteLimit": 2048000,
      "rowLimit": 10000
     },
     "inputWidgets": {},
     "nuid": "c579fecc-bf47-45f1-bc01-32a0d603fa6f",
     "showTitle": false,
     "title": ""
    }
   },
   "outputs": [],
   "source": [
    "%sql\n",
    "SELECT *\n",
    "FROM dt0051_dev.treinamento.iea_ccus_projects\n",
    "WHERE ID IN (1103, 365, 863)\n",
    "ORDER BY ID ASC"
   ]
  },
  {
   "cell_type": "markdown",
   "metadata": {
    "application/vnd.databricks.v1+cell": {
     "cellMetadata": {},
     "inputWidgets": {},
     "nuid": "ceb937e4-6e66-477b-9ca8-664fd871015b",
     "showTitle": false,
     "title": ""
    }
   },
   "source": [
    "Vamos que os dados não são idênticos, porém a similaridade dos dados indica que alguns dos elementos duplicados possam estar relacionados, ou até mesmo ser uma continuação do projeto.\n",
    "\n",
    "Não conhecemos plenamente a semântica da repetição do ID, por isso não alteraremos os dados."
   ]
  },
  {
   "cell_type": "markdown",
   "metadata": {
    "application/vnd.databricks.v1+cell": {
     "cellMetadata": {},
     "inputWidgets": {},
     "nuid": "add9e353-f07d-43f1-a024-1218549ca8a7",
     "showTitle": false,
     "title": ""
    }
   },
   "source": [
    "## 3. Country\n",
    "O valor do campo pode ser um texto livre indicando um ou mais países ou regiões. Vamos apenas verificar se há linhas vazias."
   ]
  },
  {
   "cell_type": "code",
   "execution_count": 0,
   "metadata": {
    "application/vnd.databricks.v1+cell": {
     "cellMetadata": {
      "byteLimit": 2048000,
      "rowLimit": 10000
     },
     "inputWidgets": {},
     "nuid": "273fd118-37dc-46e9-a805-6bc0e8739da0",
     "showTitle": false,
     "title": ""
    }
   },
   "outputs": [],
   "source": [
    "%sql\n",
    "SELECT count(1) as `Países vazios`\n",
    "FROM dt0051_dev.treinamento.iea_ccus_projects\n",
    "WHERE Country IS NULL"
   ]
  },
  {
   "cell_type": "markdown",
   "metadata": {
    "application/vnd.databricks.v1+cell": {
     "cellMetadata": {},
     "inputWidgets": {},
     "nuid": "b7713690-f474-4e5e-b86e-ba4dd997d4ab",
     "showTitle": false,
     "title": ""
    }
   },
   "source": [
    "Não há campos vazios. Dessa forma, não se verificou problemas na coluna."
   ]
  },
  {
   "cell_type": "markdown",
   "metadata": {
    "application/vnd.databricks.v1+cell": {
     "cellMetadata": {},
     "inputWidgets": {},
     "nuid": "4b3c275d-9366-488f-8dc5-9bb422d2b151",
     "showTitle": false,
     "title": ""
    }
   },
   "source": [
    "## 4. Partners\n",
    "O valor do campo pode ser um texto livre indicando as empresas envolvidas no projeto. Vamos apenas verificar se há linhas vazias."
   ]
  },
  {
   "cell_type": "code",
   "execution_count": 0,
   "metadata": {
    "application/vnd.databricks.v1+cell": {
     "cellMetadata": {
      "byteLimit": 2048000,
      "rowLimit": 10000
     },
     "inputWidgets": {},
     "nuid": "15bb7b23-0708-4601-800a-e0305b5ecfa1",
     "showTitle": false,
     "title": ""
    }
   },
   "outputs": [],
   "source": [
    "%sql\n",
    "SELECT count(1) as `Parceiros vazios`\n",
    "FROM dt0051_dev.treinamento.iea_ccus_projects\n",
    "WHERE Partners IS NULL"
   ]
  },
  {
   "cell_type": "markdown",
   "metadata": {
    "application/vnd.databricks.v1+cell": {
     "cellMetadata": {},
     "inputWidgets": {},
     "nuid": "72bb9cf4-6ea9-4afe-8daa-f60439a14028",
     "showTitle": false,
     "title": ""
    }
   },
   "source": [
    "Não há campos vazios. Dessa forma, não se verificou problemas na coluna."
   ]
  },
  {
   "cell_type": "markdown",
   "metadata": {
    "application/vnd.databricks.v1+cell": {
     "cellMetadata": {},
     "inputWidgets": {},
     "nuid": "bf67fa8c-164f-4374-824b-5b7e329b6a40",
     "showTitle": false,
     "title": ""
    }
   },
   "source": [
    "## 5. Project_type\n",
    "O tipo de projeto deve ser um dos valores categóricos permitidos. Vamos verificar."
   ]
  },
  {
   "cell_type": "code",
   "execution_count": 0,
   "metadata": {
    "application/vnd.databricks.v1+cell": {
     "cellMetadata": {
      "byteLimit": 2048000,
      "rowLimit": 10000
     },
     "inputWidgets": {},
     "nuid": "1cff1274-a740-4a5d-8abd-a9963cbc4e56",
     "showTitle": false,
     "title": ""
    }
   },
   "outputs": [],
   "source": [
    "%sql\n",
    "SELECT Project_type, count(1) AS Quantidade\n",
    "FROM dt0051_dev.treinamento.iea_ccus_projects\n",
    "WHERE Project_type NOT IN ('Full chain', 'Capture', 'Transport', 'Storage', 'T&S', 'CCU')\n",
    "GROUP BY Project_type"
   ]
  },
  {
   "cell_type": "markdown",
   "metadata": {
    "application/vnd.databricks.v1+cell": {
     "cellMetadata": {},
     "inputWidgets": {},
     "nuid": "e2fe5aad-6444-49cd-80d1-3c19e3c47287",
     "showTitle": false,
     "title": ""
    }
   },
   "source": [
    "Identificamos oito registros em que o tipo \"Full Chain\" foi preenchido de forma irregular, com o C maiúsculo. Vamos corrigir esses valores."
   ]
  },
  {
   "cell_type": "code",
   "execution_count": 0,
   "metadata": {
    "application/vnd.databricks.v1+cell": {
     "cellMetadata": {
      "byteLimit": 2048000,
      "rowLimit": 10000
     },
     "inputWidgets": {},
     "nuid": "86acdc92-58a5-400f-8d86-76984dfe37f7",
     "showTitle": false,
     "title": ""
    }
   },
   "outputs": [],
   "source": [
    "%sql\n",
    "UPDATE dt0051_dev.treinamento.iea_ccus_projects\n",
    "SET Project_type = 'Full chain'\n",
    "WHERE Project_type == 'Full Chain'"
   ]
  },
  {
   "cell_type": "markdown",
   "metadata": {
    "application/vnd.databricks.v1+cell": {
     "cellMetadata": {},
     "inputWidgets": {},
     "nuid": "6c8135e1-2cbd-42d3-8b76-cb4d0804012e",
     "showTitle": false,
     "title": ""
    }
   },
   "source": [
    "A saída mostra que oito linhas foram alteradas. Vamos refazer a consulta para nos certificar de que o problema foi corrigido."
   ]
  },
  {
   "cell_type": "code",
   "execution_count": 0,
   "metadata": {
    "application/vnd.databricks.v1+cell": {
     "cellMetadata": {
      "byteLimit": 2048000,
      "rowLimit": 10000
     },
     "inputWidgets": {},
     "nuid": "93a44bdf-3ca3-41fd-b5f4-0bde2920f14c",
     "showTitle": false,
     "title": ""
    }
   },
   "outputs": [],
   "source": [
    "%sql\n",
    "SELECT Project_type, count(1) AS Quantidade\n",
    "FROM dt0051_dev.treinamento.iea_ccus_projects\n",
    "WHERE Project_type NOT IN ('Full chain', 'Capture', 'Transport', 'Storage', 'T&S', 'CCU')\n",
    "GROUP BY Project_type"
   ]
  },
  {
   "cell_type": "markdown",
   "metadata": {
    "application/vnd.databricks.v1+cell": {
     "cellMetadata": {},
     "inputWidgets": {},
     "nuid": "71c6d1fe-053e-40b5-980c-b27bccce0a7b",
     "showTitle": false,
     "title": ""
    }
   },
   "source": [
    "Nenhum resultado foi retornado. Sendo assim, não há mais nenhum problema com a coluna Project_type."
   ]
  },
  {
   "cell_type": "markdown",
   "metadata": {
    "application/vnd.databricks.v1+cell": {
     "cellMetadata": {},
     "inputWidgets": {},
     "nuid": "3fc1fd8d-a5b5-4119-b633-d58f3a562189",
     "showTitle": false,
     "title": ""
    }
   },
   "source": [
    "## 6. Announcement\n",
    "O processo de ETL já assegurou que o valor desta coluna seja sempre um número inteiro.\n",
    "\n",
    "Ele deve ser também um ano válido, não pode ser futuro, e não pode ser num passado muito distante. Vamos verificar esses limites, escolhendo como margem mínima para a avaliação o ano de 1950, época em que a indústria de petróleo ainda começava a crescer mundialmente."
   ]
  },
  {
   "cell_type": "code",
   "execution_count": 0,
   "metadata": {
    "application/vnd.databricks.v1+cell": {
     "cellMetadata": {
      "byteLimit": 2048000,
      "rowLimit": 10000
     },
     "inputWidgets": {},
     "nuid": "d72bd84a-f234-40c9-a034-d630df28e9bc",
     "showTitle": false,
     "title": ""
    }
   },
   "outputs": [],
   "source": [
    "%sql\n",
    "SELECT count(1) AS `Datas de anúncio fora da margem`\n",
    "FROM dt0051_dev.treinamento.iea_ccus_projects\n",
    "WHERE Announcement < 1950 OR Announcement > 2024"
   ]
  },
  {
   "cell_type": "markdown",
   "metadata": {
    "application/vnd.databricks.v1+cell": {
     "cellMetadata": {
      "byteLimit": 2048000,
      "rowLimit": 10000
     },
     "inputWidgets": {},
     "nuid": "c71eab47-1d32-4249-8583-d3f56323c9aa",
     "showTitle": false,
     "title": ""
    }
   },
   "source": [
    "Nenhuma data foi encontrada fora da margem definida. Com isso, não há problemas de qualidade a resolver."
   ]
  },
  {
   "cell_type": "markdown",
   "metadata": {
    "application/vnd.databricks.v1+cell": {
     "cellMetadata": {},
     "inputWidgets": {},
     "nuid": "b1052a66-0ccc-4cb4-afc4-e8b53e8c643f",
     "showTitle": false,
     "title": ""
    }
   },
   "source": [
    "## 7. FID\n",
    "O processo de ETL já assegurou que o valor desta coluna seja sempre um número inteiro.\n",
    "\n",
    "A data pode ser futura, porém não pode ser um futuro muito distante. Daremos uma margem de 100 anos no futuro. Além disso, não faz sentido que seja anterior à data de anúncio do projeto."
   ]
  },
  {
   "cell_type": "code",
   "execution_count": 0,
   "metadata": {
    "application/vnd.databricks.v1+cell": {
     "cellMetadata": {
      "byteLimit": 2048000,
      "rowLimit": 10000
     },
     "inputWidgets": {},
     "nuid": "d7a0b65b-91f4-4360-bfbf-59565e31687b",
     "showTitle": false,
     "title": ""
    }
   },
   "outputs": [],
   "source": [
    "%sql\n",
    "SELECT count(1) AS `FIDs fora da margem`\n",
    "FROM dt0051_dev.treinamento.iea_ccus_projects\n",
    "WHERE FID > 2124 OR FID < Announcement"
   ]
  },
  {
   "cell_type": "markdown",
   "metadata": {
    "application/vnd.databricks.v1+cell": {
     "cellMetadata": {},
     "inputWidgets": {},
     "nuid": "3c5a919a-ef31-4596-91a7-7a1868c966d9",
     "showTitle": false,
     "title": ""
    }
   },
   "source": [
    "Nenhuma data foi encontrada fora da margem definida. Com isso, não há problemas de qualidade a resolver."
   ]
  },
  {
   "cell_type": "markdown",
   "metadata": {
    "application/vnd.databricks.v1+cell": {
     "cellMetadata": {},
     "inputWidgets": {},
     "nuid": "f68121be-3c09-4363-877a-a09630c46e66",
     "showTitle": false,
     "title": ""
    }
   },
   "source": [
    "## 8. Operation\n",
    "O processo de ETL já assegurou que o valor desta coluna seja sempre um número inteiro.\n",
    "\n",
    "A data pode ser futura, porém não pode ser um futuro muito distante. Daremos uma margem de 100 anos no futuro. Além disso, não faz sentido que seja anterior à data final de investimento do projeto."
   ]
  },
  {
   "cell_type": "code",
   "execution_count": 0,
   "metadata": {
    "application/vnd.databricks.v1+cell": {
     "cellMetadata": {
      "byteLimit": 2048000,
      "rowLimit": 10000
     },
     "inputWidgets": {},
     "nuid": "fbef8867-55f9-4889-ab44-14194a64f5b3",
     "showTitle": false,
     "title": ""
    }
   },
   "outputs": [],
   "source": [
    "%sql\n",
    "SELECT count(1) AS `Datas de operação fora da margem`\n",
    "FROM dt0051_dev.treinamento.iea_ccus_projects\n",
    "WHERE Operation > 2124 OR Operation < FID"
   ]
  },
  {
   "cell_type": "markdown",
   "metadata": {
    "application/vnd.databricks.v1+cell": {
     "cellMetadata": {},
     "inputWidgets": {},
     "nuid": "6a59fc40-038b-4065-86e4-721110e457a9",
     "showTitle": false,
     "title": ""
    }
   },
   "source": [
    "Nenhuma data foi encontrada fora da margem definida. Com isso, não há problemas de qualidade a resolver."
   ]
  },
  {
   "cell_type": "markdown",
   "metadata": {
    "application/vnd.databricks.v1+cell": {
     "cellMetadata": {},
     "inputWidgets": {},
     "nuid": "06e10e79-8d0c-414f-8ea7-8941276412c0",
     "showTitle": false,
     "title": ""
    }
   },
   "source": [
    "## 9. Suspension_decommissioning\n",
    "O processo de ETL já assegurou que o valor desta coluna seja sempre um número inteiro.\n",
    "\n",
    "A data pode ser futura, porém não pode ser um futuro muito distante. Daremos uma margem de 100 anos no futuro. Além disso, não faz sentido que seja anterior à data de início de operação do projeto."
   ]
  },
  {
   "cell_type": "code",
   "execution_count": 0,
   "metadata": {
    "application/vnd.databricks.v1+cell": {
     "cellMetadata": {
      "byteLimit": 2048000,
      "rowLimit": 10000
     },
     "inputWidgets": {},
     "nuid": "087f3c15-0d39-4e34-bf48-b47ab2fbac96",
     "showTitle": false,
     "title": ""
    }
   },
   "outputs": [],
   "source": [
    "%sql\n",
    "SELECT count(1) AS `Datas de descomissionamento fora da margem`\n",
    "FROM dt0051_dev.treinamento.iea_ccus_projects\n",
    "WHERE Suspension_decommissioning > 2124 OR Suspension_decommissioning < Operation"
   ]
  },
  {
   "cell_type": "markdown",
   "metadata": {
    "application/vnd.databricks.v1+cell": {
     "cellMetadata": {},
     "inputWidgets": {},
     "nuid": "62630457-d120-4a77-a7d1-08e9fae3750a",
     "showTitle": false,
     "title": ""
    }
   },
   "source": [
    "Nenhuma data foi encontrada fora da margem definida. Com isso, não há problemas de qualidade a resolver."
   ]
  },
  {
   "cell_type": "markdown",
   "metadata": {
    "application/vnd.databricks.v1+cell": {
     "cellMetadata": {},
     "inputWidgets": {},
     "nuid": "afd298a9-c251-434e-a5e2-1503271defda",
     "showTitle": false,
     "title": ""
    }
   },
   "source": [
    "## 10. Project_Status\n",
    "O status do projeto deve ser um dos valores categóricos permitidos. Vamos verificar."
   ]
  },
  {
   "cell_type": "code",
   "execution_count": 0,
   "metadata": {
    "application/vnd.databricks.v1+cell": {
     "cellMetadata": {
      "byteLimit": 2048000,
      "rowLimit": 10000
     },
     "inputWidgets": {},
     "nuid": "fa7d8406-c243-4cc2-83a1-1f03dc4041b5",
     "showTitle": false,
     "title": ""
    }
   },
   "outputs": [],
   "source": [
    "%sql\n",
    "SELECT Project_Status, count(1) AS `Quantidade`\n",
    "FROM dt0051_dev.treinamento.iea_ccus_projects\n",
    "WHERE Project_Status NOT IN ('Planned', 'Under construction', 'Operational', 'Suspended', 'Decommissioned')\n",
    "GROUP BY Project_Status"
   ]
  },
  {
   "cell_type": "markdown",
   "metadata": {
    "application/vnd.databricks.v1+cell": {
     "cellMetadata": {},
     "inputWidgets": {},
     "nuid": "70fb3569-e324-442a-823a-d4d6220b84dd",
     "showTitle": false,
     "title": ""
    }
   },
   "source": [
    "Foram encontrados 5 projetos com o status \"Suspended/cancelled/decommissioned\". Neste caso, como não sabemos qual seria o status correto, não é possível corrigir."
   ]
  },
  {
   "cell_type": "markdown",
   "metadata": {
    "application/vnd.databricks.v1+cell": {
     "cellMetadata": {},
     "inputWidgets": {},
     "nuid": "2c8a9336-4dcf-4cae-8f74-b99851da7beb",
     "showTitle": false,
     "title": ""
    }
   },
   "source": [
    "## 11. Project_phase\n",
    "O processo de ETL já assegurou que o valor desta coluna seja sempre um número inteiro.\n",
    "\n",
    "Conforme definido no catálogo, deve ser no mínimo 1. Vamos verificar."
   ]
  },
  {
   "cell_type": "code",
   "execution_count": 0,
   "metadata": {
    "application/vnd.databricks.v1+cell": {
     "cellMetadata": {
      "byteLimit": 2048000,
      "rowLimit": 10000
     },
     "inputWidgets": {},
     "nuid": "c7d4dc9d-374e-4e54-aff5-2d942fd1350c",
     "showTitle": false,
     "title": ""
    }
   },
   "outputs": [],
   "source": [
    "%sql\n",
    "SELECT Project_phase, count(1) AS `Quantidade`\n",
    "FROM dt0051_dev.treinamento.iea_ccus_projects\n",
    "WHERE Project_phase < 1\n",
    "GROUP BY Project_phase"
   ]
  },
  {
   "cell_type": "markdown",
   "metadata": {
    "application/vnd.databricks.v1+cell": {
     "cellMetadata": {},
     "inputWidgets": {},
     "nuid": "e2a927ed-3f4b-4134-9cd0-257cedd0e374",
     "showTitle": false,
     "title": ""
    }
   },
   "source": [
    "Não encontramos problemas nesta coluna."
   ]
  },
  {
   "cell_type": "markdown",
   "metadata": {
    "application/vnd.databricks.v1+cell": {
     "cellMetadata": {},
     "inputWidgets": {},
     "nuid": "c6b8a92d-14cd-482e-8c39-8881af1b7863",
     "showTitle": false,
     "title": ""
    }
   },
   "source": [
    "## 12. Announced_capacity_low_Mt_CO2_yr\n",
    "O processo de ETL já assegurou que o valor desta coluna seja sempre um número decimal.\n",
    "\n",
    "Vamos verificar se há valores negativos."
   ]
  },
  {
   "cell_type": "code",
   "execution_count": 0,
   "metadata": {
    "application/vnd.databricks.v1+cell": {
     "cellMetadata": {
      "byteLimit": 2048000,
      "rowLimit": 10000
     },
     "inputWidgets": {},
     "nuid": "f7a5499f-fd07-4df7-aa5c-ddf4c3b64836",
     "showTitle": false,
     "title": ""
    }
   },
   "outputs": [],
   "source": [
    "%sql\n",
    "SELECT ID, Announced_capacity_low_Mt_CO2_yr\n",
    "FROM dt0051_dev.treinamento.iea_ccus_projects\n",
    "WHERE Announced_capacity_low_Mt_CO2_yr < 0"
   ]
  },
  {
   "cell_type": "markdown",
   "metadata": {
    "application/vnd.databricks.v1+cell": {
     "cellMetadata": {},
     "inputWidgets": {},
     "nuid": "214aaf91-c62d-4a94-b1ca-f30cdf03b159",
     "showTitle": false,
     "title": ""
    }
   },
   "source": [
    "Não encontramos problemas nesta coluna."
   ]
  },
  {
   "cell_type": "markdown",
   "metadata": {
    "application/vnd.databricks.v1+cell": {
     "cellMetadata": {},
     "inputWidgets": {},
     "nuid": "7e104626-baff-499b-81e2-b0248a7deac6",
     "showTitle": false,
     "title": ""
    }
   },
   "source": [
    "## 13. Announced_capacity_high_Mt_CO2_yr\n",
    "O processo de ETL já assegurou que o valor desta coluna seja sempre um número decimal.\n",
    "\n",
    "Vamos verificar se há valores negativos."
   ]
  },
  {
   "cell_type": "code",
   "execution_count": 0,
   "metadata": {
    "application/vnd.databricks.v1+cell": {
     "cellMetadata": {
      "byteLimit": 2048000,
      "rowLimit": 10000
     },
     "inputWidgets": {},
     "nuid": "a0740168-34c4-4e51-b56c-ba93fbd70840",
     "showTitle": false,
     "title": ""
    }
   },
   "outputs": [],
   "source": [
    "%sql\n",
    "SELECT ID, Announced_capacity_high_Mt_CO2_yr\n",
    "FROM dt0051_dev.treinamento.iea_ccus_projects\n",
    "WHERE Announced_capacity_high_Mt_CO2_yr < 0"
   ]
  },
  {
   "cell_type": "markdown",
   "metadata": {
    "application/vnd.databricks.v1+cell": {
     "cellMetadata": {},
     "inputWidgets": {},
     "nuid": "b4a9e8b6-b512-4295-8da8-702cec001ef3",
     "showTitle": false,
     "title": ""
    }
   },
   "source": [
    "Não encontramos problemas nesta coluna."
   ]
  },
  {
   "cell_type": "markdown",
   "metadata": {
    "application/vnd.databricks.v1+cell": {
     "cellMetadata": {},
     "inputWidgets": {},
     "nuid": "09351461-8450-4ddc-b1a6-7ceb2204d790",
     "showTitle": false,
     "title": ""
    }
   },
   "source": [
    "## 14. Estimated_capacity_by_IEA_Mt_CO2_yr\n",
    "O processo de ETL já assegurou que o valor desta coluna seja sempre um número decimal.\n",
    "\n",
    "Vamos verificar se há valores negativos."
   ]
  },
  {
   "cell_type": "code",
   "execution_count": 0,
   "metadata": {
    "application/vnd.databricks.v1+cell": {
     "cellMetadata": {
      "byteLimit": 2048000,
      "rowLimit": 10000
     },
     "inputWidgets": {},
     "nuid": "292f8446-aff2-42ec-a063-cc25239aa1e7",
     "showTitle": false,
     "title": ""
    }
   },
   "outputs": [],
   "source": [
    "%sql\n",
    "SELECT ID, Estimated_capacity_by_IEA_Mt_CO2_yr\n",
    "FROM dt0051_dev.treinamento.iea_ccus_projects\n",
    "WHERE Estimated_capacity_by_IEA_Mt_CO2_yr < 0"
   ]
  },
  {
   "cell_type": "markdown",
   "metadata": {
    "application/vnd.databricks.v1+cell": {
     "cellMetadata": {},
     "inputWidgets": {},
     "nuid": "389e89de-d0f1-4c9e-b69f-d508e29ee5f3",
     "showTitle": false,
     "title": ""
    }
   },
   "source": [
    "Não encontramos problemas nesta coluna."
   ]
  },
  {
   "cell_type": "markdown",
   "metadata": {
    "application/vnd.databricks.v1+cell": {
     "cellMetadata": {},
     "inputWidgets": {},
     "nuid": "d7ddfa9b-4f88-46cc-8581-4e88e4649793",
     "showTitle": false,
     "title": ""
    }
   },
   "source": [
    "## 15. Sector\n",
    "O setor do projeto deve ser um dos valores categóricos permitidos. Vamos verificar."
   ]
  },
  {
   "cell_type": "code",
   "execution_count": 0,
   "metadata": {
    "application/vnd.databricks.v1+cell": {
     "cellMetadata": {
      "byteLimit": 2048000,
      "rowLimit": 10000
     },
     "inputWidgets": {},
     "nuid": "42816af0-4689-4ea2-9144-c017f74c0176",
     "showTitle": false,
     "title": ""
    }
   },
   "outputs": [],
   "source": [
    "%sql\n",
    "SELECT Sector, count(1) AS Quantidade\n",
    "FROM dt0051_dev.treinamento.iea_ccus_projects\n",
    "WHERE Sector NOT IN ('Power and heat', 'Natural gas processing/LNG', 'Biofuels', 'Hydrogen or ammonia', 'Other fuel transformation', 'Cement', 'Iron and steel', 'Chemicals', 'Other industry', 'DAC', 'Transport', 'Storage', 'T&S')\n",
    "GROUP BY Sector"
   ]
  },
  {
   "cell_type": "markdown",
   "metadata": {
    "application/vnd.databricks.v1+cell": {
     "cellMetadata": {},
     "inputWidgets": {},
     "nuid": "22532cbf-e105-4547-bfeb-9f474407b48f",
     "showTitle": false,
     "title": ""
    }
   },
   "source": [
    "Não encontramos problemas nesta coluna."
   ]
  },
  {
   "cell_type": "markdown",
   "metadata": {
    "application/vnd.databricks.v1+cell": {
     "cellMetadata": {},
     "inputWidgets": {},
     "nuid": "e26d646a-c14f-4b6a-84b2-7ff04ba20fb4",
     "showTitle": false,
     "title": ""
    }
   },
   "source": [
    "## 16. Fate_of_carbon\n",
    "O destino do carbono deve ser um dos valores categóricos permitidos. Vamos verificar."
   ]
  },
  {
   "cell_type": "code",
   "execution_count": 0,
   "metadata": {
    "application/vnd.databricks.v1+cell": {
     "cellMetadata": {
      "byteLimit": 2048000,
      "rowLimit": 10000
     },
     "inputWidgets": {},
     "nuid": "a4052ad9-298b-4faa-b569-8a9875c5668b",
     "showTitle": false,
     "title": ""
    }
   },
   "outputs": [],
   "source": [
    "%sql\n",
    "SELECT Fate_of_carbon, count(1) AS Quantidade\n",
    "FROM dt0051_dev.treinamento.iea_ccus_projects\n",
    "WHERE Fate_of_carbon NOT IN ('Dedicated storage', 'EOR', 'Use', 'Unknown/unspecified')\n",
    "GROUP BY Fate_of_carbon"
   ]
  },
  {
   "cell_type": "markdown",
   "metadata": {
    "application/vnd.databricks.v1+cell": {
     "cellMetadata": {},
     "inputWidgets": {},
     "nuid": "679198da-230e-4114-8b2d-a3a690d464c8",
     "showTitle": false,
     "title": ""
    }
   },
   "source": [
    "Encontramos um novo valor, \"Mixed\", em alguns registros. Não há como saber se algum valor do catálogo seria adequado para substituição, portanto não é possível resolver."
   ]
  },
  {
   "cell_type": "markdown",
   "metadata": {
    "application/vnd.databricks.v1+cell": {
     "cellMetadata": {},
     "inputWidgets": {},
     "nuid": "5e540cea-5888-4689-9e4c-4be94853c0a6",
     "showTitle": false,
     "title": ""
    }
   },
   "source": [
    "## 17. Part_of_CCUS_hub\n",
    "Este campo é um texto livre e não obrigatório. Vamos apenas descobrir qual fração dos valores é vazia."
   ]
  },
  {
   "cell_type": "code",
   "execution_count": 0,
   "metadata": {
    "application/vnd.databricks.v1+cell": {
     "cellMetadata": {
      "byteLimit": 2048000,
      "rowLimit": 10000
     },
     "inputWidgets": {},
     "nuid": "c090f0df-aaec-4c55-852a-a5bca0eb5653",
     "showTitle": false,
     "title": ""
    }
   },
   "outputs": [],
   "source": [
    "%sql\n",
    "SELECT (count(1) - count(Part_of_CCUS_hub))/count(1)*100 AS `Part_of_CCUS_hub %vazio`\n",
    "FROM dt0051_dev.treinamento.iea_ccus_projects"
   ]
  },
  {
   "cell_type": "markdown",
   "metadata": {
    "application/vnd.databricks.v1+cell": {
     "cellMetadata": {},
     "inputWidgets": {},
     "nuid": "9bf03881-3bf1-4027-8006-a77d9d387ee8",
     "showTitle": false,
     "title": ""
    }
   },
   "source": [
    "Vimos que quase metade dos valores estão vazios. Porém, não há problemas de qualidade a resolver."
   ]
  },
  {
   "cell_type": "markdown",
   "metadata": {
    "application/vnd.databricks.v1+cell": {
     "cellMetadata": {},
     "inputWidgets": {},
     "nuid": "28461a96-27e7-4d6c-a72a-b32661d6b9f5",
     "showTitle": false,
     "title": ""
    }
   },
   "source": [
    "## 18. Region\n",
    "Este campo é um texto livre. Vamos descobrir se há valores vazios."
   ]
  },
  {
   "cell_type": "code",
   "execution_count": 0,
   "metadata": {
    "application/vnd.databricks.v1+cell": {
     "cellMetadata": {
      "byteLimit": 2048000,
      "rowLimit": 10000
     },
     "inputWidgets": {},
     "nuid": "04689329-9723-4eae-9c76-06ffd3aeb583",
     "showTitle": false,
     "title": ""
    }
   },
   "outputs": [],
   "source": [
    "%sql\n",
    "SELECT ID, Region\n",
    "FROM dt0051_dev.treinamento.iea_ccus_projects\n",
    "WHERE Region IS NULL"
   ]
  },
  {
   "cell_type": "markdown",
   "metadata": {
    "application/vnd.databricks.v1+cell": {
     "cellMetadata": {},
     "inputWidgets": {},
     "nuid": "7e82a456-0d22-4008-bb43-63b89991f4ee",
     "showTitle": false,
     "title": ""
    }
   },
   "source": [
    "Não há valores vazios na coluna."
   ]
  },
  {
   "cell_type": "markdown",
   "metadata": {
    "application/vnd.databricks.v1+cell": {
     "cellMetadata": {},
     "inputWidgets": {},
     "nuid": "16a8a0c0-ba5b-41a3-9d82-a8a4bd1b0ce3",
     "showTitle": false,
     "title": ""
    }
   },
   "source": [
    "## 19. Ref_1\n",
    "A referência deve ser um URL válido. Vamos avaliar esse requisito verificando se há valores que não começam com \"http\"."
   ]
  },
  {
   "cell_type": "code",
   "execution_count": 0,
   "metadata": {
    "application/vnd.databricks.v1+cell": {
     "cellMetadata": {
      "byteLimit": 2048000,
      "rowLimit": 10000
     },
     "inputWidgets": {},
     "nuid": "a2c0c7ff-0fc7-43b3-990a-3c1be1ec2090",
     "showTitle": false,
     "title": ""
    }
   },
   "outputs": [],
   "source": [
    "%sql\n",
    "SELECT Ref_1\n",
    "FROM dt0051_dev.treinamento.iea_ccus_projects\n",
    "WHERE Ref_1 NOT LIKE 'http%'"
   ]
  },
  {
   "cell_type": "markdown",
   "metadata": {
    "application/vnd.databricks.v1+cell": {
     "cellMetadata": {},
     "inputWidgets": {},
     "nuid": "2f051820-3ad4-46c9-81c1-400ac5386e68",
     "showTitle": false,
     "title": ""
    }
   },
   "source": [
    "Encontramos um valor que não é um URL válido.\n",
    "\n",
    "Pesquisando essa referência na internet, foi possível obter o link correto. Vamos inseri-lo no campo."
   ]
  },
  {
   "cell_type": "code",
   "execution_count": 0,
   "metadata": {
    "application/vnd.databricks.v1+cell": {
     "cellMetadata": {
      "byteLimit": 2048000,
      "rowLimit": 10000
     },
     "inputWidgets": {},
     "nuid": "b5528426-c7d9-49f4-a5e1-27185763aeb9",
     "showTitle": false,
     "title": ""
    }
   },
   "outputs": [],
   "source": [
    "%sql\n",
    "UPDATE dt0051_dev.treinamento.iea_ccus_projects\n",
    "SET Ref_1 = 'https://www.nstauthority.co.uk/news-publications/net-zero-boost-as-carbon-storage-licences-accepted/'\n",
    "WHERE Ref_1 == 'North Sea Transition Authority (NSTA): Net zero boost as carbon storage licences accepted - 2023 - News - News & <br/>publications (nstauthority.co.uk)'"
   ]
  },
  {
   "cell_type": "markdown",
   "metadata": {
    "application/vnd.databricks.v1+cell": {
     "cellMetadata": {},
     "inputWidgets": {},
     "nuid": "49326f79-2d3d-4613-973e-e05a7765600b",
     "showTitle": false,
     "title": ""
    }
   },
   "source": [
    "Agora vamos refazer a consulta para certificar que não haja mais problemas."
   ]
  },
  {
   "cell_type": "code",
   "execution_count": 0,
   "metadata": {
    "application/vnd.databricks.v1+cell": {
     "cellMetadata": {
      "byteLimit": 2048000,
      "rowLimit": 10000
     },
     "inputWidgets": {},
     "nuid": "34dd3d8f-9b9c-4c95-b921-eceb9c793c41",
     "showTitle": false,
     "title": ""
    }
   },
   "outputs": [],
   "source": [
    "%sql\n",
    "SELECT Ref_1\n",
    "FROM dt0051_dev.treinamento.iea_ccus_projects\n",
    "WHERE Ref_1 NOT LIKE 'http%'"
   ]
  },
  {
   "cell_type": "markdown",
   "metadata": {
    "application/vnd.databricks.v1+cell": {
     "cellMetadata": {},
     "inputWidgets": {},
     "nuid": "b753b463-db48-48ab-9415-45ac11879a25",
     "showTitle": false,
     "title": ""
    }
   },
   "source": [
    "Não há mais problemas de qualidade nesta coluna."
   ]
  },
  {
   "cell_type": "markdown",
   "metadata": {
    "application/vnd.databricks.v1+cell": {
     "cellMetadata": {},
     "inputWidgets": {},
     "nuid": "3f570074-2187-46e2-bf82-beedc99ac7c0",
     "showTitle": false,
     "title": ""
    }
   },
   "source": [
    "## 20. Ref_2\n",
    "A referência deve ser um URL válido. Vamos avaliar esse requisito verificando se há valores que não começam com \"http\"."
   ]
  },
  {
   "cell_type": "code",
   "execution_count": 0,
   "metadata": {
    "application/vnd.databricks.v1+cell": {
     "cellMetadata": {
      "byteLimit": 2048000,
      "rowLimit": 10000
     },
     "inputWidgets": {},
     "nuid": "331b7bdd-fc00-4439-b70f-65d08d50575c",
     "showTitle": false,
     "title": ""
    }
   },
   "outputs": [],
   "source": [
    "%sql\n",
    "SELECT Ref_2\n",
    "FROM dt0051_dev.treinamento.iea_ccus_projects\n",
    "WHERE Ref_2 NOT LIKE 'http%'"
   ]
  },
  {
   "cell_type": "markdown",
   "metadata": {
    "application/vnd.databricks.v1+cell": {
     "cellMetadata": {},
     "inputWidgets": {},
     "nuid": "91662319-a83f-41aa-add8-823ddc39b93a",
     "showTitle": false,
     "title": ""
    }
   },
   "source": [
    "Os dois primeiros valores são referências a arquivos PDF, aparentemente num endereço local acessível ao autor da planilha. Não há como resolver.\n",
    "\n",
    "No terceiro caso, foi possível obter o link correto. Vamos inseri-lo."
   ]
  },
  {
   "cell_type": "code",
   "execution_count": 0,
   "metadata": {
    "application/vnd.databricks.v1+cell": {
     "cellMetadata": {
      "byteLimit": 2048000,
      "rowLimit": 10000
     },
     "inputWidgets": {},
     "nuid": "7cd4febd-a537-40ab-b93b-1bef7e34af0c",
     "showTitle": false,
     "title": ""
    }
   },
   "outputs": [],
   "source": [
    "%sql\n",
    "UPDATE dt0051_dev.treinamento.iea_ccus_projects\n",
    "SET Ref_2 = 'https://www.marketscreener.com/quote/stock/JAPAN-PETROLEUM-EXPLORATI-6496655/news/Japan-Petroleum-Exploration-Entrust-a-Study-in-East-Niigata-Area-as-the-Business-Feasibility-St-44542777/'\n",
    "WHERE Ref_2 == 'Japan Petroleum Exploration : Entrust a Study in East-Niigata Area as the “Business Feasibility Study on Japanese Advanced CCS Project” in FY2023 by JOGMEC -August 08, 2023 at 01:06 am EDT | MarketScreener'"
   ]
  },
  {
   "cell_type": "markdown",
   "metadata": {
    "application/vnd.databricks.v1+cell": {
     "cellMetadata": {},
     "inputWidgets": {},
     "nuid": "afa19033-cd30-46d6-94ed-3604463e7c4f",
     "showTitle": false,
     "title": ""
    }
   },
   "source": [
    "Agora vamos refazer a consulta para certificar que não haja outros problemas."
   ]
  },
  {
   "cell_type": "code",
   "execution_count": 0,
   "metadata": {
    "application/vnd.databricks.v1+cell": {
     "cellMetadata": {
      "byteLimit": 2048000,
      "rowLimit": 10000
     },
     "inputWidgets": {},
     "nuid": "a3751c63-88c2-4375-83ad-f5575cfdbf38",
     "showTitle": false,
     "title": ""
    }
   },
   "outputs": [],
   "source": [
    "%sql\n",
    "SELECT Ref_2\n",
    "FROM dt0051_dev.treinamento.iea_ccus_projects\n",
    "WHERE Ref_2 NOT LIKE 'http%'"
   ]
  },
  {
   "cell_type": "markdown",
   "metadata": {
    "application/vnd.databricks.v1+cell": {
     "cellMetadata": {},
     "inputWidgets": {},
     "nuid": "a1722cdd-a2ca-4032-97b0-9d6d9cefabed",
     "showTitle": false,
     "title": ""
    }
   },
   "source": [
    "Não há mais problemas de qualidade que possam ser corrigidos nesta coluna."
   ]
  },
  {
   "cell_type": "markdown",
   "metadata": {
    "application/vnd.databricks.v1+cell": {
     "cellMetadata": {},
     "inputWidgets": {},
     "nuid": "ecd33eb1-98d7-4145-aa3a-d9bdc17e2ba1",
     "showTitle": false,
     "title": ""
    }
   },
   "source": [
    "## 21. Ref_3\n",
    "A referência deve ser um URL válido. Vamos avaliar esse requisito verificando se há valores que não começam com \"http\"."
   ]
  },
  {
   "cell_type": "code",
   "execution_count": 0,
   "metadata": {
    "application/vnd.databricks.v1+cell": {
     "cellMetadata": {
      "byteLimit": 2048000,
      "rowLimit": 10000
     },
     "inputWidgets": {},
     "nuid": "a8c41844-3141-4e62-806c-1ad0ce29e7ca",
     "showTitle": false,
     "title": ""
    }
   },
   "outputs": [],
   "source": [
    "%sql\n",
    "SELECT Ref_3\n",
    "FROM dt0051_dev.treinamento.iea_ccus_projects\n",
    "WHERE Ref_3 NOT LIKE 'http%'"
   ]
  },
  {
   "cell_type": "markdown",
   "metadata": {
    "application/vnd.databricks.v1+cell": {
     "cellMetadata": {},
     "inputWidgets": {},
     "nuid": "c3280f74-5918-4a0e-a83d-a0ae080c5432",
     "showTitle": false,
     "title": ""
    }
   },
   "source": [
    "Não há problemas de qualidade nesta coluna."
   ]
  },
  {
   "cell_type": "markdown",
   "metadata": {
    "application/vnd.databricks.v1+cell": {
     "cellMetadata": {},
     "inputWidgets": {},
     "nuid": "3d799663-4cfb-4d9f-9881-c73ba4956135",
     "showTitle": false,
     "title": ""
    }
   },
   "source": [
    "## 22. Ref_4\n",
    "A referência deve ser um URL válido. Vamos avaliar esse requisito verificando se há valores que não começam com \"http\"."
   ]
  },
  {
   "cell_type": "code",
   "execution_count": 0,
   "metadata": {
    "application/vnd.databricks.v1+cell": {
     "cellMetadata": {
      "byteLimit": 2048000,
      "rowLimit": 10000
     },
     "inputWidgets": {},
     "nuid": "30a80efc-0d53-40cc-b3a3-002c7829ff62",
     "showTitle": false,
     "title": ""
    }
   },
   "outputs": [],
   "source": [
    "%sql\n",
    "SELECT Ref_4\n",
    "FROM dt0051_dev.treinamento.iea_ccus_projects\n",
    "WHERE Ref_4 NOT LIKE 'http%'"
   ]
  },
  {
   "cell_type": "markdown",
   "metadata": {
    "application/vnd.databricks.v1+cell": {
     "cellMetadata": {},
     "inputWidgets": {},
     "nuid": "5c124d5c-f642-44af-84a7-d3a96244bd4e",
     "showTitle": false,
     "title": ""
    }
   },
   "source": [
    "Não há problemas de qualidade nesta coluna."
   ]
  },
  {
   "cell_type": "markdown",
   "metadata": {
    "application/vnd.databricks.v1+cell": {
     "cellMetadata": {},
     "inputWidgets": {},
     "nuid": "7830fad1-bbda-4c0c-9f1b-595e2a4ebadb",
     "showTitle": false,
     "title": ""
    }
   },
   "source": [
    "## 23. Ref_5\n",
    "A referência deve ser um URL válido. Vamos avaliar esse requisito verificando se há valores que não começam com \"http\"."
   ]
  },
  {
   "cell_type": "code",
   "execution_count": 0,
   "metadata": {
    "application/vnd.databricks.v1+cell": {
     "cellMetadata": {
      "byteLimit": 2048000,
      "rowLimit": 10000
     },
     "inputWidgets": {},
     "nuid": "60184ccc-339e-4cc2-b0ea-375df6d783d2",
     "showTitle": false,
     "title": ""
    }
   },
   "outputs": [],
   "source": [
    "%sql\n",
    "SELECT Ref_5\n",
    "FROM dt0051_dev.treinamento.iea_ccus_projects\n",
    "WHERE Ref_5 NOT LIKE 'http%'"
   ]
  },
  {
   "cell_type": "markdown",
   "metadata": {
    "application/vnd.databricks.v1+cell": {
     "cellMetadata": {},
     "inputWidgets": {},
     "nuid": "463e37ce-b3ec-4062-9bec-b3e09652ee79",
     "showTitle": false,
     "title": ""
    }
   },
   "source": [
    "Não há problemas de qualidade nesta coluna."
   ]
  },
  {
   "cell_type": "markdown",
   "metadata": {
    "application/vnd.databricks.v1+cell": {
     "cellMetadata": {},
     "inputWidgets": {},
     "nuid": "c9e8a95d-2161-46cb-9595-250ef3f1fdc5",
     "showTitle": false,
     "title": ""
    }
   },
   "source": [
    "## 24. Ref_6\n",
    "A referência deve ser um URL válido. Vamos avaliar esse requisito verificando se há valores que não começam com \"http\"."
   ]
  },
  {
   "cell_type": "code",
   "execution_count": 0,
   "metadata": {
    "application/vnd.databricks.v1+cell": {
     "cellMetadata": {
      "byteLimit": 2048000,
      "rowLimit": 10000
     },
     "inputWidgets": {},
     "nuid": "17aa82e4-a933-4344-8a0b-1b1afe3f5b95",
     "showTitle": false,
     "title": ""
    }
   },
   "outputs": [],
   "source": [
    "%sql\n",
    "SELECT Ref_6\n",
    "FROM dt0051_dev.treinamento.iea_ccus_projects\n",
    "WHERE Ref_6 NOT LIKE 'http%'"
   ]
  },
  {
   "cell_type": "markdown",
   "metadata": {
    "application/vnd.databricks.v1+cell": {
     "cellMetadata": {},
     "inputWidgets": {},
     "nuid": "8c298283-0df8-4519-bfbc-3df7ecb28872",
     "showTitle": false,
     "title": ""
    }
   },
   "source": [
    "Não há problemas de qualidade nesta coluna."
   ]
  },
  {
   "cell_type": "markdown",
   "metadata": {
    "application/vnd.databricks.v1+cell": {
     "cellMetadata": {},
     "inputWidgets": {},
     "nuid": "d21d9bfe-4e38-4aaa-9d24-efbeba2d9575",
     "showTitle": false,
     "title": ""
    }
   },
   "source": [
    "## 25. Ref_7\n",
    "A referência deve ser um URL válido. Vamos avaliar esse requisito verificando se há valores que não começam com \"http\"."
   ]
  },
  {
   "cell_type": "code",
   "execution_count": 0,
   "metadata": {
    "application/vnd.databricks.v1+cell": {
     "cellMetadata": {
      "byteLimit": 2048000,
      "rowLimit": 10000
     },
     "inputWidgets": {},
     "nuid": "5eb6020b-44a8-407f-92fe-5ddda1c41d48",
     "showTitle": false,
     "title": ""
    }
   },
   "outputs": [],
   "source": [
    "%sql\n",
    "SELECT Ref_7\n",
    "FROM dt0051_dev.treinamento.iea_ccus_projects\n",
    "WHERE Ref_7 NOT LIKE 'http%'"
   ]
  },
  {
   "cell_type": "markdown",
   "metadata": {
    "application/vnd.databricks.v1+cell": {
     "cellMetadata": {},
     "inputWidgets": {},
     "nuid": "184eed72-cf6e-499d-a07c-baeac66aa203",
     "showTitle": false,
     "title": ""
    }
   },
   "source": [
    "Não há problemas de qualidade nesta coluna."
   ]
  },
  {
   "cell_type": "markdown",
   "metadata": {
    "application/vnd.databricks.v1+cell": {
     "cellMetadata": {},
     "inputWidgets": {},
     "nuid": "0a15179e-c2d0-469a-a24a-bc914afa3114",
     "showTitle": false,
     "title": ""
    }
   },
   "source": [
    "# Próxima etapa\n",
    "Finalizada a etapa de análise de qualidade, partiremos para a solução do problema.\n",
    "\n",
    "Acesse o notebook correspondente no link a seguir.\n",
    "\n",
    "https://github.com/samuelrubert/pucrio-mvp-engenhariadados/blob/main/Notebooks/CCUS_etapa3_solucao.ipynb"
   ]
  }
 ],
 "metadata": {
  "application/vnd.databricks.v1+notebook": {
   "dashboards": [],
   "environmentMetadata": null,
   "language": "python",
   "notebookMetadata": {
    "mostRecentlyExecutedCommandWithImplicitDF": {
     "commandId": -1,
     "dataframes": [
      "_sqldf"
     ]
    },
    "pythonIndentUnit": 4
   },
   "notebookName": "CCUS_etapa2_qualidade",
   "widgets": {}
  }
 },
 "nbformat": 4,
 "nbformat_minor": 0
}
