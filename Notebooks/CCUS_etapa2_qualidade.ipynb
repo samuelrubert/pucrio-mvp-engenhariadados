{
 "cells": [
  {
   "cell_type": "markdown",
   "metadata": {
    "application/vnd.databricks.v1+cell": {
     "cellMetadata": {},
     "inputWidgets": {},
     "nuid": "bc9f6ccd-d2d8-45e3-8743-403ca11a5ec1",
     "showTitle": false,
     "title": ""
    }
   },
   "source": [
    "# Análise de qualidade dos dados"
   ]
  },
  {
   "cell_type": "markdown",
   "metadata": {
    "application/vnd.databricks.v1+cell": {
     "cellMetadata": {
      "byteLimit": 2048000,
      "rowLimit": 10000
     },
     "inputWidgets": {},
     "nuid": "2464a71f-9680-4dd7-84e8-3325f7bd432f",
     "showTitle": false,
     "title": ""
    }
   },
   "source": [
    "Aqui faremos a etapa de análise de qualidade de cada atributo do conjunto de dados. Faremos isso utilizando consultas SQL baseadas nas características de cada atributo registradas no catálogo de dados."
   ]
  },
  {
   "cell_type": "markdown",
   "metadata": {
    "application/vnd.databricks.v1+cell": {
     "cellMetadata": {
      "byteLimit": 2048000,
      "rowLimit": 10000
     },
     "inputWidgets": {},
     "nuid": "261f8a09-f56f-48a7-8124-a2520d617f8a",
     "showTitle": false,
     "title": ""
    }
   },
   "source": [
    "## 1. Project_name\n",
    "O nome do projeto é um texto livre, porém não pode ser vazio.\n",
    "\n",
    "Vamos verificar se há linhas em que o nome do projeto seja nulo."
   ]
  },
  {
   "cell_type": "code",
   "execution_count": 0,
   "metadata": {
    "application/vnd.databricks.v1+cell": {
     "cellMetadata": {
      "byteLimit": 2048000,
      "implicitDf": true,
      "rowLimit": 10000
     },
     "inputWidgets": {},
     "nuid": "c77fa300-d03e-427f-b568-5e33aa9c7e19",
     "showTitle": false,
     "title": ""
    }
   },
   "outputs": [],
   "source": [
    "%sql\n",
    "SELECT count(1) AS `Nomes de projeto vazios`\n",
    "FROM dt0051_dev.treinamento.iea_ccus_projects\n",
    "WHERE Project_name IS NULL"
   ]
  },
  {
   "cell_type": "markdown",
   "metadata": {
    "application/vnd.databricks.v1+cell": {
     "cellMetadata": {
      "byteLimit": 2048000,
      "rowLimit": 10000
     },
     "inputWidgets": {},
     "nuid": "c24ddb00-428e-49a4-93a3-d734b980491a",
     "showTitle": false,
     "title": ""
    }
   },
   "source": [
    "Não há campos vazios. Dessa forma, não se verificou problemas na coluna."
   ]
  },
  {
   "cell_type": "markdown",
   "metadata": {
    "application/vnd.databricks.v1+cell": {
     "cellMetadata": {},
     "inputWidgets": {},
     "nuid": "4a951e3c-1a12-46de-bb9a-274891aebc8a",
     "showTitle": false,
     "title": ""
    }
   },
   "source": [
    "## 2. ID\n",
    "O processo de ETL já assegurou que o ID seja sempre um número inteiro.\n",
    "\n",
    "Além disso, ele deve ser único. Vamos verificar."
   ]
  },
  {
   "cell_type": "code",
   "execution_count": 0,
   "metadata": {
    "application/vnd.databricks.v1+cell": {
     "cellMetadata": {
      "byteLimit": 2048000,
      "rowLimit": 10000
     },
     "inputWidgets": {},
     "nuid": "562ac821-a8c4-4ec5-b9ff-acfe31580770",
     "showTitle": false,
     "title": ""
    }
   },
   "outputs": [],
   "source": [
    "%sql\n",
    "SELECT ID AS `ID repetido`, count(ID) AS Quantidade\n",
    "FROM dt0051_dev.treinamento.iea_ccus_projects\n",
    "GROUP BY ID\n",
    "HAVING count(ID) > 1"
   ]
  },
  {
   "cell_type": "markdown",
   "metadata": {
    "application/vnd.databricks.v1+cell": {
     "cellMetadata": {},
     "inputWidgets": {},
     "nuid": "589e8d35-23c4-4f59-9652-b701f60d5325",
     "showTitle": false,
     "title": ""
    }
   },
   "source": [
    "Encontramos três IDs que se repetem na tabela. Vamos olhar para esses dados."
   ]
  },
  {
   "cell_type": "code",
   "execution_count": 0,
   "metadata": {
    "application/vnd.databricks.v1+cell": {
     "cellMetadata": {
      "byteLimit": 2048000,
      "rowLimit": 10000
     },
     "inputWidgets": {},
     "nuid": "c579fecc-bf47-45f1-bc01-32a0d603fa6f",
     "showTitle": false,
     "title": ""
    }
   },
   "outputs": [],
   "source": [
    "%sql\n",
    "SELECT *\n",
    "FROM dt0051_dev.treinamento.iea_ccus_projects\n",
    "WHERE ID IN (1103, 365, 863)\n",
    "ORDER BY ID ASC"
   ]
  },
  {
   "cell_type": "markdown",
   "metadata": {
    "application/vnd.databricks.v1+cell": {
     "cellMetadata": {},
     "inputWidgets": {},
     "nuid": "ceb937e4-6e66-477b-9ca8-664fd871015b",
     "showTitle": false,
     "title": ""
    }
   },
   "source": [
    "Vamos que os dados não são idênticos, porém a similaridade dos dados indica que alguns dos elementos duplicados possam estar relacionados, ou até mesmo ser uma continuação do projeto.\n",
    "\n",
    "Não conhecemos plenamente a semântica da repetição do ID, por isso não alteraremos os dados."
   ]
  },
  {
   "cell_type": "markdown",
   "metadata": {
    "application/vnd.databricks.v1+cell": {
     "cellMetadata": {},
     "inputWidgets": {},
     "nuid": "add9e353-f07d-43f1-a024-1218549ca8a7",
     "showTitle": false,
     "title": ""
    }
   },
   "source": [
    "## 3. Country\n",
    "O valor do campo pode ser um texto livre indicando um ou mais países ou regiões. Vamos apenas verificar se há linhas vazias."
   ]
  },
  {
   "cell_type": "code",
   "execution_count": 0,
   "metadata": {
    "application/vnd.databricks.v1+cell": {
     "cellMetadata": {
      "byteLimit": 2048000,
      "rowLimit": 10000
     },
     "inputWidgets": {},
     "nuid": "273fd118-37dc-46e9-a805-6bc0e8739da0",
     "showTitle": false,
     "title": ""
    }
   },
   "outputs": [],
   "source": [
    "%sql\n",
    "SELECT count(1) as `Países vazios`\n",
    "FROM dt0051_dev.treinamento.iea_ccus_projects\n",
    "WHERE Country IS NULL"
   ]
  },
  {
   "cell_type": "markdown",
   "metadata": {
    "application/vnd.databricks.v1+cell": {
     "cellMetadata": {},
     "inputWidgets": {},
     "nuid": "b7713690-f474-4e5e-b86e-ba4dd997d4ab",
     "showTitle": false,
     "title": ""
    }
   },
   "source": [
    "Não há campos vazios. Dessa forma, não se verificou problemas na coluna."
   ]
  },
  {
   "cell_type": "markdown",
   "metadata": {
    "application/vnd.databricks.v1+cell": {
     "cellMetadata": {},
     "inputWidgets": {},
     "nuid": "4b3c275d-9366-488f-8dc5-9bb422d2b151",
     "showTitle": false,
     "title": ""
    }
   },
   "source": [
    "## 4. Partners\n",
    "O valor do campo pode ser um texto livre indicando as empresas envolvidas no projeto. Vamos apenas verificar se há linhas vazias."
   ]
  },
  {
   "cell_type": "code",
   "execution_count": 0,
   "metadata": {
    "application/vnd.databricks.v1+cell": {
     "cellMetadata": {
      "byteLimit": 2048000,
      "rowLimit": 10000
     },
     "inputWidgets": {},
     "nuid": "15bb7b23-0708-4601-800a-e0305b5ecfa1",
     "showTitle": false,
     "title": ""
    }
   },
   "outputs": [],
   "source": [
    "%sql\n",
    "SELECT count(1) as `Parceiros vazios`\n",
    "FROM dt0051_dev.treinamento.iea_ccus_projects\n",
    "WHERE Partners IS NULL"
   ]
  },
  {
   "cell_type": "markdown",
   "metadata": {
    "application/vnd.databricks.v1+cell": {
     "cellMetadata": {},
     "inputWidgets": {},
     "nuid": "72bb9cf4-6ea9-4afe-8daa-f60439a14028",
     "showTitle": false,
     "title": ""
    }
   },
   "source": [
    "Não há campos vazios. Dessa forma, não se verificou problemas na coluna."
   ]
  },
  {
   "cell_type": "markdown",
   "metadata": {
    "application/vnd.databricks.v1+cell": {
     "cellMetadata": {},
     "inputWidgets": {},
     "nuid": "bf67fa8c-164f-4374-824b-5b7e329b6a40",
     "showTitle": false,
     "title": ""
    }
   },
   "source": [
    "## 5. Project_type\n",
    "O tipo de projeto deve ser um dos valores categóricos permitidos. Vamos verificar."
   ]
  },
  {
   "cell_type": "code",
   "execution_count": 0,
   "metadata": {
    "application/vnd.databricks.v1+cell": {
     "cellMetadata": {
      "byteLimit": 2048000,
      "rowLimit": 10000
     },
     "inputWidgets": {},
     "nuid": "1cff1274-a740-4a5d-8abd-a9963cbc4e56",
     "showTitle": false,
     "title": ""
    }
   },
   "outputs": [],
   "source": [
    "%sql\n",
    "SELECT Project_type, count(1) AS Quantidade\n",
    "FROM dt0051_dev.treinamento.iea_ccus_projects\n",
    "WHERE Project_type NOT IN ('Full chain', 'Capture', 'Transport', 'Storage', 'T&S', 'CCU')\n",
    "GROUP BY Project_type"
   ]
  },
  {
   "cell_type": "markdown",
   "metadata": {
    "application/vnd.databricks.v1+cell": {
     "cellMetadata": {},
     "inputWidgets": {},
     "nuid": "e2fe5aad-6444-49cd-80d1-3c19e3c47287",
     "showTitle": false,
     "title": ""
    }
   },
   "source": [
    "Identificamos oito registros em que o tipo \"Full Chain\" foi preenchido de forma irregular, com o C maiúsculo. Vamos corrigir esses valores."
   ]
  },
  {
   "cell_type": "code",
   "execution_count": 0,
   "metadata": {
    "application/vnd.databricks.v1+cell": {
     "cellMetadata": {
      "byteLimit": 2048000,
      "rowLimit": 10000
     },
     "inputWidgets": {},
     "nuid": "86acdc92-58a5-400f-8d86-76984dfe37f7",
     "showTitle": false,
     "title": ""
    }
   },
   "outputs": [],
   "source": [
    "%sql\n",
    "UPDATE dt0051_dev.treinamento.iea_ccus_projects\n",
    "SET Project_type = 'Full chain'\n",
    "WHERE Project_type == 'Full Chain'"
   ]
  },
  {
   "cell_type": "markdown",
   "metadata": {
    "application/vnd.databricks.v1+cell": {
     "cellMetadata": {},
     "inputWidgets": {},
     "nuid": "6c8135e1-2cbd-42d3-8b76-cb4d0804012e",
     "showTitle": false,
     "title": ""
    }
   },
   "source": [
    "A saída mostra que oito linhas foram alteradas. Vamos refazer a consulta para nos certificar de que o problema foi corrigido."
   ]
  },
  {
   "cell_type": "code",
   "execution_count": 0,
   "metadata": {
    "application/vnd.databricks.v1+cell": {
     "cellMetadata": {
      "byteLimit": 2048000,
      "rowLimit": 10000
     },
     "inputWidgets": {},
     "nuid": "93a44bdf-3ca3-41fd-b5f4-0bde2920f14c",
     "showTitle": false,
     "title": ""
    }
   },
   "outputs": [],
   "source": [
    "%sql\n",
    "SELECT Project_type, count(1) AS Quantidade\n",
    "FROM dt0051_dev.treinamento.iea_ccus_projects\n",
    "WHERE Project_type NOT IN ('Full chain', 'Capture', 'Transport', 'Storage', 'T&S', 'CCU')\n",
    "GROUP BY Project_type"
   ]
  },
  {
   "cell_type": "markdown",
   "metadata": {
    "application/vnd.databricks.v1+cell": {
     "cellMetadata": {},
     "inputWidgets": {},
     "nuid": "71c6d1fe-053e-40b5-980c-b27bccce0a7b",
     "showTitle": false,
     "title": ""
    }
   },
   "source": [
    "Nenhum resultado foi retornado. Sendo assim, não há mais nenhum problema com a coluna Project_type."
   ]
  },
  {
   "cell_type": "markdown",
   "metadata": {
    "application/vnd.databricks.v1+cell": {
     "cellMetadata": {},
     "inputWidgets": {},
     "nuid": "3fc1fd8d-a5b5-4119-b633-d58f3a562189",
     "showTitle": false,
     "title": ""
    }
   },
   "source": [
    "## 6. Announcement\n",
    "O processo de ETL já assegurou que o valor desta coluna seja sempre um número inteiro.\n",
    "\n",
    "Ele deve ser também um ano válido, não pode ser futuro, e não pode ser num passado muito distante. Vamos verificar esses limites, escolhendo como margem mínima para a avaliação o ano de 1950, época em que a indústria de petróleo ainda começava a crescer mundialmente."
   ]
  },
  {
   "cell_type": "code",
   "execution_count": 0,
   "metadata": {
    "application/vnd.databricks.v1+cell": {
     "cellMetadata": {
      "byteLimit": 2048000,
      "rowLimit": 10000
     },
     "inputWidgets": {},
     "nuid": "d72bd84a-f234-40c9-a034-d630df28e9bc",
     "showTitle": false,
     "title": ""
    }
   },
   "outputs": [],
   "source": [
    "%sql\n",
    "SELECT count(1) AS `Datas de anúncio fora da margem`\n",
    "FROM dt0051_dev.treinamento.iea_ccus_projects\n",
    "WHERE Announcement < 1950 OR Announcement > 2024"
   ]
  },
  {
   "cell_type": "markdown",
   "metadata": {
    "application/vnd.databricks.v1+cell": {
     "cellMetadata": {
      "byteLimit": 2048000,
      "rowLimit": 10000
     },
     "inputWidgets": {},
     "nuid": "c71eab47-1d32-4249-8583-d3f56323c9aa",
     "showTitle": false,
     "title": ""
    }
   },
   "source": [
    "Nenhuma data foi encontrada fora da margem definida. Com isso, não há problemas de qualidade a resolver."
   ]
  },
  {
   "cell_type": "markdown",
   "metadata": {
    "application/vnd.databricks.v1+cell": {
     "cellMetadata": {},
     "inputWidgets": {},
     "nuid": "b1052a66-0ccc-4cb4-afc4-e8b53e8c643f",
     "showTitle": false,
     "title": ""
    }
   },
   "source": [
    "## 7. FID\n",
    "O processo de ETL já assegurou que o valor desta coluna seja sempre um número inteiro.\n",
    "\n",
    "A data pode ser futura, porém não pode ser um futuro muito distante. Daremos uma margem de 100 anos no futuro. Além disso, não faz sentido que seja anterior à data de anúncio do projeto."
   ]
  },
  {
   "cell_type": "code",
   "execution_count": 0,
   "metadata": {
    "application/vnd.databricks.v1+cell": {
     "cellMetadata": {
      "byteLimit": 2048000,
      "rowLimit": 10000
     },
     "inputWidgets": {},
     "nuid": "d7a0b65b-91f4-4360-bfbf-59565e31687b",
     "showTitle": false,
     "title": ""
    }
   },
   "outputs": [],
   "source": [
    "%sql\n",
    "SELECT count(1) AS `FIDs fora da margem`\n",
    "FROM dt0051_dev.treinamento.iea_ccus_projects\n",
    "WHERE FID > 2124 OR FID < Announcement"
   ]
  },
  {
   "cell_type": "markdown",
   "metadata": {
    "application/vnd.databricks.v1+cell": {
     "cellMetadata": {},
     "inputWidgets": {},
     "nuid": "3c5a919a-ef31-4596-91a7-7a1868c966d9",
     "showTitle": false,
     "title": ""
    }
   },
   "source": [
    "Nenhuma data foi encontrada fora da margem definida. Com isso, não há problemas de qualidade a resolver."
   ]
  },
  {
   "cell_type": "markdown",
   "metadata": {
    "application/vnd.databricks.v1+cell": {
     "cellMetadata": {},
     "inputWidgets": {},
     "nuid": "f68121be-3c09-4363-877a-a09630c46e66",
     "showTitle": false,
     "title": ""
    }
   },
   "source": [
    "## 8. Operation\n",
    "O processo de ETL já assegurou que o valor desta coluna seja sempre um número inteiro.\n",
    "\n",
    "A data pode ser futura, porém não pode ser um futuro muito distante. Daremos uma margem de 100 anos no futuro. Além disso, não faz sentido que seja anterior à data final de investimento do projeto."
   ]
  },
  {
   "cell_type": "code",
   "execution_count": 0,
   "metadata": {
    "application/vnd.databricks.v1+cell": {
     "cellMetadata": {
      "byteLimit": 2048000,
      "rowLimit": 10000
     },
     "inputWidgets": {},
     "nuid": "fbef8867-55f9-4889-ab44-14194a64f5b3",
     "showTitle": false,
     "title": ""
    }
   },
   "outputs": [],
   "source": [
    "%sql\n",
    "SELECT count(1) AS `Datas de operação fora da margem`\n",
    "FROM dt0051_dev.treinamento.iea_ccus_projects\n",
    "WHERE Operation > 2124 OR Operation < FID"
   ]
  },
  {
   "cell_type": "markdown",
   "metadata": {
    "application/vnd.databricks.v1+cell": {
     "cellMetadata": {},
     "inputWidgets": {},
     "nuid": "6a59fc40-038b-4065-86e4-721110e457a9",
     "showTitle": false,
     "title": ""
    }
   },
   "source": [
    "Nenhuma data foi encontrada fora da margem definida. Com isso, não há problemas de qualidade a resolver."
   ]
  },
  {
   "cell_type": "markdown",
   "metadata": {
    "application/vnd.databricks.v1+cell": {
     "cellMetadata": {},
     "inputWidgets": {},
     "nuid": "06e10e79-8d0c-414f-8ea7-8941276412c0",
     "showTitle": false,
     "title": ""
    }
   },
   "source": [
    "## 9. Suspension_decommissioning\n",
    "O processo de ETL já assegurou que o valor desta coluna seja sempre um número inteiro.\n",
    "\n",
    "A data pode ser futura, porém não pode ser um futuro muito distante. Daremos uma margem de 100 anos no futuro. Além disso, não faz sentido que seja anterior à data de início de operação do projeto."
   ]
  },
  {
   "cell_type": "code",
   "execution_count": 0,
   "metadata": {
    "application/vnd.databricks.v1+cell": {
     "cellMetadata": {
      "byteLimit": 2048000,
      "rowLimit": 10000
     },
     "inputWidgets": {},
     "nuid": "087f3c15-0d39-4e34-bf48-b47ab2fbac96",
     "showTitle": false,
     "title": ""
    }
   },
   "outputs": [],
   "source": [
    "%sql\n",
    "SELECT count(1) AS `Datas de descomissionamento fora da margem`\n",
    "FROM dt0051_dev.treinamento.iea_ccus_projects\n",
    "WHERE Suspension_decommissioning > 2124 OR Suspension_decommissioning < Operation"
   ]
  },
  {
   "cell_type": "markdown",
   "metadata": {
    "application/vnd.databricks.v1+cell": {
     "cellMetadata": {},
     "inputWidgets": {},
     "nuid": "62630457-d120-4a77-a7d1-08e9fae3750a",
     "showTitle": false,
     "title": ""
    }
   },
   "source": [
    "Nenhuma data foi encontrada fora da margem definida. Com isso, não há problemas de qualidade a resolver."
   ]
  }
 ],
 "metadata": {
  "application/vnd.databricks.v1+notebook": {
   "dashboards": [],
   "environmentMetadata": null,
   "language": "python",
   "notebookMetadata": {
    "mostRecentlyExecutedCommandWithImplicitDF": {
     "commandId": -1,
     "dataframes": [
      "_sqldf"
     ]
    },
    "pythonIndentUnit": 4
   },
   "notebookName": "CCUS_etapa2_qualidade",
   "widgets": {}
  }
 },
 "nbformat": 4,
 "nbformat_minor": 0
}
