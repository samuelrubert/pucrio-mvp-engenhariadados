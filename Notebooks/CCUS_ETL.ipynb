{
 "cells": [
  {
   "cell_type": "markdown",
   "metadata": {
    "application/vnd.databricks.v1+cell": {
     "cellMetadata": {},
     "inputWidgets": {},
     "nuid": "e4ec4e06-ede0-4955-8b90-09712b658c36",
     "showTitle": false,
     "title": ""
    }
   },
   "source": [
    "# Objetivo: \n",
    "Extracao de dados relacionados a captura, utilização e armazenamento de carbono (CCUS)."
   ]
  },
  {
   "cell_type": "markdown",
   "metadata": {
    "application/vnd.databricks.v1+cell": {
     "cellMetadata": {},
     "inputWidgets": {},
     "nuid": "8320c1ef-e326-4588-b366-782c86c68a22",
     "showTitle": false,
     "title": ""
    }
   },
   "source": [
    "# Configurações iniciais"
   ]
  },
  {
   "cell_type": "markdown",
   "metadata": {
    "application/vnd.databricks.v1+cell": {
     "cellMetadata": {},
     "inputWidgets": {},
     "nuid": "38fd416c-d422-4bea-8d2b-fa848ff8861d",
     "showTitle": false,
     "title": ""
    }
   },
   "source": [
    "## Bibliotecas"
   ]
  },
  {
   "cell_type": "code",
   "execution_count": 0,
   "metadata": {
    "application/vnd.databricks.v1+cell": {
     "cellMetadata": {
      "byteLimit": 2048000,
      "rowLimit": 10000
     },
     "inputWidgets": {},
     "nuid": "49d25471-91d3-464a-acd1-caa46b4ee36b",
     "showTitle": false,
     "title": ""
    },
    "jupyter": {
     "outputs_hidden": true
    }
   },
   "outputs": [],
   "source": [
    "!pip install openpyxl --quiet\n",
    "!pip install unidecode --quiet"
   ]
  },
  {
   "cell_type": "code",
   "execution_count": 0,
   "metadata": {
    "application/vnd.databricks.v1+cell": {
     "cellMetadata": {
      "byteLimit": 2048000,
      "rowLimit": 10000
     },
     "inputWidgets": {},
     "nuid": "631e75fa-5ca2-403f-93ee-f2b3273bd9fd",
     "showTitle": false,
     "title": ""
    }
   },
   "outputs": [],
   "source": [
    "import pandas as pd\n",
    "import re\n",
    "from pyspark.sql import functions as sf\n",
    "from unidecode import unidecode"
   ]
  },
  {
   "cell_type": "markdown",
   "metadata": {
    "application/vnd.databricks.v1+cell": {
     "cellMetadata": {},
     "inputWidgets": {},
     "nuid": "2b75aa99-18ae-407e-a4b1-e690a2028045",
     "showTitle": false,
     "title": ""
    }
   },
   "source": [
    "## Parâmetros"
   ]
  },
  {
   "cell_type": "code",
   "execution_count": 0,
   "metadata": {
    "application/vnd.databricks.v1+cell": {
     "cellMetadata": {
      "byteLimit": 2048000,
      "rowLimit": 10000
     },
     "inputWidgets": {},
     "nuid": "fd95fa55-cde5-42c8-b440-631ae9bef73d",
     "showTitle": false,
     "title": ""
    }
   },
   "outputs": [],
   "source": [
    "# Definições do arquivo Excel\n",
    "sheetname = \"CCUS Projects Database\"\n",
    "cellposition = \"A1\""
   ]
  },
  {
   "cell_type": "markdown",
   "metadata": {
    "application/vnd.databricks.v1+cell": {
     "cellMetadata": {},
     "inputWidgets": {},
     "nuid": "07732b40-ad18-488f-ae84-be2c3a4034f0",
     "showTitle": false,
     "title": ""
    }
   },
   "source": [
    "## Caminhos"
   ]
  },
  {
   "cell_type": "code",
   "execution_count": 0,
   "metadata": {
    "application/vnd.databricks.v1+cell": {
     "cellMetadata": {
      "byteLimit": 2048000,
      "rowLimit": 10000
     },
     "inputWidgets": {},
     "nuid": "c52e74df-3d2f-4eff-8a9e-4fac2ec26946",
     "showTitle": false,
     "title": ""
    }
   },
   "outputs": [],
   "source": [
    "# Caminho dos dados\n",
    "path_arquivo = \"https://github.com/samuelrubert/pucrio-mvp-engenhariadados/raw/main/Dados/IEA_CCUS_Projects_Database.xlsx\""
   ]
  },
  {
   "cell_type": "markdown",
   "metadata": {
    "application/vnd.databricks.v1+cell": {
     "cellMetadata": {},
     "inputWidgets": {},
     "nuid": "e8e96faf-e783-4301-bacd-a8101acbd31e",
     "showTitle": false,
     "title": ""
    }
   },
   "source": [
    "# Extração"
   ]
  },
  {
   "cell_type": "markdown",
   "metadata": {
    "application/vnd.databricks.v1+cell": {
     "cellMetadata": {},
     "inputWidgets": {},
     "nuid": "9b05b72a-4260-4bd0-bf79-71d5e94d9515",
     "showTitle": false,
     "title": ""
    }
   },
   "source": [
    "## Leitura do arquivo Excel"
   ]
  },
  {
   "cell_type": "code",
   "execution_count": 0,
   "metadata": {
    "application/vnd.databricks.v1+cell": {
     "cellMetadata": {
      "byteLimit": 2048000,
      "rowLimit": 10000
     },
     "inputWidgets": {},
     "nuid": "741200f2-96c2-4990-9a52-1664449a0af9",
     "showTitle": false,
     "title": ""
    }
   },
   "outputs": [],
   "source": [
    "# Ler pandas pois o spark não consegue ler deste local\n",
    "df_pandas = pd.read_excel(path_arquivo, sheet_name=sheetname, header=0)\n",
    "df_pandas.head()"
   ]
  },
  {
   "cell_type": "code",
   "execution_count": 0,
   "metadata": {
    "application/vnd.databricks.v1+cell": {
     "cellMetadata": {
      "byteLimit": 2048000,
      "rowLimit": 10000
     },
     "inputWidgets": {},
     "nuid": "411f673c-32a3-4db4-b0ec-1d8ad9b214b7",
     "showTitle": false,
     "title": ""
    }
   },
   "outputs": [],
   "source": [
    "# Verificar os tipos de dados inferidos pelo pandas\n",
    "df_pandas.dtypes"
   ]
  },
  {
   "cell_type": "markdown",
   "metadata": {
    "application/vnd.databricks.v1+cell": {
     "cellMetadata": {},
     "inputWidgets": {},
     "nuid": "a193602e-1384-4e21-aef1-fcceb5a7747b",
     "showTitle": false,
     "title": ""
    }
   },
   "source": [
    "## Conversão em dataframe Spark"
   ]
  },
  {
   "cell_type": "code",
   "execution_count": 0,
   "metadata": {
    "application/vnd.databricks.v1+cell": {
     "cellMetadata": {
      "byteLimit": 2048000,
      "rowLimit": 10000
     },
     "inputWidgets": {},
     "nuid": "ca950ce4-f599-40a6-b050-521f3d713dee",
     "showTitle": false,
     "title": ""
    }
   },
   "outputs": [],
   "source": [
    "df = spark.createDataFrame(df_pandas)\n",
    "display(df.limit(10))"
   ]
  },
  {
   "cell_type": "code",
   "execution_count": 0,
   "metadata": {
    "application/vnd.databricks.v1+cell": {
     "cellMetadata": {
      "byteLimit": 2048000,
      "rowLimit": 10000
     },
     "inputWidgets": {},
     "nuid": "7169f936-f807-4047-8014-292b87893afe",
     "showTitle": false,
     "title": ""
    }
   },
   "outputs": [],
   "source": [
    "# Este seria o bronze"
   ]
  },
  {
   "cell_type": "markdown",
   "metadata": {
    "application/vnd.databricks.v1+cell": {
     "cellMetadata": {},
     "inputWidgets": {},
     "nuid": "2bedb659-28c5-4229-b770-1dc50a4142bf",
     "showTitle": false,
     "title": ""
    }
   },
   "source": [
    "# Transformação"
   ]
  },
  {
   "cell_type": "markdown",
   "metadata": {
    "application/vnd.databricks.v1+cell": {
     "cellMetadata": {},
     "inputWidgets": {},
     "nuid": "98230dce-11b2-447c-b406-b9456d0caa9c",
     "showTitle": false,
     "title": ""
    }
   },
   "source": [
    "## Tratar nomes das colunas\n",
    "As colunas devem ser renomeadas para serem compatíveis com uma tabela em banco de dados."
   ]
  },
  {
   "cell_type": "code",
   "execution_count": 0,
   "metadata": {
    "application/vnd.databricks.v1+cell": {
     "cellMetadata": {
      "byteLimit": 2048000,
      "rowLimit": 10000
     },
     "inputWidgets": {},
     "nuid": "caf13607-832b-43b0-b62e-e46c44c3c892",
     "showTitle": false,
     "title": ""
    }
   },
   "outputs": [],
   "source": [
    "# Dicionário de nomes\n",
    "dict_rename = {}\n",
    "\n",
    "# Criar nomes tratados\n",
    "for c in df.columns:\n",
    "    nome_ok = c.strip()\n",
    "    nome_ok = nome_ok.replace('/', '_')\n",
    "    nome_ok = re.sub('[^A-Za-z0-9_ ]+', '', unidecode(nome_ok))\n",
    "    nome_ok = re.sub('\\s+','_', nome_ok)\n",
    "    dict_rename[c] = nome_ok\n",
    "\n",
    "# Renomear colunas no dataframe\n",
    "df = df.withColumnsRenamed(dict_rename)\n",
    "\n",
    "display(df.limit(3))"
   ]
  },
  {
   "cell_type": "markdown",
   "metadata": {
    "application/vnd.databricks.v1+cell": {
     "cellMetadata": {},
     "inputWidgets": {},
     "nuid": "f633f601-476e-4430-832d-762798e99377",
     "showTitle": false,
     "title": ""
    }
   },
   "source": [
    "## Tratar dados"
   ]
  },
  {
   "cell_type": "markdown",
   "metadata": {
    "application/vnd.databricks.v1+cell": {
     "cellMetadata": {},
     "inputWidgets": {},
     "nuid": "c1d3a788-5540-4bf6-91da-662169a49174",
     "showTitle": false,
     "title": ""
    }
   },
   "source": [
    "### Remover NaN\n",
    "Os valores NaN nas colunas do tipo float são substituídos por nulos, pois eles interferem nas agregações de valores em certas ferramentas, como o Power BI.\n",
    "Ademais, vamos remover os valores NaN nas colunas de texto, pois se trata de um valor sem significado para o público de negócio."
   ]
  },
  {
   "cell_type": "code",
   "execution_count": 0,
   "metadata": {
    "application/vnd.databricks.v1+cell": {
     "cellMetadata": {
      "byteLimit": 2048000,
      "rowLimit": 10000
     },
     "inputWidgets": {},
     "nuid": "7a2d1652-2467-4f93-ad26-afe9aff47ed8",
     "showTitle": false,
     "title": ""
    }
   },
   "outputs": [],
   "source": [
    "df = df.replace(float(\"nan\"), None)\n",
    "df = df.replace(\"NaN\", None)\n",
    "\n",
    "display(df.limit(3))"
   ]
  },
  {
   "cell_type": "markdown",
   "metadata": {
    "application/vnd.databricks.v1+cell": {
     "cellMetadata": {},
     "inputWidgets": {},
     "nuid": "bbe7e99c-6998-4306-b70f-c3ecf27f2aca",
     "showTitle": false,
     "title": ""
    }
   },
   "source": [
    "### Converter colunas em tipo inteiro\n",
    "Quando fizemos a leitura do arquivo, algumas colunas foram inferidas como tipo float, quando na verdade tratam de valores inteiros."
   ]
  },
  {
   "cell_type": "code",
   "execution_count": 0,
   "metadata": {
    "application/vnd.databricks.v1+cell": {
     "cellMetadata": {
      "byteLimit": 2048000,
      "rowLimit": 10000
     },
     "inputWidgets": {},
     "nuid": "c446c806-1693-4bc9-9a7c-d5fa38a34527",
     "showTitle": false,
     "title": ""
    }
   },
   "outputs": [],
   "source": [
    "colunas_cast_int = [\n",
    "    \"Announcement\",\n",
    "    \"FID\",\n",
    "    \"Operation\",\n",
    "    \"Suspension_decommissioning\",\n",
    "    \"Project_phase\"\n",
    "]\n",
    "colunas_cast_int = {c: df[c].cast(\"int\") for c in colunas_cast_int}\n",
    "\n",
    "df = df.withColumns(colunas_cast_int)\n",
    "\n",
    "display(df.limit(3))"
   ]
  },
  {
   "cell_type": "markdown",
   "metadata": {
    "application/vnd.databricks.v1+cell": {
     "cellMetadata": {},
     "inputWidgets": {},
     "nuid": "59b79a42-52a6-4811-ad96-860d461e39a7",
     "showTitle": false,
     "title": ""
    }
   },
   "source": [
    "### Eliminar colunas Link\n",
    "No arquivo Excel, as colunas Link possuem um hiperlink clicável para o endereço contido na coluna Ref de mesmo número. Esse recurso não se aplica a uma base de dados, por isso vamos remover as colunas Link e manter as colunas Ref."
   ]
  },
  {
   "cell_type": "code",
   "execution_count": 0,
   "metadata": {
    "application/vnd.databricks.v1+cell": {
     "cellMetadata": {
      "byteLimit": 2048000,
      "rowLimit": 10000
     },
     "inputWidgets": {},
     "nuid": "03f6e36d-577e-436f-812d-59840dddf15b",
     "showTitle": false,
     "title": ""
    }
   },
   "outputs": [],
   "source": [
    "colunas_drop = [c for c in df.columns if c.startswith(\"Link\")]\n",
    "df = df.drop(*colunas_drop)\n",
    "\n",
    "display(df.limit(3))"
   ]
  },
  {
   "cell_type": "markdown",
   "metadata": {
    "application/vnd.databricks.v1+cell": {
     "cellMetadata": {},
     "inputWidgets": {},
     "nuid": "34e33381-0956-4908-bec6-6812be707478",
     "showTitle": false,
     "title": ""
    }
   },
   "source": [
    "### Tratar coluna Announced_capacity_Mt_CO2_yr\n",
    "Essa coluna possui alguns valores expressos em faixas, como \"0.3 - 0.8\". Para permitir cálculos e agregações, vamos transformar essa coluna em duas: uma contendo o valor mínimo, outra contendo o valor máximo. Valores da coluna original que não sejam expressos em faixas serão repetidos, de forma a manter a integridade da informação de maneira independente nas duas colunas."
   ]
  },
  {
   "cell_type": "code",
   "execution_count": 0,
   "metadata": {
    "application/vnd.databricks.v1+cell": {
     "cellMetadata": {
      "byteLimit": 2048000,
      "rowLimit": 10000
     },
     "inputWidgets": {},
     "nuid": "e94b45ff-f23e-40e0-9cb0-07d3ff01eec4",
     "showTitle": false,
     "title": ""
    }
   },
   "outputs": [],
   "source": [
    "# Dividir a coluna\n",
    "split_col = sf.split(df['Announced_capacity_Mt_CO2_yr'], \"-\")\n",
    "\n",
    "# Criar coluna de valor mínimo\n",
    "df = df.withColumn('Announced_capacity_low_Mt_CO2_yr', sf.when(sf.col('Announced_capacity_Mt_CO2_yr').contains('-'), split_col.getItem(0)).otherwise(sf.col('Announced_capacity_Mt_CO2_yr')).cast('double'))\n",
    "\n",
    "# Criar coluna de valor máximo\n",
    "df = df.withColumn('Announced_capacity_high_Mt_CO2_yr', sf.when(sf.col('Announced_capacity_Mt_CO2_yr').contains('-'), split_col.getItem(1)).otherwise(sf.col('Announced_capacity_Mt_CO2_yr')).cast('double'))\n",
    "\n",
    "# Substituir coluna original pelas novas\n",
    "colunas = df.columns\n",
    "pos = colunas.index(\"Announced_capacity_Mt_CO2_yr\")\n",
    "colunas[pos] = \"Announced_capacity_low_Mt_CO2_yr\"\n",
    "colunas.insert(pos+1, \"Announced_capacity_high_Mt_CO2_yr\")\n",
    "colunas = colunas[:-2]\n",
    "df = df.select(colunas)\n",
    "\n",
    "display(df.limit(3))"
   ]
  },
  {
   "cell_type": "markdown",
   "metadata": {
    "application/vnd.databricks.v1+cell": {
     "cellMetadata": {},
     "inputWidgets": {},
     "nuid": "aafeadd2-9c50-4bc4-9b1e-369272ba41b2",
     "showTitle": false,
     "title": ""
    }
   },
   "source": [
    "# Carga"
   ]
  },
  {
   "cell_type": "markdown",
   "metadata": {
    "application/vnd.databricks.v1+cell": {
     "cellMetadata": {},
     "inputWidgets": {},
     "nuid": "fd7b3b61-5674-49c4-9cef-43f6c2504987",
     "showTitle": false,
     "title": ""
    }
   },
   "source": [
    "## Definir descrição da tabela e comentários dos campos"
   ]
  },
  {
   "cell_type": "code",
   "execution_count": 0,
   "metadata": {
    "application/vnd.databricks.v1+cell": {
     "cellMetadata": {
      "byteLimit": 2048000,
      "rowLimit": 10000
     },
     "inputWidgets": {},
     "nuid": "4245bb9d-2e83-4d40-8f95-ed89b99c665d",
     "showTitle": false,
     "title": ""
    }
   },
   "outputs": [],
   "source": [
    "descricao = \"A tabela contém informações sobre projetos de captura, utilização e armazenamento de carbono (CCUS) ao redor do mundo. Ela inclui dados como o nome dos projetos, país, parceiros envolvidos, tipo de projeto, ano de anúncio, ano da decisão final de investimento, ano de operação, ano de suspensão/descomissionamento, status do projeto, fase do projeto, capacidade anunciada e estimada para captura, transporte e armazenamento de CO2, setor, destino do carbono, se o projeto faz parte de um hub CCUS, região, e links para artigos de notícias sobre o projeto. Esta tabela fornece insights valiosos sobre o panorama global dos projetos de CCUS e seu status atual.\""
   ]
  },
  {
   "cell_type": "code",
   "execution_count": 0,
   "metadata": {
    "application/vnd.databricks.v1+cell": {
     "cellMetadata": {
      "byteLimit": 2048000,
      "rowLimit": 10000
     },
     "inputWidgets": {},
     "nuid": "5609bc2d-da65-46c4-b01e-a815dbd3fe32",
     "showTitle": false,
     "title": ""
    }
   },
   "outputs": [],
   "source": [
    "comentarios = {\n",
    "    \"Project_name\": \"Nome do projeto\",\n",
    "    \"ID\": \"Identificação única do projeto\",\n",
    "    \"Country\": \"País onde o projeto está localizado\",\n",
    "    \"Partners\": \"Parceiros envolvidos no projeto\",\n",
    "    \"Project_type\": \"Tipo de projeto\",\n",
    "    \"Announcement\": \"Ano de anúncio do projeto\",\n",
    "    \"FID\": \"Ano da decisão final de investimento\",\n",
    "    \"Operation\": \"Ano de início da operação do projeto\",\n",
    "    \"Suspension_decommissioning\": \"Ano de suspensão ou descomissionamento do projeto\",\n",
    "    \"Project_Status\": \"Status atual do projeto\",\n",
    "    \"Project_phase\": \"Fase atual do projeto\",\n",
    "    \"Announced_capacity_low_Mt_CO2_yr\": \"Capacidade mínima anunciada para captura de CO2 em milhões de toneladas por ano\",\n",
    "    \"Announced_capacity_high_Mt_CO2_yr\": \"Capacidade máxima anunciada para captura de CO2 em milhões de toneladas por ano\",\n",
    "    \"Estimated_capacity_by_IEA_Mt_CO2_yr\": \"Capacidade estimada pela IEA para captura de CO2 em milhões de toneladas por ano\",\n",
    "    \"Sector\": \"Setor industrial do projeto\",\n",
    "    \"Fate_of_carbon\": \"Destino do carbono capturado\",\n",
    "    \"Part_of_CCUS_hub\": \"Indica se o projeto faz parte de um hub CCUS\",\n",
    "    \"Region\": \"Região onde o projeto está localizado\",\n",
    "    \"Ref_1\": \"Link para o primeiro artigo de notícias sobre o projeto\",\n",
    "    \"Ref_2\": \"Link para o segundo artigo de notícias sobre o projeto\",\n",
    "    \"Ref_3\": \"Link para o terceiro artigo de notícias sobre o projeto\",\n",
    "    \"Ref_4\": \"Link para o quarto artigo de notícias sobre o projeto\",\n",
    "    \"Ref_5\": \"Link para o quinto artigo de notícias sobre o projeto\",\n",
    "    \"Ref_6\": \"Link para o sexto artigo de notícias sobre o projeto\",\n",
    "    \"Ref_7\": \"Link para o sétimo artigo de notícias sobre o projeto\"\n",
    "}"
   ]
  },
  {
   "cell_type": "code",
   "execution_count": 0,
   "metadata": {
    "application/vnd.databricks.v1+cell": {
     "cellMetadata": {
      "byteLimit": 2048000,
      "rowLimit": 10000
     },
     "inputWidgets": {},
     "nuid": "2d46dda3-beae-446c-bc65-7a46ba1f2598",
     "showTitle": false,
     "title": ""
    }
   },
   "outputs": [],
   "source": [
    "# Notebook separado de análises"
   ]
  }
 ],
 "metadata": {
  "application/vnd.databricks.v1+notebook": {
   "dashboards": [],
   "environmentMetadata": null,
   "language": "python",
   "notebookMetadata": {
    "pythonIndentUnit": 4
   },
   "notebookName": "CCUS_ETL",
   "widgets": {}
  }
 },
 "nbformat": 4,
 "nbformat_minor": 0
}
