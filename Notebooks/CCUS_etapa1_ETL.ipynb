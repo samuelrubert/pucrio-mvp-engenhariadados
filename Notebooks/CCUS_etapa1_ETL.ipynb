{
 "cells": [
  {
   "cell_type": "markdown",
   "metadata": {
    "application/vnd.databricks.v1+cell": {
     "cellMetadata": {},
     "inputWidgets": {},
     "nuid": "bc9f6ccd-d2d8-45e3-8743-403ca11a5ec1",
     "showTitle": false,
     "title": ""
    }
   },
   "source": [
    "# !! Atenção, professor !!\n",
    "No modo escuro, verifiquei que o GitHub pode não exibir corretamente as saídas dos dataframes Spark.\n",
    "\n",
    "Pode ser necessário alterar para o modo claro para conseguir ver os cabeçalhos das tabelas.\n",
    "\n",
    "O GitHub pede desculpas por esse inconveniente."
   ]
  },
  {
   "cell_type": "markdown",
   "metadata": {
    "application/vnd.databricks.v1+cell": {
     "cellMetadata": {
      "byteLimit": 2048000,
      "rowLimit": 10000
     },
     "inputWidgets": {},
     "nuid": "e4ec4e06-ede0-4955-8b90-09712b658c36",
     "showTitle": false,
     "title": ""
    }
   },
   "source": [
    "# Descrição do trabalho"
   ]
  },
  {
   "cell_type": "markdown",
   "metadata": {
    "application/vnd.databricks.v1+cell": {
     "cellMetadata": {
      "byteLimit": 2048000,
      "rowLimit": 10000
     },
     "inputWidgets": {},
     "nuid": "2464a71f-9680-4dd7-84e8-3325f7bd432f",
     "showTitle": false,
     "title": ""
    }
   },
   "source": [
    "## Objetivo\n",
    "Cada vez mais, o mundo tem se tornado ciente da importância e necessidade de adaptação às mudanças climáticas. A crescente conscientização sobre os impactos negativos das emissões de carbono tem impulsionado governos, empresas e organizações a implementar estratégias de descarbonização, visando atender ao Acordo de Paris e mitigar os efeitos do aquecimento global. O objetivo deste trabalho é obter perspectivas sobre os esforços de descarbonização realizados ao redor do mundo, analisando tendências, investimentos e resultados. \n",
    "\n",
    "Tentaremos responder a algumas perguntas sobre o tema:\n",
    "\n",
    "- Os investimentos em descarbonização têm aumentado?\n",
    "- Quais investimentos estão previstos para o futuro?\n",
    "- Quais são os países que mais têm investido em descarbonização?\n",
    "- Quais são as empresas que mais têm investido em descarbonização?\n",
    "- Em quais setores da indústria os esforços em descarbonização mais têm sido aplicados?\n",
    "- Quais as principais tecnologias que estão sendo utilizadas?\n",
    "- Qual a quantidade de emissões de carbono que se espera reduzir nos próximos anos?"
   ]
  },
  {
   "cell_type": "markdown",
   "metadata": {
    "application/vnd.databricks.v1+cell": {
     "cellMetadata": {
      "byteLimit": 2048000,
      "rowLimit": 10000
     },
     "inputWidgets": {},
     "nuid": "261f8a09-f56f-48a7-8124-a2520d617f8a",
     "showTitle": false,
     "title": ""
    }
   },
   "source": [
    "## Coleta de dados\n",
    "Para este trabalho, usaremos o conjunto de dados \"CCUS Projects Database\" disponibilizado pela International Energy Agency (IEA).\n",
    "\n",
    "Trata-se de dados sobre projetos de Captura, Utilização e Armazenamento de Carbono (CCUS) ao redor do mundo. São dados gratuitos, disponíveis para download no endereço https://www.iea.org/data-and-statistics/data-product/ccus-projects-database mediante a criação de uma conta. Eles foram atualizados em 15/03/2024 e são disponibilizados sob a licença Creative Commons Attribution 4.0.\n",
    "\n",
    "Devido à necessidade de login, não é possível acessar os dados diretamente via URL. Assim, os dados foram baixados e armazenados no GitHub, e este código lerá os dados desse endereço. Dessa forma, no caso de uma atualização do conjunto de dados, um usuário de negócio pode apenas atualizar o arquivo Excel e uma rotina agendada atualizaria os dados no Databricks automaticamente."
   ]
  },
  {
   "cell_type": "markdown",
   "metadata": {
    "application/vnd.databricks.v1+cell": {
     "cellMetadata": {
      "byteLimit": 2048000,
      "rowLimit": 10000
     },
     "inputWidgets": {},
     "nuid": "a1d6de13-b12e-473b-ac19-683e13d41a02",
     "showTitle": false,
     "title": ""
    }
   },
   "source": [
    "## Modelagem\n",
    "Os dados estão disponíveis em uma tabela do Excel. Essa tabela será gravada na base em um modelo flat, após as transformações necessárias e pertinentes.\n",
    "\n",
    "Metadados sobre a tabela e os campos também serão definidos e gravados no catálogo do Databricks."
   ]
  },
  {
   "cell_type": "markdown",
   "metadata": {
    "application/vnd.databricks.v1+cell": {
     "cellMetadata": {},
     "inputWidgets": {},
     "nuid": "cc4138e6-9d8b-46c5-aba7-6c9b1d5b0ff5",
     "showTitle": false,
     "title": ""
    }
   },
   "source": [
    "### Informações do Catálogo de Dados"
   ]
  },
  {
   "cell_type": "markdown",
   "metadata": {
    "application/vnd.databricks.v1+cell": {
     "cellMetadata": {},
     "inputWidgets": {},
     "nuid": "7924df74-df6a-49ab-b35b-90c2f8d74f0a",
     "showTitle": false,
     "title": ""
    }
   },
   "source": [
    "A tabela contém informações sobre projetos de captura, utilização e armazenamento de carbono (CCUS) ao redor do mundo. Ela inclui dados como o nome dos projetos, país, parceiros envolvidos, tipo de projeto, ano de anúncio, ano da decisão final de investimento, ano de operação, ano de suspensão/descomissionamento, status do projeto, fase do projeto, capacidade anunciada e estimada para captura, transporte e armazenamento de CO2, setor, destino do carbono, se o projeto faz parte de um hub CCUS, região, e links para artigos de notícias sobre o projeto. Esta tabela fornece insights valiosos sobre o panorama global dos projetos de CCUS e seu status atual. Os dados foram obtidos da International Energy Agency (IEA), em um arquivo Excel disponível no endereço https://www.iea.org/data-and-statistics/data-product/ccus-projects-database."
   ]
  },
  {
   "cell_type": "markdown",
   "metadata": {
    "application/vnd.databricks.v1+cell": {
     "cellMetadata": {},
     "inputWidgets": {},
     "nuid": "0ca29e8b-cde6-4624-ab69-0b58f2d72f2e",
     "showTitle": false,
     "title": ""
    }
   },
   "source": [
    "A tabela final possuirá os seguintes campos:\n",
    "\n",
    "**Project_name**: Nome do projeto. Texto livre, não deve ser vazio.\n",
    "\n",
    "**ID**: Identificação única do projeto. Deve ser um número inteiro e único.\n",
    "\n",
    "**Country**: País(es) onde o projeto está localizado. Texto livre.\n",
    "\n",
    "**Partners**: Parceiros envolvidos no projeto. Texto livre.\n",
    "\n",
    "**Project_type**: Tipo de projeto. Valores possíveis: Full chain (Cadeia completa), Capture (Captura), Transport (Transporte), Storage (Armazenamento), T&S (Transporte e armazenamento), ou CCU (Captura e Utilização).\n",
    "\n",
    "**Announcement**: Ano de anúncio do projeto, com quatro dígitos.\n",
    "\n",
    "**FID**: Ano ocorrido ou planejado da decisão final de investimento, com quatro dígitos.\n",
    "\n",
    "**Operation**: Ano ocorrido ou planejado de início da operação do projeto, com quatro dígitos.\n",
    "\n",
    "**Suspension_decommissioning**: Ano ocorrido ou planejado de suspensão ou descomissionamento do projeto, com quatro dígitos.\n",
    "\n",
    "**Project_Status**: Status atual do projeto. Valores possíveis: Planned (Planejado), Under construction (Em construção), Operational (Operacional), Suspended (Suspenso), ou Decommissioned (Descomissionado).\n",
    "\n",
    "**Project_phase**: Fase atual do projeto. Número inteiro maior ou igual a 1.\n",
    "\n",
    "**Announced_capacity_low_Mt_CO2_yr**: Capacidade mínima anunciada para captura de CO2 em milhões de toneladas por ano. Número decimal maior ou igual a zero.\n",
    "\n",
    "**Announced_capacity_high_Mt_CO2_yr**: Capacidade máxima anunciada para captura de CO2 em milhões de toneladas por ano. Número decimal maior ou igual a zero.\n",
    "\n",
    "**Estimated_capacity_by_IEA_Mt_CO2_yr**: Capacidade estimada pela IEA para captura de CO2 em milhões de toneladas por ano. Número decimal maior ou igual a zero.\n",
    "\n",
    "**Sector**: Setor onde a captura de carbono é feita. Valores possíveis: Power and heat (Energia e calor), Natural gas processing/LNG (Processamento de gás natural), Biofuels (Biocombustíveis), Hydrogen or ammonia (Hidrogênio ou amônia), Other fuel transformation (Outras transformações de combustíveis), Cement (Cimento), Iron and steel (Ferro e aço), Chemicals (Química), Other industry (Outra indústria), DAC (Captura direta do ar), Transport (Transporte), Storage (Armazenamento), T&S (Transporte e armazenamento).\n",
    "\n",
    "**Fate_of_carbon**: Destino do carbono capturado. Valores possíveis: Dedicated storage (Armazenamento dedicado), EOR (Recuperação de petróleo), Use (Uso), Unknown/unspecified (Desconhecido).\n",
    "\n",
    "**Part_of_CCUS_hub**: Indica se o projeto faz parte de um hub CCUS. Texto livre.\n",
    "\n",
    "**Region**: Região onde o projeto está localizado. Texto livre.\n",
    "\n",
    "**Ref_1**: Link para o primeiro artigo de notícias sobre o projeto. Texto, deve ser um URL válido.\n",
    "\n",
    "**Ref_2**: Link para o segundo artigo de notícias sobre o projeto. Texto, deve ser um URL válido.\n",
    "\n",
    "**Ref_3**: Link para o terceiro artigo de notícias sobre o projeto. Texto, deve ser um URL válido.\n",
    "\n",
    "**Ref_4**: Link para o quarto artigo de notícias sobre o projeto. Texto, deve ser um URL válido.\n",
    "\n",
    "**Ref_5**: Link para o quinto artigo de notícias sobre o projeto. Texto, deve ser um URL válido.\n",
    "\n",
    "**Ref_6**: Link para o sexto artigo de notícias sobre o projeto. Texto, deve ser um URL válido.\n",
    "\n",
    "**Ref_7**: Link para o sétimo artigo de notícias sobre o projeto. Texto, deve ser um URL válido."
   ]
  },
  {
   "cell_type": "markdown",
   "metadata": {
    "application/vnd.databricks.v1+cell": {
     "cellMetadata": {},
     "inputWidgets": {},
     "nuid": "0e56dbdd-5ccb-4aa9-8a82-79938fcd64d1",
     "showTitle": false,
     "title": ""
    }
   },
   "source": [
    "### Definir variáveis do catálogo"
   ]
  },
  {
   "cell_type": "code",
   "execution_count": 0,
   "metadata": {
    "application/vnd.databricks.v1+cell": {
     "cellMetadata": {
      "byteLimit": 2048000,
      "rowLimit": 10000
     },
     "inputWidgets": {},
     "nuid": "22728458-c961-4466-bcc8-d48169f533c1",
     "showTitle": false,
     "title": ""
    }
   },
   "outputs": [],
   "source": [
    "descricao = \"A tabela contém informações sobre projetos de captura, utilização e armazenamento de carbono (CCUS) ao redor do mundo. Ela inclui dados como o nome dos projetos, país, parceiros envolvidos, tipo de projeto, ano de anúncio, ano da decisão final de investimento, ano de operação, ano de suspensão/descomissionamento, status do projeto, fase do projeto, capacidade anunciada e estimada para captura, transporte e armazenamento de CO2, setor, destino do carbono, se o projeto faz parte de um hub CCUS, região, e links para artigos de notícias sobre o projeto. Esta tabela fornece insights valiosos sobre o panorama global dos projetos de CCUS e seu status atual. Os dados foram obtidos da International Energy Agency (IEA), de um arquivo Excel disponível no endereço https://www.iea.org/data-and-statistics/data-product/ccus-projects-database.\""
   ]
  },
  {
   "cell_type": "code",
   "execution_count": 0,
   "metadata": {
    "application/vnd.databricks.v1+cell": {
     "cellMetadata": {},
     "inputWidgets": {},
     "nuid": "f178032f-d9df-42ad-b39c-f07bdbaf6c68",
     "showTitle": false,
     "title": ""
    }
   },
   "outputs": [],
   "source": [
    "comentarios = {\n",
    "    \"Project_name\": \"Nome do projeto. Texto livre, não deve ser vazio.\",\n",
    "    \"ID\": \"Identificação única do projeto. Deve ser um número inteiro e único.\",\n",
    "    \"Country\": \"País(es) onde o projeto está localizado. Texto livre.\",\n",
    "    \"Partners\": \"Parceiros envolvidos no projeto. Texto livre.\",\n",
    "    \"Project_type\": \"Tipo de projeto. Valores possíveis: Full chain (Cadeia completa), Capture (Captura), Transport (Transporte), Storage (Armazenamento), T&S (Transporte e armazenamento), ou CCU (Captura e Utilização).\",\n",
    "    \"Announcement\": \"Ano de anúncio do projeto, com quatro dígitos.\",\n",
    "    \"FID\": \"Ano ocorrido ou planejado da decisão final de investimento, com quatro dígitos.\",\n",
    "    \"Operation\": \"Ano ocorrido ou planejado de início da operação do projeto, com quatro dígitos.\",\n",
    "    \"Suspension_decommissioning\": \"Ano ocorrido ou planejado de suspensão ou descomissionamento do projeto, com quatro dígitos.\",\n",
    "    \"Project_Status\": \"Status atual do projeto. Valores possíveis: Planned (Planejado), Under construction (Em construção), Operational (Operacional), Suspended (Suspenso), ou Decommissioned (Descomissionado).\",\n",
    "    \"Project_phase\": \"Fase atual do projeto. Número inteiro maior ou igual a 1.\",\n",
    "    \"Announced_capacity_low_Mt_CO2_yr\": \"Capacidade mínima anunciada para captura de CO2 em milhões de toneladas por ano. Número decimal maior ou igual a zero.\",\n",
    "    \"Announced_capacity_high_Mt_CO2_yr\": \"Capacidade máxima anunciada para captura de CO2 em milhões de toneladas por ano. Número decimal maior ou igual a zero.\",\n",
    "    \"Estimated_capacity_by_IEA_Mt_CO2_yr\": \"Capacidade estimada pela IEA para captura de CO2 em milhões de toneladas por ano. Número decimal maior ou igual a zero.\",\n",
    "    \"Sector\": \"Setor onde a captura de carbono é feita. Valores possíveis: Power and heat (Energia e calor), Natural gas processing/LNG (Processamento de gás natural), Biofuels (Biocombustíveis), Hydrogen or ammonia (Hidrogênio ou amônia), Other fuel transformation (Outras transformações de combustíveis), Cement (Cimento), Iron and steel (Ferro e aço), Chemicals (Química), Other industry (Outra indústria), DAC (Captura direta do ar), Transport (Transporte), Storage (Armazenamento), T&S (Transporte e armazenamento).\",\n",
    "    \"Fate_of_carbon\": \"Destino do carbono capturado. Valores possíveis: Dedicated storage (Armazenamento dedicado), EOR (Recuperação de petróleo), Use (Uso), Unknown/unspecified (Desconhecido).\",\n",
    "    \"Part_of_CCUS_hub\": \"Indica se o projeto faz parte de um hub CCUS. Texto livre.\",\n",
    "    \"Region\": \"Região onde o projeto está localizado. Texto livre.\",\n",
    "    \"Ref_1\": \"Link para o primeiro artigo de notícias sobre o projeto. Texto, deve ser um URL válido.\",\n",
    "    \"Ref_2\": \"Link para o segundo artigo de notícias sobre o projeto. Texto, deve ser um URL válido.\",\n",
    "    \"Ref_3\": \"Link para o terceiro artigo de notícias sobre o projeto. Texto, deve ser um URL válido.\",\n",
    "    \"Ref_4\": \"Link para o quarto artigo de notícias sobre o projeto. Texto, deve ser um URL válido.\",\n",
    "    \"Ref_5\": \"Link para o quinto artigo de notícias sobre o projeto. Texto, deve ser um URL válido.\",\n",
    "    \"Ref_6\": \"Link para o sexto artigo de notícias sobre o projeto. Texto, deve ser um URL válido.\",\n",
    "    \"Ref_7\": \"Link para o sétimo artigo de notícias sobre o projeto. Texto, deve ser um URL válido.\"\n",
    "}"
   ]
  },
  {
   "cell_type": "markdown",
   "metadata": {
    "application/vnd.databricks.v1+cell": {
     "cellMetadata": {
      "byteLimit": 2048000,
      "rowLimit": 10000
     },
     "inputWidgets": {},
     "nuid": "8320c1ef-e326-4588-b366-782c86c68a22",
     "showTitle": false,
     "title": ""
    }
   },
   "source": [
    "# Configurações iniciais"
   ]
  },
  {
   "cell_type": "markdown",
   "metadata": {
    "application/vnd.databricks.v1+cell": {
     "cellMetadata": {
      "byteLimit": 2048000,
      "rowLimit": 10000
     },
     "inputWidgets": {},
     "nuid": "38fd416c-d422-4bea-8d2b-fa848ff8861d",
     "showTitle": false,
     "title": ""
    }
   },
   "source": [
    "## Bibliotecas"
   ]
  },
  {
   "cell_type": "code",
   "execution_count": 0,
   "metadata": {
    "application/vnd.databricks.v1+cell": {
     "cellMetadata": {
      "byteLimit": 2048000,
      "rowLimit": 10000
     },
     "inputWidgets": {},
     "nuid": "49d25471-91d3-464a-acd1-caa46b4ee36b",
     "showTitle": false,
     "title": ""
    },
    "jupyter": {
     "outputs_hidden": true
    }
   },
   "outputs": [
    {
     "output_type": "stream",
     "name": "stdout",
     "output_type": "stream",
     "text": [
      "\r\n\u001B[1m[\u001B[0m\u001B[34;49mnotice\u001B[0m\u001B[1;39;49m]\u001B[0m\u001B[39;49m A new release of pip available: \u001B[0m\u001B[31;49m22.2.2\u001B[0m\u001B[39;49m -> \u001B[0m\u001B[32;49m24.1.1\u001B[0m\r\n\u001B[1m[\u001B[0m\u001B[34;49mnotice\u001B[0m\u001B[1;39;49m]\u001B[0m\u001B[39;49m To update, run: \u001B[0m\u001B[32;49mpip install --upgrade pip\u001B[0m\r\n\r\n\u001B[1m[\u001B[0m\u001B[34;49mnotice\u001B[0m\u001B[1;39;49m]\u001B[0m\u001B[39;49m A new release of pip available: \u001B[0m\u001B[31;49m22.2.2\u001B[0m\u001B[39;49m -> \u001B[0m\u001B[32;49m24.1.1\u001B[0m\r\n\u001B[1m[\u001B[0m\u001B[34;49mnotice\u001B[0m\u001B[1;39;49m]\u001B[0m\u001B[39;49m To update, run: \u001B[0m\u001B[32;49mpip install --upgrade pip\u001B[0m\r\n"
     ]
    }
   ],
   "source": [
    "!pip install openpyxl --quiet\n",
    "!pip install unidecode --quiet"
   ]
  },
  {
   "cell_type": "code",
   "execution_count": 0,
   "metadata": {
    "application/vnd.databricks.v1+cell": {
     "cellMetadata": {
      "byteLimit": 2048000,
      "rowLimit": 10000
     },
     "inputWidgets": {},
     "nuid": "631e75fa-5ca2-403f-93ee-f2b3273bd9fd",
     "showTitle": false,
     "title": ""
    }
   },
   "outputs": [],
   "source": [
    "import pandas as pd\n",
    "import re\n",
    "from pyspark.sql import functions as sf\n",
    "from unidecode import unidecode"
   ]
  },
  {
   "cell_type": "markdown",
   "metadata": {
    "application/vnd.databricks.v1+cell": {
     "cellMetadata": {
      "byteLimit": 2048000,
      "rowLimit": 10000
     },
     "inputWidgets": {},
     "nuid": "2b75aa99-18ae-407e-a4b1-e690a2028045",
     "showTitle": false,
     "title": ""
    }
   },
   "source": [
    "## Parâmetros"
   ]
  },
  {
   "cell_type": "code",
   "execution_count": 0,
   "metadata": {
    "application/vnd.databricks.v1+cell": {
     "cellMetadata": {
      "byteLimit": 2048000,
      "rowLimit": 10000
     },
     "inputWidgets": {},
     "nuid": "fd95fa55-cde5-42c8-b440-631ae9bef73d",
     "showTitle": false,
     "title": ""
    }
   },
   "outputs": [],
   "source": [
    "# Definições do arquivo Excel\n",
    "sheetname = \"CCUS Projects Database\"\n",
    "cellposition = \"A1\""
   ]
  },
  {
   "cell_type": "code",
   "execution_count": 0,
   "metadata": {
    "application/vnd.databricks.v1+cell": {
     "cellMetadata": {
      "byteLimit": 2048000,
      "rowLimit": 10000
     },
     "inputWidgets": {},
     "nuid": "b47bc44e-0d6f-429c-bc20-72b03725416b",
     "showTitle": false,
     "title": ""
    }
   },
   "outputs": [],
   "source": [
    "# Parâmetros de gravação da tabela\n",
    "catalogo = \"dt0051_dev\"\n",
    "schema = \"treinamento\"\n",
    "tabela = \"iea_ccus_projects\""
   ]
  },
  {
   "cell_type": "markdown",
   "metadata": {
    "application/vnd.databricks.v1+cell": {
     "cellMetadata": {
      "byteLimit": 2048000,
      "rowLimit": 10000
     },
     "inputWidgets": {},
     "nuid": "07732b40-ad18-488f-ae84-be2c3a4034f0",
     "showTitle": false,
     "title": ""
    }
   },
   "source": [
    "## Caminhos"
   ]
  },
  {
   "cell_type": "code",
   "execution_count": 0,
   "metadata": {
    "application/vnd.databricks.v1+cell": {
     "cellMetadata": {
      "byteLimit": 2048000,
      "rowLimit": 10000
     },
     "inputWidgets": {},
     "nuid": "c52e74df-3d2f-4eff-8a9e-4fac2ec26946",
     "showTitle": false,
     "title": ""
    }
   },
   "outputs": [],
   "source": [
    "# Caminho dos dados\n",
    "path_arquivo = \"https://github.com/samuelrubert/pucrio-mvp-engenhariadados/raw/main/Dados/IEA_CCUS_Projects_Database.xlsx\""
   ]
  },
  {
   "cell_type": "markdown",
   "metadata": {
    "application/vnd.databricks.v1+cell": {
     "cellMetadata": {
      "byteLimit": 2048000,
      "rowLimit": 10000
     },
     "inputWidgets": {},
     "nuid": "e8e96faf-e783-4301-bacd-a8101acbd31e",
     "showTitle": false,
     "title": ""
    }
   },
   "source": [
    "# Extração"
   ]
  },
  {
   "cell_type": "markdown",
   "metadata": {
    "application/vnd.databricks.v1+cell": {
     "cellMetadata": {
      "byteLimit": 2048000,
      "rowLimit": 10000
     },
     "inputWidgets": {},
     "nuid": "9b05b72a-4260-4bd0-bf79-71d5e94d9515",
     "showTitle": false,
     "title": ""
    }
   },
   "source": [
    "## Leitura do arquivo Excel"
   ]
  },
  {
   "cell_type": "markdown",
   "metadata": {
    "application/vnd.databricks.v1+cell": {
     "cellMetadata": {
      "byteLimit": 2048000,
      "rowLimit": 10000
     },
     "inputWidgets": {},
     "nuid": "b9006f67-faa7-4527-931d-51eac8d4b157",
     "showTitle": false,
     "title": ""
    }
   },
   "source": [
    "Usaremos o pandas para ler o arquivo Excel a partir do url externo."
   ]
  },
  {
   "cell_type": "code",
   "execution_count": 0,
   "metadata": {
    "application/vnd.databricks.v1+cell": {
     "cellMetadata": {
      "byteLimit": 2048000,
      "rowLimit": 10000
     },
     "inputWidgets": {},
     "nuid": "741200f2-96c2-4990-9a52-1664449a0af9",
     "showTitle": false,
     "title": ""
    }
   },
   "outputs": [
    {
     "output_type": "execute_result",
     "data": {
      "text/html": [
       "<div>\n",
       "<style scoped>\n",
       "    .dataframe tbody tr th:only-of-type {\n",
       "        vertical-align: middle;\n",
       "    }\n",
       "\n",
       "    .dataframe tbody tr th {\n",
       "        vertical-align: top;\n",
       "    }\n",
       "\n",
       "    .dataframe thead th {\n",
       "        text-align: right;\n",
       "    }\n",
       "</style>\n",
       "<table border=\"1\" class=\"dataframe\">\n",
       "  <thead>\n",
       "    <tr style=\"text-align: right;\">\n",
       "      <th></th>\n",
       "      <th>Project name</th>\n",
       "      <th>ID</th>\n",
       "      <th>Country</th>\n",
       "      <th>Partners</th>\n",
       "      <th>Project type</th>\n",
       "      <th>Announcement</th>\n",
       "      <th>FID</th>\n",
       "      <th>Operation</th>\n",
       "      <th>Suspension/decommissioning</th>\n",
       "      <th>Project Status</th>\n",
       "      <th>Project phase</th>\n",
       "      <th>Announced capacity (Mt CO2/yr)</th>\n",
       "      <th>Estimated capacity by IEA (Mt CO2/yr)</th>\n",
       "      <th>Sector</th>\n",
       "      <th>Fate of carbon</th>\n",
       "      <th>Part of CCUS hub</th>\n",
       "      <th>Region</th>\n",
       "      <th>Ref 1</th>\n",
       "      <th>Ref 2</th>\n",
       "      <th>Ref 3</th>\n",
       "      <th>Ref 4</th>\n",
       "      <th>Ref 5</th>\n",
       "      <th>Ref 6</th>\n",
       "      <th>Ref 7</th>\n",
       "      <th>Link 1</th>\n",
       "      <th>Link 2</th>\n",
       "      <th>Link 3</th>\n",
       "      <th>Link 4</th>\n",
       "      <th>Link 5</th>\n",
       "      <th>Link 6</th>\n",
       "      <th>Link 7</th>\n",
       "    </tr>\n",
       "  </thead>\n",
       "  <tbody>\n",
       "    <tr>\n",
       "      <th>0</th>\n",
       "      <td>3D DMX ArcelorMittal and IFPEN Dunkirk (full-s...</td>\n",
       "      <td>1</td>\n",
       "      <td>France</td>\n",
       "      <td>ArcelorMittal, ifp, Axens, Uetikon, Grassco, b...</td>\n",
       "      <td>Capture</td>\n",
       "      <td>2019.0</td>\n",
       "      <td>NaN</td>\n",
       "      <td>2025.0</td>\n",
       "      <td>NaN</td>\n",
       "      <td>Planned</td>\n",
       "      <td>2.0</td>\n",
       "      <td>0.7</td>\n",
       "      <td>0.70</td>\n",
       "      <td>Iron and steel</td>\n",
       "      <td>Unknown/unspecified</td>\n",
       "      <td>NaN</td>\n",
       "      <td>Europe</td>\n",
       "      <td>https://automotive.arcelormittal.com/news_and_...</td>\n",
       "      <td>https://3d-ccus.com/3d-overview/</td>\n",
       "      <td>NaN</td>\n",
       "      <td>NaN</td>\n",
       "      <td>NaN</td>\n",
       "      <td>NaN</td>\n",
       "      <td>NaN</td>\n",
       "      <td>Link 1</td>\n",
       "      <td>Link 2</td>\n",
       "      <td>NaN</td>\n",
       "      <td>NaN</td>\n",
       "      <td>NaN</td>\n",
       "      <td>NaN</td>\n",
       "      <td>NaN</td>\n",
       "    </tr>\n",
       "    <tr>\n",
       "      <th>1</th>\n",
       "      <td>3D DMX ArcelorMittal and IFPEN Dunkirk 'REUZE'</td>\n",
       "      <td>751</td>\n",
       "      <td>France</td>\n",
       "      <td>ArcelorMittal, Engie, Infinium</td>\n",
       "      <td>CCU</td>\n",
       "      <td>2022.0</td>\n",
       "      <td>2024.0</td>\n",
       "      <td>2025.0</td>\n",
       "      <td>NaN</td>\n",
       "      <td>Planned</td>\n",
       "      <td>1.0</td>\n",
       "      <td>0.3</td>\n",
       "      <td>0.30</td>\n",
       "      <td>Iron and steel</td>\n",
       "      <td>Use</td>\n",
       "      <td>NaN</td>\n",
       "      <td>Europe</td>\n",
       "      <td>https://newsroom.engie.com/actualites/engie-et...</td>\n",
       "      <td>https://corporate.arcelormittal.com/climate-ac...</td>\n",
       "      <td>NaN</td>\n",
       "      <td>NaN</td>\n",
       "      <td>NaN</td>\n",
       "      <td>NaN</td>\n",
       "      <td>NaN</td>\n",
       "      <td>Link 1</td>\n",
       "      <td>Link 2</td>\n",
       "      <td>NaN</td>\n",
       "      <td>NaN</td>\n",
       "      <td>NaN</td>\n",
       "      <td>NaN</td>\n",
       "      <td>NaN</td>\n",
       "    </tr>\n",
       "    <tr>\n",
       "      <th>2</th>\n",
       "      <td>7 Blue Ammonia Facility</td>\n",
       "      <td>1055</td>\n",
       "      <td>Qatar</td>\n",
       "      <td>QAFCO, thyssenkrupp Uhde/Consolidated Contract...</td>\n",
       "      <td>Full Chain</td>\n",
       "      <td>2022.0</td>\n",
       "      <td>2022.0</td>\n",
       "      <td>2026.0</td>\n",
       "      <td>NaN</td>\n",
       "      <td>Under construction</td>\n",
       "      <td>NaN</td>\n",
       "      <td>1.5</td>\n",
       "      <td>1.50</td>\n",
       "      <td>Hydrogen or ammonia</td>\n",
       "      <td>Unknown/unspecified</td>\n",
       "      <td>NaN</td>\n",
       "      <td>Middle East</td>\n",
       "      <td>https://www.qafco.qa/content/qafco-7-announcement</td>\n",
       "      <td>https://www.thyssenkrupp.com/en/newsroom/press...</td>\n",
       "      <td>NaN</td>\n",
       "      <td>NaN</td>\n",
       "      <td>NaN</td>\n",
       "      <td>NaN</td>\n",
       "      <td>NaN</td>\n",
       "      <td>Link 1</td>\n",
       "      <td>Link 2</td>\n",
       "      <td>NaN</td>\n",
       "      <td>NaN</td>\n",
       "      <td>NaN</td>\n",
       "      <td>NaN</td>\n",
       "      <td>NaN</td>\n",
       "    </tr>\n",
       "    <tr>\n",
       "      <th>3</th>\n",
       "      <td>8Rivers H2 (8RH2) (WY)</td>\n",
       "      <td>3</td>\n",
       "      <td>United States</td>\n",
       "      <td>8Rivers, Wyoming Energy Authority</td>\n",
       "      <td>Capture</td>\n",
       "      <td>2022.0</td>\n",
       "      <td>NaN</td>\n",
       "      <td>NaN</td>\n",
       "      <td>NaN</td>\n",
       "      <td>Planned</td>\n",
       "      <td>NaN</td>\n",
       "      <td>NaN</td>\n",
       "      <td>NaN</td>\n",
       "      <td>Hydrogen or ammonia</td>\n",
       "      <td>Dedicated storage</td>\n",
       "      <td>NaN</td>\n",
       "      <td>North America</td>\n",
       "      <td>https://8rivers.com/portfolio/8-rivers-hydrogen/#</td>\n",
       "      <td>NaN</td>\n",
       "      <td>NaN</td>\n",
       "      <td>NaN</td>\n",
       "      <td>NaN</td>\n",
       "      <td>NaN</td>\n",
       "      <td>NaN</td>\n",
       "      <td>Link 1</td>\n",
       "      <td>NaN</td>\n",
       "      <td>NaN</td>\n",
       "      <td>NaN</td>\n",
       "      <td>NaN</td>\n",
       "      <td>NaN</td>\n",
       "      <td>NaN</td>\n",
       "    </tr>\n",
       "    <tr>\n",
       "      <th>4</th>\n",
       "      <td>Abadi CCS/CCUS</td>\n",
       "      <td>227</td>\n",
       "      <td>Indonesia</td>\n",
       "      <td>Inpex Masela 65%, Shell (trying to find a buye...</td>\n",
       "      <td>Full chain</td>\n",
       "      <td>2018.0</td>\n",
       "      <td>NaN</td>\n",
       "      <td>2027.0</td>\n",
       "      <td>NaN</td>\n",
       "      <td>Planned</td>\n",
       "      <td>NaN</td>\n",
       "      <td>2.41</td>\n",
       "      <td>2.41</td>\n",
       "      <td>Natural gas processing/LNG</td>\n",
       "      <td>Unknown/unspecified</td>\n",
       "      <td>NaN</td>\n",
       "      <td>Other Asia Pacific</td>\n",
       "      <td>https://www.upstreamonline.com/lng/inpex-furth...</td>\n",
       "      <td>https://www.ogj.com/pipelines-transportation/l...</td>\n",
       "      <td>https://www.spglobal.com/commodityinsights/en/...</td>\n",
       "      <td>NaN</td>\n",
       "      <td>NaN</td>\n",
       "      <td>NaN</td>\n",
       "      <td>NaN</td>\n",
       "      <td>Link 1</td>\n",
       "      <td>Link 2</td>\n",
       "      <td>Link 3</td>\n",
       "      <td>NaN</td>\n",
       "      <td>NaN</td>\n",
       "      <td>NaN</td>\n",
       "      <td>NaN</td>\n",
       "    </tr>\n",
       "  </tbody>\n",
       "</table>\n",
       "</div>"
      ],
      "text/plain": [
       "                                        Project name    ID  ... Link 6 Link 7\n",
       "0  3D DMX ArcelorMittal and IFPEN Dunkirk (full-s...     1  ...    NaN    NaN\n",
       "1     3D DMX ArcelorMittal and IFPEN Dunkirk 'REUZE'   751  ...    NaN    NaN\n",
       "2                            7 Blue Ammonia Facility  1055  ...    NaN    NaN\n",
       "3                             8Rivers H2 (8RH2) (WY)     3  ...    NaN    NaN\n",
       "4                                     Abadi CCS/CCUS   227  ...    NaN    NaN\n",
       "\n",
       "[5 rows x 31 columns]"
      ]
     },
     "execution_count": 16,
     "metadata": {},
     "output_type": "execute_result"
    }
   ],
   "source": [
    "df_pandas = pd.read_excel(path_arquivo, sheet_name=sheetname, header=0)\n",
    "df_pandas.head()"
   ]
  },
  {
   "cell_type": "markdown",
   "metadata": {
    "application/vnd.databricks.v1+cell": {
     "cellMetadata": {
      "byteLimit": 2048000,
      "rowLimit": 10000
     },
     "inputWidgets": {},
     "nuid": "a19ba4bc-e508-4f24-af21-17b85b7caf94",
     "showTitle": false,
     "title": ""
    }
   },
   "source": [
    "Vamos verificar os tipos de dados inferidos pelo pandas. Pode ser necessário fazer alguma correção posterior."
   ]
  },
  {
   "cell_type": "code",
   "execution_count": 0,
   "metadata": {
    "application/vnd.databricks.v1+cell": {
     "cellMetadata": {
      "byteLimit": 2048000,
      "rowLimit": 10000
     },
     "inputWidgets": {},
     "nuid": "411f673c-32a3-4db4-b0ec-1d8ad9b214b7",
     "showTitle": false,
     "title": ""
    }
   },
   "outputs": [
    {
     "output_type": "execute_result",
     "data": {
      "text/plain": [
       "Project name                              object\n",
       "ID                                         int64\n",
       "Country                                   object\n",
       "Partners                                  object\n",
       "Project type                              object\n",
       "Announcement                             float64\n",
       "FID                                      float64\n",
       "Operation                                float64\n",
       "Suspension/decommissioning               float64\n",
       "Project Status                            object\n",
       "Project phase                            float64\n",
       "Announced capacity (Mt CO2/yr)            object\n",
       "Estimated capacity by IEA (Mt CO2/yr)    float64\n",
       "Sector                                    object\n",
       "Fate of carbon                            object\n",
       "Part of CCUS hub                          object\n",
       "Region                                    object\n",
       "Ref 1                                     object\n",
       "Ref 2                                     object\n",
       "Ref 3                                     object\n",
       "Ref 4                                     object\n",
       "Ref 5                                     object\n",
       "Ref 6                                     object\n",
       "Ref 7                                     object\n",
       "Link 1                                    object\n",
       "Link 2                                    object\n",
       "Link 3                                    object\n",
       "Link 4                                    object\n",
       "Link 5                                    object\n",
       "Link 6                                    object\n",
       "Link 7                                    object\n",
       "dtype: object"
      ]
     },
     "execution_count": 17,
     "metadata": {},
     "output_type": "execute_result"
    }
   ],
   "source": [
    "df_pandas.dtypes"
   ]
  },
  {
   "cell_type": "markdown",
   "metadata": {
    "application/vnd.databricks.v1+cell": {
     "cellMetadata": {
      "byteLimit": 2048000,
      "rowLimit": 10000
     },
     "inputWidgets": {},
     "nuid": "183d76a2-67bc-4e19-99c8-9a13e9f815bc",
     "showTitle": false,
     "title": ""
    }
   },
   "source": [
    "De fato, verificamos que algumas colunas que tratam apenas de números inteiros foram inferidas como float64. Ajustaremos isso adiante."
   ]
  },
  {
   "cell_type": "markdown",
   "metadata": {
    "application/vnd.databricks.v1+cell": {
     "cellMetadata": {
      "byteLimit": 2048000,
      "rowLimit": 10000
     },
     "inputWidgets": {},
     "nuid": "a193602e-1384-4e21-aef1-fcceb5a7747b",
     "showTitle": false,
     "title": ""
    }
   },
   "source": [
    "## Conversão em dataframe Spark"
   ]
  },
  {
   "cell_type": "markdown",
   "metadata": {
    "application/vnd.databricks.v1+cell": {
     "cellMetadata": {
      "byteLimit": 2048000,
      "rowLimit": 10000
     },
     "inputWidgets": {},
     "nuid": "11bcb3c7-4c78-4ef7-b664-9135141a0190",
     "showTitle": false,
     "title": ""
    }
   },
   "source": [
    "Vamos converter os dados para um dataframe Spark, que usaremos para fazer o tratamento."
   ]
  },
  {
   "cell_type": "code",
   "execution_count": 0,
   "metadata": {
    "application/vnd.databricks.v1+cell": {
     "cellMetadata": {
      "byteLimit": 2048000,
      "rowLimit": 10000
     },
     "inputWidgets": {},
     "nuid": "ca950ce4-f599-40a6-b050-521f3d713dee",
     "showTitle": false,
     "title": ""
    }
   },
   "outputs": [
    {
     "output_type": "display_data",
     "data": {
      "text/html": [
       "<style scoped>\n",
       "  .table-result-container {\n",
       "    max-height: 300px;\n",
       "    overflow: auto;\n",
       "  }\n",
       "  table, th, td {\n",
       "    border: 1px solid black;\n",
       "    border-collapse: collapse;\n",
       "  }\n",
       "  th, td {\n",
       "    padding: 5px;\n",
       "  }\n",
       "  th {\n",
       "    text-align: left;\n",
       "  }\n",
       "</style><div class='table-result-container'><table class='table-result'><thead style='background-color: white'><tr><th>Project name</th><th>ID</th><th>Country</th><th>Partners</th><th>Project type</th><th>Announcement</th><th>FID</th><th>Operation</th><th>Suspension/decommissioning</th><th>Project Status</th><th>Project phase</th><th>Announced capacity (Mt CO2/yr)</th><th>Estimated capacity by IEA (Mt CO2/yr)</th><th>Sector</th><th>Fate of carbon</th><th>Part of CCUS hub</th><th>Region</th><th>Ref 1</th><th>Ref 2</th><th>Ref 3</th><th>Ref 4</th><th>Ref 5</th><th>Ref 6</th><th>Ref 7</th><th>Link 1</th><th>Link 2</th><th>Link 3</th><th>Link 4</th><th>Link 5</th><th>Link 6</th><th>Link 7</th></tr></thead><tbody><tr><td>3D DMX ArcelorMittal and IFPEN Dunkirk (full-scale)</td><td>1</td><td>France</td><td>ArcelorMittal, ifp, Axens, Uetikon, Grassco, brevik, TotalEnergies (T&S)</td><td>Capture</td><td>2019.0</td><td>NaN</td><td>2025.0</td><td>NaN</td><td>Planned</td><td>2.0</td><td>0.7</td><td>0.7</td><td>Iron and steel</td><td>Unknown/unspecified</td><td>NaN</td><td>Europe</td><td>https://automotive.arcelormittal.com/news_and_stories/news/2019DMXproject</td><td>https://3d-ccus.com/3d-overview/</td><td>NaN</td><td>NaN</td><td>NaN</td><td>NaN</td><td>NaN</td><td>Link 1</td><td>Link 2</td><td>NaN</td><td>NaN</td><td>NaN</td><td>NaN</td><td>NaN</td></tr><tr><td>3D DMX ArcelorMittal and IFPEN Dunkirk 'REUZE'</td><td>751</td><td>France</td><td>ArcelorMittal, Engie, Infinium</td><td>CCU</td><td>2022.0</td><td>2024.0</td><td>2025.0</td><td>NaN</td><td>Planned</td><td>1.0</td><td>0.3</td><td>0.3</td><td>Iron and steel</td><td>Use</td><td>NaN</td><td>Europe</td><td>https://newsroom.engie.com/actualites/engie-et-infinium-annoncent-un-partenariat-pour-developper-un-hub-industriel-denvergure-europeenne-de-production-de-carburants-de-synthese-a-dunkerque-6d4d-ff316.html</td><td>https://corporate.arcelormittal.com/climate-action/decarbonisation-technologies/the-3d-project-dmx-demonstration-in-dunkirk</td><td>NaN</td><td>NaN</td><td>NaN</td><td>NaN</td><td>NaN</td><td>Link 1</td><td>Link 2</td><td>NaN</td><td>NaN</td><td>NaN</td><td>NaN</td><td>NaN</td></tr><tr><td>7 Blue Ammonia Facility</td><td>1055</td><td>Qatar</td><td>QAFCO, thyssenkrupp Uhde/Consolidated Contractors Company (EPC)</td><td>Full Chain</td><td>2022.0</td><td>2022.0</td><td>2026.0</td><td>NaN</td><td>Under construction</td><td>NaN</td><td>1.5</td><td>1.5</td><td>Hydrogen or ammonia</td><td>Unknown/unspecified</td><td>NaN</td><td>Middle East</td><td>https://www.qafco.qa/content/qafco-7-announcement</td><td>https://www.thyssenkrupp.com/en/newsroom/press-releases/pressdetailpage/thyssenkrupp-uhde-to-build-world-scale-blue-ammonia-plant-in-qatar-138369</td><td>NaN</td><td>NaN</td><td>NaN</td><td>NaN</td><td>NaN</td><td>Link 1</td><td>Link 2</td><td>NaN</td><td>NaN</td><td>NaN</td><td>NaN</td><td>NaN</td></tr><tr><td>8Rivers H2 (8RH2) (WY)</td><td>3</td><td>United States</td><td>8Rivers, Wyoming Energy Authority</td><td>Capture</td><td>2022.0</td><td>NaN</td><td>NaN</td><td>NaN</td><td>Planned</td><td>NaN</td><td>NaN</td><td>NaN</td><td>Hydrogen or ammonia</td><td>Dedicated storage</td><td>NaN</td><td>North America</td><td>https://8rivers.com/portfolio/8-rivers-hydrogen/#</td><td>NaN</td><td>NaN</td><td>NaN</td><td>NaN</td><td>NaN</td><td>NaN</td><td>Link 1</td><td>NaN</td><td>NaN</td><td>NaN</td><td>NaN</td><td>NaN</td><td>NaN</td></tr><tr><td>Abadi CCS/CCUS</td><td>227</td><td>Indonesia</td><td>Inpex Masela 65%, Shell (trying to find a buyer for its shares), ITB (feasibility)</td><td>Full chain</td><td>2018.0</td><td>NaN</td><td>2027.0</td><td>NaN</td><td>Planned</td><td>NaN</td><td>2.41</td><td>2.41</td><td>Natural gas processing/LNG</td><td>Unknown/unspecified</td><td>NaN</td><td>Other Asia Pacific</td><td>https://www.upstreamonline.com/lng/inpex-further-delays-flagship-abadi-lng-project/2-1-1173044</td><td>https://www.ogj.com/pipelines-transportation/lng/article/14292056/inpex-submits-ccs-plan-for-abadi-lng-project</td><td>https://www.spglobal.com/commodityinsights/en/market-insights/latest-news/lng/092823-interview-indonesia-to-finalize-presidential-ccsccus-regulation-by-year-end</td><td>NaN</td><td>NaN</td><td>NaN</td><td>NaN</td><td>Link 1</td><td>Link 2</td><td>Link 3</td><td>NaN</td><td>NaN</td><td>NaN</td><td>NaN</td></tr><tr><td>Ackerman Combined Cycle Plant (MS)</td><td>975</td><td>United States</td><td>Trifecta Renewable Solutions, Tennessee Valley Authority</td><td>Capture</td><td>2023.0</td><td>NaN</td><td>NaN</td><td>NaN</td><td>Planned</td><td>NaN</td><td>1.8</td><td>1.8</td><td>Power and heat</td><td>Dedicated storage</td><td>Red Hills CO2 storage hub (MS)</td><td>North America</td><td>https://www.energy.gov/fecm/project-selections-foa-2711-carbon-storage-validation-and-testing-round-2</td><td>NaN</td><td>NaN</td><td>NaN</td><td>NaN</td><td>NaN</td><td>NaN</td><td>Link 1</td><td>NaN</td><td>NaN</td><td>NaN</td><td>NaN</td><td>NaN</td><td>NaN</td></tr><tr><td>Acorn CCS phase 1-Capture at St Fergus</td><td>7</td><td>United Kingdom</td><td>Storegga(30%), Shell (30%), Harbour (30%), North Sea Midstream partners (10%)</td><td>Capture</td><td>2016.0</td><td>2024.0</td><td>2028.0</td><td>NaN</td><td>Planned</td><td>NaN</td><td>0.3</td><td>0.3</td><td>Natural gas processing/LNG</td><td>Dedicated storage</td><td>Acorn CCS</td><td>Europe</td><td>https://www.upstreamonline.com/energy-transition/five-proposed-uk-carbon-capture-projects-meet-governments-eligibility-test/2-1-1047222</td><td>https://www.offshore-energy.biz/carbon-clean-to-carry-out-feed-on-acorn-carbon-capture-plant/</td><td>https://www.backthescottishcluster.co.uk/the-scottish-cluster-supply-chain</td><td>https://www.storegga.earth/news/2021/news/acorn-project-partners-storegga-shell-u-k-and-harbour-energy-sign-mou-with-the-owners-of-the-segal-and-fuka-gas-terminals-at-st-fergus/</td><td>https://www.scottishconstructionnow.com/articles/acorn-project-partners-select-carbon-clean-to-deliver-st-fergus-carbon-capture-plant-feed-study</td><td>https://www.energyvoice.com/oilandgas/north-sea/370332/st-fergus-terminal-owner-joins-acorn-ccs-project-as-partner</td><td>NaN</td><td>Link 1</td><td>Link 2</td><td>Link 3</td><td>Link 4</td><td>Link 5</td><td>Link 6</td><td>NaN</td></tr><tr><td>Acorn CCS phase 1-T&S</td><td>8</td><td>United Kingdom</td><td>Storegga(30%), Shell (30%), Harbour (30%), North Sea Midstream partners (10%)</td><td>T&S</td><td>2016.0</td><td>2024.0</td><td>2028.0</td><td>NaN</td><td>Planned</td><td>1.0</td><td>0.3 - 0.8</td><td>0.8</td><td>T&S</td><td>Dedicated storage</td><td>Acorn CCS</td><td>Europe</td><td>https://www.upstreamonline.com/energy-transition/five-proposed-uk-carbon-capture-projects-meet-governments-eligibility-test/2-1-1047222</td><td>https://www.offshore-energy.biz/carbon-clean-to-carry-out-feed-on-acorn-carbon-capture-plant/</td><td>https://www.backthescottishcluster.co.uk/the-scottish-cluster-supply-chain</td><td>https://www.storegga.earth/news/2021/news/acorn-project-partners-storegga-shell-u-k-and-harbour-energy-sign-mou-with-the-owners-of-the-segal-and-fuka-gas-terminals-at-st-fergus/</td><td>https://www.scottishconstructionnow.com/articles/acorn-project-partners-select-carbon-clean-to-deliver-st-fergus-carbon-capture-plant-feed-study</td><td>https://www.energyvoice.com/oilandgas/north-sea/370332/st-fergus-terminal-owner-joins-acorn-ccs-project-as-partner</td><td>NaN</td><td>Link 1</td><td>Link 2</td><td>Link 3</td><td>Link 4</td><td>Link 5</td><td>Link 6</td><td>NaN</td></tr><tr><td>Acorn CCS phase 2</td><td>9</td><td>United Kingdom</td><td>Storegga(30%), Shell (30%), Harbour (30%), North Sea Midstream partners (10%)</td><td>T&S</td><td>2017.0</td><td>NaN</td><td>NaN</td><td>NaN</td><td>Planned</td><td>2.0</td><td>5</td><td>5.0</td><td>T&S</td><td>Dedicated storage</td><td>Acorn CCS</td><td>Europe</td><td>https://www.upstreamonline.com/energy-transition/five-proposed-uk-carbon-capture-projects-meet-governments-eligibility-test/2-1-1047222</td><td>https://www.offshore-energy.biz/carbon-clean-to-carry-out-feed-on-acorn-carbon-capture-plant/</td><td>https://www.backthescottishcluster.co.uk/the-scottish-cluster-supply-chain</td><td>https://www.storegga.earth/news/2021/news/acorn-project-partners-storegga-shell-u-k-and-harbour-energy-sign-mou-with-the-owners-of-the-segal-and-fuka-gas-terminals-at-st-fergus/</td><td>https://www.scottishconstructionnow.com/articles/acorn-project-partners-select-carbon-clean-to-deliver-st-fergus-carbon-capture-plant-feed-study</td><td>https://www.energyvoice.com/oilandgas/north-sea/370332/st-fergus-terminal-owner-joins-acorn-ccs-project-as-partner</td><td>https://www.theacornproject.uk/news-and-events/nsta-grants-carbon-storage-licences-to-acorn</td><td>Link 1</td><td>Link 2</td><td>Link 3</td><td>Link 4</td><td>Link 5</td><td>Link 6</td><td>Link 7</td></tr><tr><td>Acorn H2</td><td>10</td><td>United Kingdom</td><td>Storegga, Chrysaor, Shell</td><td>Capture</td><td>2018.0</td><td>NaN</td><td>2028.0</td><td>NaN</td><td>Planned</td><td>NaN</td><td>0.4</td><td>0.4</td><td>Hydrogen or ammonia</td><td>Dedicated storage</td><td>Acorn CCS</td><td>Europe</td><td>https://assets.publishing.service.gov.uk/government/uploads/system/uploads/attachment_data/file/866380/Phase_1_-_Pale_Blue_Dot_Energy_-_Acorn_Hydrogen.pdf</td><td>NaN</td><td>NaN</td><td>NaN</td><td>NaN</td><td>NaN</td><td>NaN</td><td>Link 1</td><td>NaN</td><td>NaN</td><td>NaN</td><td>NaN</td><td>NaN</td><td>NaN</td></tr></tbody></table></div>"
      ]
     },
     "metadata": {
      "application/vnd.databricks.v1+output": {
       "addedWidgets": {},
       "aggData": [],
       "aggError": "",
       "aggOverflow": false,
       "aggSchema": [],
       "aggSeriesLimitReached": false,
       "aggType": "",
       "arguments": {},
       "columnCustomDisplayInfos": {},
       "data": [
        [
         "3D DMX ArcelorMittal and IFPEN Dunkirk (full-scale)",
         1,
         "France",
         "ArcelorMittal, ifp, Axens, Uetikon, Grassco, brevik, TotalEnergies (T&S)",
         "Capture",
         2019.0,
         "NaN",
         2025.0,
         "NaN",
         "Planned",
         2.0,
         "0.7",
         0.7,
         "Iron and steel",
         "Unknown/unspecified",
         "NaN",
         "Europe",
         "https://automotive.arcelormittal.com/news_and_stories/news/2019DMXproject",
         "https://3d-ccus.com/3d-overview/",
         "NaN",
         "NaN",
         "NaN",
         "NaN",
         "NaN",
         "Link 1",
         "Link 2",
         "NaN",
         "NaN",
         "NaN",
         "NaN",
         "NaN"
        ],
        [
         "3D DMX ArcelorMittal and IFPEN Dunkirk 'REUZE'",
         751,
         "France",
         "ArcelorMittal, Engie, Infinium",
         "CCU",
         2022.0,
         2024.0,
         2025.0,
         "NaN",
         "Planned",
         1.0,
         "0.3",
         0.3,
         "Iron and steel",
         "Use",
         "NaN",
         "Europe",
         "https://newsroom.engie.com/actualites/engie-et-infinium-annoncent-un-partenariat-pour-developper-un-hub-industriel-denvergure-europeenne-de-production-de-carburants-de-synthese-a-dunkerque-6d4d-ff316.html",
         "https://corporate.arcelormittal.com/climate-action/decarbonisation-technologies/the-3d-project-dmx-demonstration-in-dunkirk",
         "NaN",
         "NaN",
         "NaN",
         "NaN",
         "NaN",
         "Link 1",
         "Link 2",
         "NaN",
         "NaN",
         "NaN",
         "NaN",
         "NaN"
        ],
        [
         "7 Blue Ammonia Facility",
         1055,
         "Qatar",
         "QAFCO, thyssenkrupp Uhde/Consolidated Contractors Company (EPC)",
         "Full Chain",
         2022.0,
         2022.0,
         2026.0,
         "NaN",
         "Under construction",
         "NaN",
         "1.5",
         1.5,
         "Hydrogen or ammonia",
         "Unknown/unspecified",
         "NaN",
         "Middle East",
         "https://www.qafco.qa/content/qafco-7-announcement",
         "https://www.thyssenkrupp.com/en/newsroom/press-releases/pressdetailpage/thyssenkrupp-uhde-to-build-world-scale-blue-ammonia-plant-in-qatar-138369",
         "NaN",
         "NaN",
         "NaN",
         "NaN",
         "NaN",
         "Link 1",
         "Link 2",
         "NaN",
         "NaN",
         "NaN",
         "NaN",
         "NaN"
        ],
        [
         "8Rivers H2 (8RH2) (WY)",
         3,
         "United States",
         "8Rivers, Wyoming Energy Authority",
         "Capture",
         2022.0,
         "NaN",
         "NaN",
         "NaN",
         "Planned",
         "NaN",
         "NaN",
         "NaN",
         "Hydrogen or ammonia",
         "Dedicated storage",
         "NaN",
         "North America",
         "https://8rivers.com/portfolio/8-rivers-hydrogen/#",
         "NaN",
         "NaN",
         "NaN",
         "NaN",
         "NaN",
         "NaN",
         "Link 1",
         "NaN",
         "NaN",
         "NaN",
         "NaN",
         "NaN",
         "NaN"
        ],
        [
         "Abadi CCS/CCUS",
         227,
         "Indonesia",
         "Inpex Masela 65%, Shell (trying to find a buyer for its shares), ITB (feasibility)",
         "Full chain",
         2018.0,
         "NaN",
         2027.0,
         "NaN",
         "Planned",
         "NaN",
         "2.41",
         2.41,
         "Natural gas processing/LNG",
         "Unknown/unspecified",
         "NaN",
         "Other Asia Pacific",
         "https://www.upstreamonline.com/lng/inpex-further-delays-flagship-abadi-lng-project/2-1-1173044",
         "https://www.ogj.com/pipelines-transportation/lng/article/14292056/inpex-submits-ccs-plan-for-abadi-lng-project",
         "https://www.spglobal.com/commodityinsights/en/market-insights/latest-news/lng/092823-interview-indonesia-to-finalize-presidential-ccsccus-regulation-by-year-end",
         "NaN",
         "NaN",
         "NaN",
         "NaN",
         "Link 1",
         "Link 2",
         "Link 3",
         "NaN",
         "NaN",
         "NaN",
         "NaN"
        ],
        [
         "Ackerman Combined Cycle Plant (MS)",
         975,
         "United States",
         "Trifecta Renewable Solutions, Tennessee Valley Authority",
         "Capture",
         2023.0,
         "NaN",
         "NaN",
         "NaN",
         "Planned",
         "NaN",
         "1.8",
         1.8,
         "Power and heat",
         "Dedicated storage",
         "Red Hills CO2 storage hub (MS)",
         "North America",
         "https://www.energy.gov/fecm/project-selections-foa-2711-carbon-storage-validation-and-testing-round-2",
         "NaN",
         "NaN",
         "NaN",
         "NaN",
         "NaN",
         "NaN",
         "Link 1",
         "NaN",
         "NaN",
         "NaN",
         "NaN",
         "NaN",
         "NaN"
        ],
        [
         "Acorn CCS phase 1-Capture at St Fergus",
         7,
         "United Kingdom",
         "Storegga(30%), Shell (30%), Harbour (30%), North Sea Midstream partners (10%)",
         "Capture",
         2016.0,
         2024.0,
         2028.0,
         "NaN",
         "Planned",
         "NaN",
         "0.3",
         0.3,
         "Natural gas processing/LNG",
         "Dedicated storage",
         "Acorn CCS",
         "Europe",
         "https://www.upstreamonline.com/energy-transition/five-proposed-uk-carbon-capture-projects-meet-governments-eligibility-test/2-1-1047222",
         "https://www.offshore-energy.biz/carbon-clean-to-carry-out-feed-on-acorn-carbon-capture-plant/",
         "https://www.backthescottishcluster.co.uk/the-scottish-cluster-supply-chain",
         "https://www.storegga.earth/news/2021/news/acorn-project-partners-storegga-shell-u-k-and-harbour-energy-sign-mou-with-the-owners-of-the-segal-and-fuka-gas-terminals-at-st-fergus/",
         "https://www.scottishconstructionnow.com/articles/acorn-project-partners-select-carbon-clean-to-deliver-st-fergus-carbon-capture-plant-feed-study",
         "https://www.energyvoice.com/oilandgas/north-sea/370332/st-fergus-terminal-owner-joins-acorn-ccs-project-as-partner",
         "NaN",
         "Link 1",
         "Link 2",
         "Link 3",
         "Link 4",
         "Link 5",
         "Link 6",
         "NaN"
        ],
        [
         "Acorn CCS phase 1-T&S",
         8,
         "United Kingdom",
         "Storegga(30%), Shell (30%), Harbour (30%), North Sea Midstream partners (10%)",
         "T&S",
         2016.0,
         2024.0,
         2028.0,
         "NaN",
         "Planned",
         1.0,
         "0.3 - 0.8",
         0.8,
         "T&S",
         "Dedicated storage",
         "Acorn CCS",
         "Europe",
         "https://www.upstreamonline.com/energy-transition/five-proposed-uk-carbon-capture-projects-meet-governments-eligibility-test/2-1-1047222",
         "https://www.offshore-energy.biz/carbon-clean-to-carry-out-feed-on-acorn-carbon-capture-plant/",
         "https://www.backthescottishcluster.co.uk/the-scottish-cluster-supply-chain",
         "https://www.storegga.earth/news/2021/news/acorn-project-partners-storegga-shell-u-k-and-harbour-energy-sign-mou-with-the-owners-of-the-segal-and-fuka-gas-terminals-at-st-fergus/",
         "https://www.scottishconstructionnow.com/articles/acorn-project-partners-select-carbon-clean-to-deliver-st-fergus-carbon-capture-plant-feed-study",
         "https://www.energyvoice.com/oilandgas/north-sea/370332/st-fergus-terminal-owner-joins-acorn-ccs-project-as-partner",
         "NaN",
         "Link 1",
         "Link 2",
         "Link 3",
         "Link 4",
         "Link 5",
         "Link 6",
         "NaN"
        ],
        [
         "Acorn CCS phase 2",
         9,
         "United Kingdom",
         "Storegga(30%), Shell (30%), Harbour (30%), North Sea Midstream partners (10%)",
         "T&S",
         2017.0,
         "NaN",
         "NaN",
         "NaN",
         "Planned",
         2.0,
         "5",
         5.0,
         "T&S",
         "Dedicated storage",
         "Acorn CCS",
         "Europe",
         "https://www.upstreamonline.com/energy-transition/five-proposed-uk-carbon-capture-projects-meet-governments-eligibility-test/2-1-1047222",
         "https://www.offshore-energy.biz/carbon-clean-to-carry-out-feed-on-acorn-carbon-capture-plant/",
         "https://www.backthescottishcluster.co.uk/the-scottish-cluster-supply-chain",
         "https://www.storegga.earth/news/2021/news/acorn-project-partners-storegga-shell-u-k-and-harbour-energy-sign-mou-with-the-owners-of-the-segal-and-fuka-gas-terminals-at-st-fergus/",
         "https://www.scottishconstructionnow.com/articles/acorn-project-partners-select-carbon-clean-to-deliver-st-fergus-carbon-capture-plant-feed-study",
         "https://www.energyvoice.com/oilandgas/north-sea/370332/st-fergus-terminal-owner-joins-acorn-ccs-project-as-partner",
         "https://www.theacornproject.uk/news-and-events/nsta-grants-carbon-storage-licences-to-acorn",
         "Link 1",
         "Link 2",
         "Link 3",
         "Link 4",
         "Link 5",
         "Link 6",
         "Link 7"
        ],
        [
         "Acorn H2",
         10,
         "United Kingdom",
         "Storegga, Chrysaor, Shell",
         "Capture",
         2018.0,
         "NaN",
         2028.0,
         "NaN",
         "Planned",
         "NaN",
         "0.4",
         0.4,
         "Hydrogen or ammonia",
         "Dedicated storage",
         "Acorn CCS",
         "Europe",
         "https://assets.publishing.service.gov.uk/government/uploads/system/uploads/attachment_data/file/866380/Phase_1_-_Pale_Blue_Dot_Energy_-_Acorn_Hydrogen.pdf",
         "NaN",
         "NaN",
         "NaN",
         "NaN",
         "NaN",
         "NaN",
         "Link 1",
         "NaN",
         "NaN",
         "NaN",
         "NaN",
         "NaN",
         "NaN"
        ]
       ],
       "datasetInfos": [],
       "dbfsResultPath": null,
       "isJsonSchema": true,
       "metadata": {},
       "overflow": false,
       "plotOptions": {
        "customPlotOptions": {},
        "displayType": "table",
        "pivotAggregation": null,
        "pivotColumns": null,
        "xColumns": null,
        "yColumns": null
       },
       "removedWidgets": [],
       "schema": [
        {
         "metadata": "{}",
         "name": "Project name",
         "type": "\"string\""
        },
        {
         "metadata": "{}",
         "name": "ID",
         "type": "\"long\""
        },
        {
         "metadata": "{}",
         "name": "Country",
         "type": "\"string\""
        },
        {
         "metadata": "{}",
         "name": "Partners",
         "type": "\"string\""
        },
        {
         "metadata": "{}",
         "name": "Project type",
         "type": "\"string\""
        },
        {
         "metadata": "{}",
         "name": "Announcement",
         "type": "\"double\""
        },
        {
         "metadata": "{}",
         "name": "FID",
         "type": "\"double\""
        },
        {
         "metadata": "{}",
         "name": "Operation",
         "type": "\"double\""
        },
        {
         "metadata": "{}",
         "name": "Suspension/decommissioning",
         "type": "\"double\""
        },
        {
         "metadata": "{}",
         "name": "Project Status",
         "type": "\"string\""
        },
        {
         "metadata": "{}",
         "name": "Project phase",
         "type": "\"double\""
        },
        {
         "metadata": "{}",
         "name": "Announced capacity (Mt CO2/yr)",
         "type": "\"string\""
        },
        {
         "metadata": "{}",
         "name": "Estimated capacity by IEA (Mt CO2/yr)",
         "type": "\"double\""
        },
        {
         "metadata": "{}",
         "name": "Sector",
         "type": "\"string\""
        },
        {
         "metadata": "{}",
         "name": "Fate of carbon",
         "type": "\"string\""
        },
        {
         "metadata": "{}",
         "name": "Part of CCUS hub",
         "type": "\"string\""
        },
        {
         "metadata": "{}",
         "name": "Region",
         "type": "\"string\""
        },
        {
         "metadata": "{}",
         "name": "Ref 1",
         "type": "\"string\""
        },
        {
         "metadata": "{}",
         "name": "Ref 2",
         "type": "\"string\""
        },
        {
         "metadata": "{}",
         "name": "Ref 3",
         "type": "\"string\""
        },
        {
         "metadata": "{}",
         "name": "Ref 4",
         "type": "\"string\""
        },
        {
         "metadata": "{}",
         "name": "Ref 5",
         "type": "\"string\""
        },
        {
         "metadata": "{}",
         "name": "Ref 6",
         "type": "\"string\""
        },
        {
         "metadata": "{}",
         "name": "Ref 7",
         "type": "\"string\""
        },
        {
         "metadata": "{}",
         "name": "Link 1",
         "type": "\"string\""
        },
        {
         "metadata": "{}",
         "name": "Link 2",
         "type": "\"string\""
        },
        {
         "metadata": "{}",
         "name": "Link 3",
         "type": "\"string\""
        },
        {
         "metadata": "{}",
         "name": "Link 4",
         "type": "\"string\""
        },
        {
         "metadata": "{}",
         "name": "Link 5",
         "type": "\"string\""
        },
        {
         "metadata": "{}",
         "name": "Link 6",
         "type": "\"string\""
        },
        {
         "metadata": "{}",
         "name": "Link 7",
         "type": "\"string\""
        }
       ],
       "type": "table"
      }
     },
     "output_type": "display_data"
    }
   ],
   "source": [
    "df = spark.createDataFrame(df_pandas)\n",
    "display(df.limit(10))"
   ]
  },
  {
   "cell_type": "markdown",
   "metadata": {
    "application/vnd.databricks.v1+cell": {
     "cellMetadata": {
      "byteLimit": 2048000,
      "rowLimit": 10000
     },
     "inputWidgets": {},
     "nuid": "2bedb659-28c5-4229-b770-1dc50a4142bf",
     "showTitle": false,
     "title": ""
    }
   },
   "source": [
    "# Transformação"
   ]
  },
  {
   "cell_type": "markdown",
   "metadata": {
    "application/vnd.databricks.v1+cell": {
     "cellMetadata": {
      "byteLimit": 2048000,
      "rowLimit": 10000
     },
     "inputWidgets": {},
     "nuid": "98230dce-11b2-447c-b406-b9456d0caa9c",
     "showTitle": false,
     "title": ""
    }
   },
   "source": [
    "## Tratar nomes das colunas\n",
    "Primeiramente vamos renomear as colunas para um formato compatível com SQL, substituindo espaços e caracteres especiais."
   ]
  },
  {
   "cell_type": "code",
   "execution_count": 0,
   "metadata": {
    "application/vnd.databricks.v1+cell": {
     "cellMetadata": {
      "byteLimit": 2048000,
      "rowLimit": 10000
     },
     "inputWidgets": {},
     "nuid": "caf13607-832b-43b0-b62e-e46c44c3c892",
     "showTitle": false,
     "title": ""
    }
   },
   "outputs": [
    {
     "output_type": "display_data",
     "data": {
      "text/html": [
       "<style scoped>\n",
       "  .table-result-container {\n",
       "    max-height: 300px;\n",
       "    overflow: auto;\n",
       "  }\n",
       "  table, th, td {\n",
       "    border: 1px solid black;\n",
       "    border-collapse: collapse;\n",
       "  }\n",
       "  th, td {\n",
       "    padding: 5px;\n",
       "  }\n",
       "  th {\n",
       "    text-align: left;\n",
       "  }\n",
       "</style><div class='table-result-container'><table class='table-result'><thead style='background-color: white'><tr><th>Project_name</th><th>ID</th><th>Country</th><th>Partners</th><th>Project_type</th><th>Announcement</th><th>FID</th><th>Operation</th><th>Suspension_decommissioning</th><th>Project_Status</th><th>Project_phase</th><th>Announced_capacity_Mt_CO2_yr</th><th>Estimated_capacity_by_IEA_Mt_CO2_yr</th><th>Sector</th><th>Fate_of_carbon</th><th>Part_of_CCUS_hub</th><th>Region</th><th>Ref_1</th><th>Ref_2</th><th>Ref_3</th><th>Ref_4</th><th>Ref_5</th><th>Ref_6</th><th>Ref_7</th><th>Link_1</th><th>Link_2</th><th>Link_3</th><th>Link_4</th><th>Link_5</th><th>Link_6</th><th>Link_7</th></tr></thead><tbody><tr><td>3D DMX ArcelorMittal and IFPEN Dunkirk (full-scale)</td><td>1</td><td>France</td><td>ArcelorMittal, ifp, Axens, Uetikon, Grassco, brevik, TotalEnergies (T&S)</td><td>Capture</td><td>2019.0</td><td>NaN</td><td>2025.0</td><td>NaN</td><td>Planned</td><td>2.0</td><td>0.7</td><td>0.7</td><td>Iron and steel</td><td>Unknown/unspecified</td><td>NaN</td><td>Europe</td><td>https://automotive.arcelormittal.com/news_and_stories/news/2019DMXproject</td><td>https://3d-ccus.com/3d-overview/</td><td>NaN</td><td>NaN</td><td>NaN</td><td>NaN</td><td>NaN</td><td>Link 1</td><td>Link 2</td><td>NaN</td><td>NaN</td><td>NaN</td><td>NaN</td><td>NaN</td></tr><tr><td>3D DMX ArcelorMittal and IFPEN Dunkirk 'REUZE'</td><td>751</td><td>France</td><td>ArcelorMittal, Engie, Infinium</td><td>CCU</td><td>2022.0</td><td>2024.0</td><td>2025.0</td><td>NaN</td><td>Planned</td><td>1.0</td><td>0.3</td><td>0.3</td><td>Iron and steel</td><td>Use</td><td>NaN</td><td>Europe</td><td>https://newsroom.engie.com/actualites/engie-et-infinium-annoncent-un-partenariat-pour-developper-un-hub-industriel-denvergure-europeenne-de-production-de-carburants-de-synthese-a-dunkerque-6d4d-ff316.html</td><td>https://corporate.arcelormittal.com/climate-action/decarbonisation-technologies/the-3d-project-dmx-demonstration-in-dunkirk</td><td>NaN</td><td>NaN</td><td>NaN</td><td>NaN</td><td>NaN</td><td>Link 1</td><td>Link 2</td><td>NaN</td><td>NaN</td><td>NaN</td><td>NaN</td><td>NaN</td></tr><tr><td>7 Blue Ammonia Facility</td><td>1055</td><td>Qatar</td><td>QAFCO, thyssenkrupp Uhde/Consolidated Contractors Company (EPC)</td><td>Full Chain</td><td>2022.0</td><td>2022.0</td><td>2026.0</td><td>NaN</td><td>Under construction</td><td>NaN</td><td>1.5</td><td>1.5</td><td>Hydrogen or ammonia</td><td>Unknown/unspecified</td><td>NaN</td><td>Middle East</td><td>https://www.qafco.qa/content/qafco-7-announcement</td><td>https://www.thyssenkrupp.com/en/newsroom/press-releases/pressdetailpage/thyssenkrupp-uhde-to-build-world-scale-blue-ammonia-plant-in-qatar-138369</td><td>NaN</td><td>NaN</td><td>NaN</td><td>NaN</td><td>NaN</td><td>Link 1</td><td>Link 2</td><td>NaN</td><td>NaN</td><td>NaN</td><td>NaN</td><td>NaN</td></tr></tbody></table></div>"
      ]
     },
     "metadata": {
      "application/vnd.databricks.v1+output": {
       "addedWidgets": {},
       "aggData": [],
       "aggError": "",
       "aggOverflow": false,
       "aggSchema": [],
       "aggSeriesLimitReached": false,
       "aggType": "",
       "arguments": {},
       "columnCustomDisplayInfos": {},
       "data": [
        [
         "3D DMX ArcelorMittal and IFPEN Dunkirk (full-scale)",
         1,
         "France",
         "ArcelorMittal, ifp, Axens, Uetikon, Grassco, brevik, TotalEnergies (T&S)",
         "Capture",
         2019.0,
         "NaN",
         2025.0,
         "NaN",
         "Planned",
         2.0,
         "0.7",
         0.7,
         "Iron and steel",
         "Unknown/unspecified",
         "NaN",
         "Europe",
         "https://automotive.arcelormittal.com/news_and_stories/news/2019DMXproject",
         "https://3d-ccus.com/3d-overview/",
         "NaN",
         "NaN",
         "NaN",
         "NaN",
         "NaN",
         "Link 1",
         "Link 2",
         "NaN",
         "NaN",
         "NaN",
         "NaN",
         "NaN"
        ],
        [
         "3D DMX ArcelorMittal and IFPEN Dunkirk 'REUZE'",
         751,
         "France",
         "ArcelorMittal, Engie, Infinium",
         "CCU",
         2022.0,
         2024.0,
         2025.0,
         "NaN",
         "Planned",
         1.0,
         "0.3",
         0.3,
         "Iron and steel",
         "Use",
         "NaN",
         "Europe",
         "https://newsroom.engie.com/actualites/engie-et-infinium-annoncent-un-partenariat-pour-developper-un-hub-industriel-denvergure-europeenne-de-production-de-carburants-de-synthese-a-dunkerque-6d4d-ff316.html",
         "https://corporate.arcelormittal.com/climate-action/decarbonisation-technologies/the-3d-project-dmx-demonstration-in-dunkirk",
         "NaN",
         "NaN",
         "NaN",
         "NaN",
         "NaN",
         "Link 1",
         "Link 2",
         "NaN",
         "NaN",
         "NaN",
         "NaN",
         "NaN"
        ],
        [
         "7 Blue Ammonia Facility",
         1055,
         "Qatar",
         "QAFCO, thyssenkrupp Uhde/Consolidated Contractors Company (EPC)",
         "Full Chain",
         2022.0,
         2022.0,
         2026.0,
         "NaN",
         "Under construction",
         "NaN",
         "1.5",
         1.5,
         "Hydrogen or ammonia",
         "Unknown/unspecified",
         "NaN",
         "Middle East",
         "https://www.qafco.qa/content/qafco-7-announcement",
         "https://www.thyssenkrupp.com/en/newsroom/press-releases/pressdetailpage/thyssenkrupp-uhde-to-build-world-scale-blue-ammonia-plant-in-qatar-138369",
         "NaN",
         "NaN",
         "NaN",
         "NaN",
         "NaN",
         "Link 1",
         "Link 2",
         "NaN",
         "NaN",
         "NaN",
         "NaN",
         "NaN"
        ]
       ],
       "datasetInfos": [],
       "dbfsResultPath": null,
       "isJsonSchema": true,
       "metadata": {},
       "overflow": false,
       "plotOptions": {
        "customPlotOptions": {},
        "displayType": "table",
        "pivotAggregation": null,
        "pivotColumns": null,
        "xColumns": null,
        "yColumns": null
       },
       "removedWidgets": [],
       "schema": [
        {
         "metadata": "{}",
         "name": "Project_name",
         "type": "\"string\""
        },
        {
         "metadata": "{}",
         "name": "ID",
         "type": "\"long\""
        },
        {
         "metadata": "{}",
         "name": "Country",
         "type": "\"string\""
        },
        {
         "metadata": "{}",
         "name": "Partners",
         "type": "\"string\""
        },
        {
         "metadata": "{}",
         "name": "Project_type",
         "type": "\"string\""
        },
        {
         "metadata": "{}",
         "name": "Announcement",
         "type": "\"double\""
        },
        {
         "metadata": "{}",
         "name": "FID",
         "type": "\"double\""
        },
        {
         "metadata": "{}",
         "name": "Operation",
         "type": "\"double\""
        },
        {
         "metadata": "{}",
         "name": "Suspension_decommissioning",
         "type": "\"double\""
        },
        {
         "metadata": "{}",
         "name": "Project_Status",
         "type": "\"string\""
        },
        {
         "metadata": "{}",
         "name": "Project_phase",
         "type": "\"double\""
        },
        {
         "metadata": "{}",
         "name": "Announced_capacity_Mt_CO2_yr",
         "type": "\"string\""
        },
        {
         "metadata": "{}",
         "name": "Estimated_capacity_by_IEA_Mt_CO2_yr",
         "type": "\"double\""
        },
        {
         "metadata": "{}",
         "name": "Sector",
         "type": "\"string\""
        },
        {
         "metadata": "{}",
         "name": "Fate_of_carbon",
         "type": "\"string\""
        },
        {
         "metadata": "{}",
         "name": "Part_of_CCUS_hub",
         "type": "\"string\""
        },
        {
         "metadata": "{}",
         "name": "Region",
         "type": "\"string\""
        },
        {
         "metadata": "{}",
         "name": "Ref_1",
         "type": "\"string\""
        },
        {
         "metadata": "{}",
         "name": "Ref_2",
         "type": "\"string\""
        },
        {
         "metadata": "{}",
         "name": "Ref_3",
         "type": "\"string\""
        },
        {
         "metadata": "{}",
         "name": "Ref_4",
         "type": "\"string\""
        },
        {
         "metadata": "{}",
         "name": "Ref_5",
         "type": "\"string\""
        },
        {
         "metadata": "{}",
         "name": "Ref_6",
         "type": "\"string\""
        },
        {
         "metadata": "{}",
         "name": "Ref_7",
         "type": "\"string\""
        },
        {
         "metadata": "{}",
         "name": "Link_1",
         "type": "\"string\""
        },
        {
         "metadata": "{}",
         "name": "Link_2",
         "type": "\"string\""
        },
        {
         "metadata": "{}",
         "name": "Link_3",
         "type": "\"string\""
        },
        {
         "metadata": "{}",
         "name": "Link_4",
         "type": "\"string\""
        },
        {
         "metadata": "{}",
         "name": "Link_5",
         "type": "\"string\""
        },
        {
         "metadata": "{}",
         "name": "Link_6",
         "type": "\"string\""
        },
        {
         "metadata": "{}",
         "name": "Link_7",
         "type": "\"string\""
        }
       ],
       "type": "table"
      }
     },
     "output_type": "display_data"
    }
   ],
   "source": [
    "# Dicionário de nomes\n",
    "dict_rename = {}\n",
    "\n",
    "# Criar nomes tratados\n",
    "for c in df.columns:\n",
    "    nome_ok = c.strip()\n",
    "    nome_ok = nome_ok.replace('/', '_')\n",
    "    nome_ok = re.sub('[^A-Za-z0-9_ ]+', '', unidecode(nome_ok))\n",
    "    nome_ok = re.sub('\\s+','_', nome_ok)\n",
    "    dict_rename[c] = nome_ok\n",
    "\n",
    "# Renomear colunas no dataframe\n",
    "df = df.withColumnsRenamed(dict_rename)\n",
    "\n",
    "display(df.limit(3))"
   ]
  },
  {
   "cell_type": "markdown",
   "metadata": {
    "application/vnd.databricks.v1+cell": {
     "cellMetadata": {
      "byteLimit": 2048000,
      "rowLimit": 10000
     },
     "inputWidgets": {},
     "nuid": "f633f601-476e-4430-832d-762798e99377",
     "showTitle": false,
     "title": ""
    }
   },
   "source": [
    "## Tratar dados"
   ]
  },
  {
   "cell_type": "markdown",
   "metadata": {
    "application/vnd.databricks.v1+cell": {
     "cellMetadata": {
      "byteLimit": 2048000,
      "rowLimit": 10000
     },
     "inputWidgets": {},
     "nuid": "c1d3a788-5540-4bf6-91da-662169a49174",
     "showTitle": false,
     "title": ""
    }
   },
   "source": [
    "### Remover NaN\n",
    "Os valores NaN nas colunas do tipo float são substituídos por nulos, pois eles interferem nas agregações de valores em certas ferramentas, como o Power BI.\n",
    "Ademais, vamos remover os valores NaN nas colunas de texto, pois se trata de um valor sem significado para o público de negócio."
   ]
  },
  {
   "cell_type": "code",
   "execution_count": 0,
   "metadata": {
    "application/vnd.databricks.v1+cell": {
     "cellMetadata": {
      "byteLimit": 2048000,
      "rowLimit": 10000
     },
     "inputWidgets": {},
     "nuid": "7a2d1652-2467-4f93-ad26-afe9aff47ed8",
     "showTitle": false,
     "title": ""
    }
   },
   "outputs": [
    {
     "output_type": "display_data",
     "data": {
      "text/html": [
       "<style scoped>\n",
       "  .table-result-container {\n",
       "    max-height: 300px;\n",
       "    overflow: auto;\n",
       "  }\n",
       "  table, th, td {\n",
       "    border: 1px solid black;\n",
       "    border-collapse: collapse;\n",
       "  }\n",
       "  th, td {\n",
       "    padding: 5px;\n",
       "  }\n",
       "  th {\n",
       "    text-align: left;\n",
       "  }\n",
       "</style><div class='table-result-container'><table class='table-result'><thead style='background-color: white'><tr><th>Project_name</th><th>ID</th><th>Country</th><th>Partners</th><th>Project_type</th><th>Announcement</th><th>FID</th><th>Operation</th><th>Suspension_decommissioning</th><th>Project_Status</th><th>Project_phase</th><th>Announced_capacity_Mt_CO2_yr</th><th>Estimated_capacity_by_IEA_Mt_CO2_yr</th><th>Sector</th><th>Fate_of_carbon</th><th>Part_of_CCUS_hub</th><th>Region</th><th>Ref_1</th><th>Ref_2</th><th>Ref_3</th><th>Ref_4</th><th>Ref_5</th><th>Ref_6</th><th>Ref_7</th><th>Link_1</th><th>Link_2</th><th>Link_3</th><th>Link_4</th><th>Link_5</th><th>Link_6</th><th>Link_7</th></tr></thead><tbody><tr><td>3D DMX ArcelorMittal and IFPEN Dunkirk (full-scale)</td><td>1</td><td>France</td><td>ArcelorMittal, ifp, Axens, Uetikon, Grassco, brevik, TotalEnergies (T&S)</td><td>Capture</td><td>2019.0</td><td>null</td><td>2025.0</td><td>null</td><td>Planned</td><td>2.0</td><td>0.7</td><td>0.7</td><td>Iron and steel</td><td>Unknown/unspecified</td><td>null</td><td>Europe</td><td>https://automotive.arcelormittal.com/news_and_stories/news/2019DMXproject</td><td>https://3d-ccus.com/3d-overview/</td><td>null</td><td>null</td><td>null</td><td>null</td><td>null</td><td>Link 1</td><td>Link 2</td><td>null</td><td>null</td><td>null</td><td>null</td><td>null</td></tr><tr><td>3D DMX ArcelorMittal and IFPEN Dunkirk 'REUZE'</td><td>751</td><td>France</td><td>ArcelorMittal, Engie, Infinium</td><td>CCU</td><td>2022.0</td><td>2024.0</td><td>2025.0</td><td>null</td><td>Planned</td><td>1.0</td><td>0.3</td><td>0.3</td><td>Iron and steel</td><td>Use</td><td>null</td><td>Europe</td><td>https://newsroom.engie.com/actualites/engie-et-infinium-annoncent-un-partenariat-pour-developper-un-hub-industriel-denvergure-europeenne-de-production-de-carburants-de-synthese-a-dunkerque-6d4d-ff316.html</td><td>https://corporate.arcelormittal.com/climate-action/decarbonisation-technologies/the-3d-project-dmx-demonstration-in-dunkirk</td><td>null</td><td>null</td><td>null</td><td>null</td><td>null</td><td>Link 1</td><td>Link 2</td><td>null</td><td>null</td><td>null</td><td>null</td><td>null</td></tr><tr><td>7 Blue Ammonia Facility</td><td>1055</td><td>Qatar</td><td>QAFCO, thyssenkrupp Uhde/Consolidated Contractors Company (EPC)</td><td>Full Chain</td><td>2022.0</td><td>2022.0</td><td>2026.0</td><td>null</td><td>Under construction</td><td>null</td><td>1.5</td><td>1.5</td><td>Hydrogen or ammonia</td><td>Unknown/unspecified</td><td>null</td><td>Middle East</td><td>https://www.qafco.qa/content/qafco-7-announcement</td><td>https://www.thyssenkrupp.com/en/newsroom/press-releases/pressdetailpage/thyssenkrupp-uhde-to-build-world-scale-blue-ammonia-plant-in-qatar-138369</td><td>null</td><td>null</td><td>null</td><td>null</td><td>null</td><td>Link 1</td><td>Link 2</td><td>null</td><td>null</td><td>null</td><td>null</td><td>null</td></tr></tbody></table></div>"
      ]
     },
     "metadata": {
      "application/vnd.databricks.v1+output": {
       "addedWidgets": {},
       "aggData": [],
       "aggError": "",
       "aggOverflow": false,
       "aggSchema": [],
       "aggSeriesLimitReached": false,
       "aggType": "",
       "arguments": {},
       "columnCustomDisplayInfos": {},
       "data": [
        [
         "3D DMX ArcelorMittal and IFPEN Dunkirk (full-scale)",
         1,
         "France",
         "ArcelorMittal, ifp, Axens, Uetikon, Grassco, brevik, TotalEnergies (T&S)",
         "Capture",
         2019.0,
         null,
         2025.0,
         null,
         "Planned",
         2.0,
         "0.7",
         0.7,
         "Iron and steel",
         "Unknown/unspecified",
         null,
         "Europe",
         "https://automotive.arcelormittal.com/news_and_stories/news/2019DMXproject",
         "https://3d-ccus.com/3d-overview/",
         null,
         null,
         null,
         null,
         null,
         "Link 1",
         "Link 2",
         null,
         null,
         null,
         null,
         null
        ],
        [
         "3D DMX ArcelorMittal and IFPEN Dunkirk 'REUZE'",
         751,
         "France",
         "ArcelorMittal, Engie, Infinium",
         "CCU",
         2022.0,
         2024.0,
         2025.0,
         null,
         "Planned",
         1.0,
         "0.3",
         0.3,
         "Iron and steel",
         "Use",
         null,
         "Europe",
         "https://newsroom.engie.com/actualites/engie-et-infinium-annoncent-un-partenariat-pour-developper-un-hub-industriel-denvergure-europeenne-de-production-de-carburants-de-synthese-a-dunkerque-6d4d-ff316.html",
         "https://corporate.arcelormittal.com/climate-action/decarbonisation-technologies/the-3d-project-dmx-demonstration-in-dunkirk",
         null,
         null,
         null,
         null,
         null,
         "Link 1",
         "Link 2",
         null,
         null,
         null,
         null,
         null
        ],
        [
         "7 Blue Ammonia Facility",
         1055,
         "Qatar",
         "QAFCO, thyssenkrupp Uhde/Consolidated Contractors Company (EPC)",
         "Full Chain",
         2022.0,
         2022.0,
         2026.0,
         null,
         "Under construction",
         null,
         "1.5",
         1.5,
         "Hydrogen or ammonia",
         "Unknown/unspecified",
         null,
         "Middle East",
         "https://www.qafco.qa/content/qafco-7-announcement",
         "https://www.thyssenkrupp.com/en/newsroom/press-releases/pressdetailpage/thyssenkrupp-uhde-to-build-world-scale-blue-ammonia-plant-in-qatar-138369",
         null,
         null,
         null,
         null,
         null,
         "Link 1",
         "Link 2",
         null,
         null,
         null,
         null,
         null
        ]
       ],
       "datasetInfos": [],
       "dbfsResultPath": null,
       "isJsonSchema": true,
       "metadata": {},
       "overflow": false,
       "plotOptions": {
        "customPlotOptions": {},
        "displayType": "table",
        "pivotAggregation": null,
        "pivotColumns": null,
        "xColumns": null,
        "yColumns": null
       },
       "removedWidgets": [],
       "schema": [
        {
         "metadata": "{}",
         "name": "Project_name",
         "type": "\"string\""
        },
        {
         "metadata": "{}",
         "name": "ID",
         "type": "\"long\""
        },
        {
         "metadata": "{}",
         "name": "Country",
         "type": "\"string\""
        },
        {
         "metadata": "{}",
         "name": "Partners",
         "type": "\"string\""
        },
        {
         "metadata": "{}",
         "name": "Project_type",
         "type": "\"string\""
        },
        {
         "metadata": "{}",
         "name": "Announcement",
         "type": "\"double\""
        },
        {
         "metadata": "{}",
         "name": "FID",
         "type": "\"double\""
        },
        {
         "metadata": "{}",
         "name": "Operation",
         "type": "\"double\""
        },
        {
         "metadata": "{}",
         "name": "Suspension_decommissioning",
         "type": "\"double\""
        },
        {
         "metadata": "{}",
         "name": "Project_Status",
         "type": "\"string\""
        },
        {
         "metadata": "{}",
         "name": "Project_phase",
         "type": "\"double\""
        },
        {
         "metadata": "{}",
         "name": "Announced_capacity_Mt_CO2_yr",
         "type": "\"string\""
        },
        {
         "metadata": "{}",
         "name": "Estimated_capacity_by_IEA_Mt_CO2_yr",
         "type": "\"double\""
        },
        {
         "metadata": "{}",
         "name": "Sector",
         "type": "\"string\""
        },
        {
         "metadata": "{}",
         "name": "Fate_of_carbon",
         "type": "\"string\""
        },
        {
         "metadata": "{}",
         "name": "Part_of_CCUS_hub",
         "type": "\"string\""
        },
        {
         "metadata": "{}",
         "name": "Region",
         "type": "\"string\""
        },
        {
         "metadata": "{}",
         "name": "Ref_1",
         "type": "\"string\""
        },
        {
         "metadata": "{}",
         "name": "Ref_2",
         "type": "\"string\""
        },
        {
         "metadata": "{}",
         "name": "Ref_3",
         "type": "\"string\""
        },
        {
         "metadata": "{}",
         "name": "Ref_4",
         "type": "\"string\""
        },
        {
         "metadata": "{}",
         "name": "Ref_5",
         "type": "\"string\""
        },
        {
         "metadata": "{}",
         "name": "Ref_6",
         "type": "\"string\""
        },
        {
         "metadata": "{}",
         "name": "Ref_7",
         "type": "\"string\""
        },
        {
         "metadata": "{}",
         "name": "Link_1",
         "type": "\"string\""
        },
        {
         "metadata": "{}",
         "name": "Link_2",
         "type": "\"string\""
        },
        {
         "metadata": "{}",
         "name": "Link_3",
         "type": "\"string\""
        },
        {
         "metadata": "{}",
         "name": "Link_4",
         "type": "\"string\""
        },
        {
         "metadata": "{}",
         "name": "Link_5",
         "type": "\"string\""
        },
        {
         "metadata": "{}",
         "name": "Link_6",
         "type": "\"string\""
        },
        {
         "metadata": "{}",
         "name": "Link_7",
         "type": "\"string\""
        }
       ],
       "type": "table"
      }
     },
     "output_type": "display_data"
    }
   ],
   "source": [
    "df = df.replace(float(\"nan\"), None)\n",
    "df = df.replace(\"NaN\", None)\n",
    "\n",
    "display(df.limit(3))"
   ]
  },
  {
   "cell_type": "markdown",
   "metadata": {
    "application/vnd.databricks.v1+cell": {
     "cellMetadata": {
      "byteLimit": 2048000,
      "rowLimit": 10000
     },
     "inputWidgets": {},
     "nuid": "bbe7e99c-6998-4306-b70f-c3ecf27f2aca",
     "showTitle": false,
     "title": ""
    }
   },
   "source": [
    "### Converter colunas em tipo inteiro\n",
    "Quando fizemos a leitura do arquivo, algumas colunas foram inferidas como tipo float, quando na verdade tratam de valores inteiros."
   ]
  },
  {
   "cell_type": "code",
   "execution_count": 0,
   "metadata": {
    "application/vnd.databricks.v1+cell": {
     "cellMetadata": {
      "byteLimit": 2048000,
      "rowLimit": 10000
     },
     "inputWidgets": {},
     "nuid": "c446c806-1693-4bc9-9a7c-d5fa38a34527",
     "showTitle": false,
     "title": ""
    }
   },
   "outputs": [
    {
     "output_type": "display_data",
     "data": {
      "text/html": [
       "<style scoped>\n",
       "  .table-result-container {\n",
       "    max-height: 300px;\n",
       "    overflow: auto;\n",
       "  }\n",
       "  table, th, td {\n",
       "    border: 1px solid black;\n",
       "    border-collapse: collapse;\n",
       "  }\n",
       "  th, td {\n",
       "    padding: 5px;\n",
       "  }\n",
       "  th {\n",
       "    text-align: left;\n",
       "  }\n",
       "</style><div class='table-result-container'><table class='table-result'><thead style='background-color: white'><tr><th>Project_name</th><th>ID</th><th>Country</th><th>Partners</th><th>Project_type</th><th>Announcement</th><th>FID</th><th>Operation</th><th>Suspension_decommissioning</th><th>Project_Status</th><th>Project_phase</th><th>Announced_capacity_Mt_CO2_yr</th><th>Estimated_capacity_by_IEA_Mt_CO2_yr</th><th>Sector</th><th>Fate_of_carbon</th><th>Part_of_CCUS_hub</th><th>Region</th><th>Ref_1</th><th>Ref_2</th><th>Ref_3</th><th>Ref_4</th><th>Ref_5</th><th>Ref_6</th><th>Ref_7</th><th>Link_1</th><th>Link_2</th><th>Link_3</th><th>Link_4</th><th>Link_5</th><th>Link_6</th><th>Link_7</th></tr></thead><tbody><tr><td>3D DMX ArcelorMittal and IFPEN Dunkirk (full-scale)</td><td>1</td><td>France</td><td>ArcelorMittal, ifp, Axens, Uetikon, Grassco, brevik, TotalEnergies (T&S)</td><td>Capture</td><td>2019</td><td>null</td><td>2025</td><td>null</td><td>Planned</td><td>2</td><td>0.7</td><td>0.7</td><td>Iron and steel</td><td>Unknown/unspecified</td><td>null</td><td>Europe</td><td>https://automotive.arcelormittal.com/news_and_stories/news/2019DMXproject</td><td>https://3d-ccus.com/3d-overview/</td><td>null</td><td>null</td><td>null</td><td>null</td><td>null</td><td>Link 1</td><td>Link 2</td><td>null</td><td>null</td><td>null</td><td>null</td><td>null</td></tr><tr><td>3D DMX ArcelorMittal and IFPEN Dunkirk 'REUZE'</td><td>751</td><td>France</td><td>ArcelorMittal, Engie, Infinium</td><td>CCU</td><td>2022</td><td>2024</td><td>2025</td><td>null</td><td>Planned</td><td>1</td><td>0.3</td><td>0.3</td><td>Iron and steel</td><td>Use</td><td>null</td><td>Europe</td><td>https://newsroom.engie.com/actualites/engie-et-infinium-annoncent-un-partenariat-pour-developper-un-hub-industriel-denvergure-europeenne-de-production-de-carburants-de-synthese-a-dunkerque-6d4d-ff316.html</td><td>https://corporate.arcelormittal.com/climate-action/decarbonisation-technologies/the-3d-project-dmx-demonstration-in-dunkirk</td><td>null</td><td>null</td><td>null</td><td>null</td><td>null</td><td>Link 1</td><td>Link 2</td><td>null</td><td>null</td><td>null</td><td>null</td><td>null</td></tr><tr><td>7 Blue Ammonia Facility</td><td>1055</td><td>Qatar</td><td>QAFCO, thyssenkrupp Uhde/Consolidated Contractors Company (EPC)</td><td>Full Chain</td><td>2022</td><td>2022</td><td>2026</td><td>null</td><td>Under construction</td><td>null</td><td>1.5</td><td>1.5</td><td>Hydrogen or ammonia</td><td>Unknown/unspecified</td><td>null</td><td>Middle East</td><td>https://www.qafco.qa/content/qafco-7-announcement</td><td>https://www.thyssenkrupp.com/en/newsroom/press-releases/pressdetailpage/thyssenkrupp-uhde-to-build-world-scale-blue-ammonia-plant-in-qatar-138369</td><td>null</td><td>null</td><td>null</td><td>null</td><td>null</td><td>Link 1</td><td>Link 2</td><td>null</td><td>null</td><td>null</td><td>null</td><td>null</td></tr></tbody></table></div>"
      ]
     },
     "metadata": {
      "application/vnd.databricks.v1+output": {
       "addedWidgets": {},
       "aggData": [],
       "aggError": "",
       "aggOverflow": false,
       "aggSchema": [],
       "aggSeriesLimitReached": false,
       "aggType": "",
       "arguments": {},
       "columnCustomDisplayInfos": {},
       "data": [
        [
         "3D DMX ArcelorMittal and IFPEN Dunkirk (full-scale)",
         1,
         "France",
         "ArcelorMittal, ifp, Axens, Uetikon, Grassco, brevik, TotalEnergies (T&S)",
         "Capture",
         2019,
         null,
         2025,
         null,
         "Planned",
         2,
         "0.7",
         0.7,
         "Iron and steel",
         "Unknown/unspecified",
         null,
         "Europe",
         "https://automotive.arcelormittal.com/news_and_stories/news/2019DMXproject",
         "https://3d-ccus.com/3d-overview/",
         null,
         null,
         null,
         null,
         null,
         "Link 1",
         "Link 2",
         null,
         null,
         null,
         null,
         null
        ],
        [
         "3D DMX ArcelorMittal and IFPEN Dunkirk 'REUZE'",
         751,
         "France",
         "ArcelorMittal, Engie, Infinium",
         "CCU",
         2022,
         2024,
         2025,
         null,
         "Planned",
         1,
         "0.3",
         0.3,
         "Iron and steel",
         "Use",
         null,
         "Europe",
         "https://newsroom.engie.com/actualites/engie-et-infinium-annoncent-un-partenariat-pour-developper-un-hub-industriel-denvergure-europeenne-de-production-de-carburants-de-synthese-a-dunkerque-6d4d-ff316.html",
         "https://corporate.arcelormittal.com/climate-action/decarbonisation-technologies/the-3d-project-dmx-demonstration-in-dunkirk",
         null,
         null,
         null,
         null,
         null,
         "Link 1",
         "Link 2",
         null,
         null,
         null,
         null,
         null
        ],
        [
         "7 Blue Ammonia Facility",
         1055,
         "Qatar",
         "QAFCO, thyssenkrupp Uhde/Consolidated Contractors Company (EPC)",
         "Full Chain",
         2022,
         2022,
         2026,
         null,
         "Under construction",
         null,
         "1.5",
         1.5,
         "Hydrogen or ammonia",
         "Unknown/unspecified",
         null,
         "Middle East",
         "https://www.qafco.qa/content/qafco-7-announcement",
         "https://www.thyssenkrupp.com/en/newsroom/press-releases/pressdetailpage/thyssenkrupp-uhde-to-build-world-scale-blue-ammonia-plant-in-qatar-138369",
         null,
         null,
         null,
         null,
         null,
         "Link 1",
         "Link 2",
         null,
         null,
         null,
         null,
         null
        ]
       ],
       "datasetInfos": [],
       "dbfsResultPath": null,
       "isJsonSchema": true,
       "metadata": {},
       "overflow": false,
       "plotOptions": {
        "customPlotOptions": {},
        "displayType": "table",
        "pivotAggregation": null,
        "pivotColumns": null,
        "xColumns": null,
        "yColumns": null
       },
       "removedWidgets": [],
       "schema": [
        {
         "metadata": "{}",
         "name": "Project_name",
         "type": "\"string\""
        },
        {
         "metadata": "{}",
         "name": "ID",
         "type": "\"long\""
        },
        {
         "metadata": "{}",
         "name": "Country",
         "type": "\"string\""
        },
        {
         "metadata": "{}",
         "name": "Partners",
         "type": "\"string\""
        },
        {
         "metadata": "{}",
         "name": "Project_type",
         "type": "\"string\""
        },
        {
         "metadata": "{}",
         "name": "Announcement",
         "type": "\"integer\""
        },
        {
         "metadata": "{}",
         "name": "FID",
         "type": "\"integer\""
        },
        {
         "metadata": "{}",
         "name": "Operation",
         "type": "\"integer\""
        },
        {
         "metadata": "{}",
         "name": "Suspension_decommissioning",
         "type": "\"integer\""
        },
        {
         "metadata": "{}",
         "name": "Project_Status",
         "type": "\"string\""
        },
        {
         "metadata": "{}",
         "name": "Project_phase",
         "type": "\"integer\""
        },
        {
         "metadata": "{}",
         "name": "Announced_capacity_Mt_CO2_yr",
         "type": "\"string\""
        },
        {
         "metadata": "{}",
         "name": "Estimated_capacity_by_IEA_Mt_CO2_yr",
         "type": "\"double\""
        },
        {
         "metadata": "{}",
         "name": "Sector",
         "type": "\"string\""
        },
        {
         "metadata": "{}",
         "name": "Fate_of_carbon",
         "type": "\"string\""
        },
        {
         "metadata": "{}",
         "name": "Part_of_CCUS_hub",
         "type": "\"string\""
        },
        {
         "metadata": "{}",
         "name": "Region",
         "type": "\"string\""
        },
        {
         "metadata": "{}",
         "name": "Ref_1",
         "type": "\"string\""
        },
        {
         "metadata": "{}",
         "name": "Ref_2",
         "type": "\"string\""
        },
        {
         "metadata": "{}",
         "name": "Ref_3",
         "type": "\"string\""
        },
        {
         "metadata": "{}",
         "name": "Ref_4",
         "type": "\"string\""
        },
        {
         "metadata": "{}",
         "name": "Ref_5",
         "type": "\"string\""
        },
        {
         "metadata": "{}",
         "name": "Ref_6",
         "type": "\"string\""
        },
        {
         "metadata": "{}",
         "name": "Ref_7",
         "type": "\"string\""
        },
        {
         "metadata": "{}",
         "name": "Link_1",
         "type": "\"string\""
        },
        {
         "metadata": "{}",
         "name": "Link_2",
         "type": "\"string\""
        },
        {
         "metadata": "{}",
         "name": "Link_3",
         "type": "\"string\""
        },
        {
         "metadata": "{}",
         "name": "Link_4",
         "type": "\"string\""
        },
        {
         "metadata": "{}",
         "name": "Link_5",
         "type": "\"string\""
        },
        {
         "metadata": "{}",
         "name": "Link_6",
         "type": "\"string\""
        },
        {
         "metadata": "{}",
         "name": "Link_7",
         "type": "\"string\""
        }
       ],
       "type": "table"
      }
     },
     "output_type": "display_data"
    }
   ],
   "source": [
    "colunas_cast_int = [\n",
    "    \"Announcement\",\n",
    "    \"FID\",\n",
    "    \"Operation\",\n",
    "    \"Suspension_decommissioning\",\n",
    "    \"Project_phase\"\n",
    "]\n",
    "colunas_cast_int = {c: df[c].cast(\"int\") for c in colunas_cast_int}\n",
    "\n",
    "df = df.withColumns(colunas_cast_int)\n",
    "\n",
    "display(df.limit(3))"
   ]
  },
  {
   "cell_type": "markdown",
   "metadata": {
    "application/vnd.databricks.v1+cell": {
     "cellMetadata": {
      "byteLimit": 2048000,
      "rowLimit": 10000
     },
     "inputWidgets": {},
     "nuid": "59b79a42-52a6-4811-ad96-860d461e39a7",
     "showTitle": false,
     "title": ""
    }
   },
   "source": [
    "### Eliminar colunas Link\n",
    "No arquivo Excel, as colunas Link possuem um hiperlink clicável para o endereço contido na coluna Ref de mesmo número. Esse recurso não se aplica a uma base de dados, por isso vamos remover as colunas Link e manter as colunas Ref."
   ]
  },
  {
   "cell_type": "code",
   "execution_count": 0,
   "metadata": {
    "application/vnd.databricks.v1+cell": {
     "cellMetadata": {
      "byteLimit": 2048000,
      "rowLimit": 10000
     },
     "inputWidgets": {},
     "nuid": "03f6e36d-577e-436f-812d-59840dddf15b",
     "showTitle": false,
     "title": ""
    }
   },
   "outputs": [
    {
     "output_type": "display_data",
     "data": {
      "text/html": [
       "<style scoped>\n",
       "  .table-result-container {\n",
       "    max-height: 300px;\n",
       "    overflow: auto;\n",
       "  }\n",
       "  table, th, td {\n",
       "    border: 1px solid black;\n",
       "    border-collapse: collapse;\n",
       "  }\n",
       "  th, td {\n",
       "    padding: 5px;\n",
       "  }\n",
       "  th {\n",
       "    text-align: left;\n",
       "  }\n",
       "</style><div class='table-result-container'><table class='table-result'><thead style='background-color: white'><tr><th>Project_name</th><th>ID</th><th>Country</th><th>Partners</th><th>Project_type</th><th>Announcement</th><th>FID</th><th>Operation</th><th>Suspension_decommissioning</th><th>Project_Status</th><th>Project_phase</th><th>Announced_capacity_Mt_CO2_yr</th><th>Estimated_capacity_by_IEA_Mt_CO2_yr</th><th>Sector</th><th>Fate_of_carbon</th><th>Part_of_CCUS_hub</th><th>Region</th><th>Ref_1</th><th>Ref_2</th><th>Ref_3</th><th>Ref_4</th><th>Ref_5</th><th>Ref_6</th><th>Ref_7</th></tr></thead><tbody><tr><td>3D DMX ArcelorMittal and IFPEN Dunkirk (full-scale)</td><td>1</td><td>France</td><td>ArcelorMittal, ifp, Axens, Uetikon, Grassco, brevik, TotalEnergies (T&S)</td><td>Capture</td><td>2019</td><td>null</td><td>2025</td><td>null</td><td>Planned</td><td>2</td><td>0.7</td><td>0.7</td><td>Iron and steel</td><td>Unknown/unspecified</td><td>null</td><td>Europe</td><td>https://automotive.arcelormittal.com/news_and_stories/news/2019DMXproject</td><td>https://3d-ccus.com/3d-overview/</td><td>null</td><td>null</td><td>null</td><td>null</td><td>null</td></tr><tr><td>3D DMX ArcelorMittal and IFPEN Dunkirk 'REUZE'</td><td>751</td><td>France</td><td>ArcelorMittal, Engie, Infinium</td><td>CCU</td><td>2022</td><td>2024</td><td>2025</td><td>null</td><td>Planned</td><td>1</td><td>0.3</td><td>0.3</td><td>Iron and steel</td><td>Use</td><td>null</td><td>Europe</td><td>https://newsroom.engie.com/actualites/engie-et-infinium-annoncent-un-partenariat-pour-developper-un-hub-industriel-denvergure-europeenne-de-production-de-carburants-de-synthese-a-dunkerque-6d4d-ff316.html</td><td>https://corporate.arcelormittal.com/climate-action/decarbonisation-technologies/the-3d-project-dmx-demonstration-in-dunkirk</td><td>null</td><td>null</td><td>null</td><td>null</td><td>null</td></tr><tr><td>7 Blue Ammonia Facility</td><td>1055</td><td>Qatar</td><td>QAFCO, thyssenkrupp Uhde/Consolidated Contractors Company (EPC)</td><td>Full Chain</td><td>2022</td><td>2022</td><td>2026</td><td>null</td><td>Under construction</td><td>null</td><td>1.5</td><td>1.5</td><td>Hydrogen or ammonia</td><td>Unknown/unspecified</td><td>null</td><td>Middle East</td><td>https://www.qafco.qa/content/qafco-7-announcement</td><td>https://www.thyssenkrupp.com/en/newsroom/press-releases/pressdetailpage/thyssenkrupp-uhde-to-build-world-scale-blue-ammonia-plant-in-qatar-138369</td><td>null</td><td>null</td><td>null</td><td>null</td><td>null</td></tr></tbody></table></div>"
      ]
     },
     "metadata": {
      "application/vnd.databricks.v1+output": {
       "addedWidgets": {},
       "aggData": [],
       "aggError": "",
       "aggOverflow": false,
       "aggSchema": [],
       "aggSeriesLimitReached": false,
       "aggType": "",
       "arguments": {},
       "columnCustomDisplayInfos": {},
       "data": [
        [
         "3D DMX ArcelorMittal and IFPEN Dunkirk (full-scale)",
         1,
         "France",
         "ArcelorMittal, ifp, Axens, Uetikon, Grassco, brevik, TotalEnergies (T&S)",
         "Capture",
         2019,
         null,
         2025,
         null,
         "Planned",
         2,
         "0.7",
         0.7,
         "Iron and steel",
         "Unknown/unspecified",
         null,
         "Europe",
         "https://automotive.arcelormittal.com/news_and_stories/news/2019DMXproject",
         "https://3d-ccus.com/3d-overview/",
         null,
         null,
         null,
         null,
         null
        ],
        [
         "3D DMX ArcelorMittal and IFPEN Dunkirk 'REUZE'",
         751,
         "France",
         "ArcelorMittal, Engie, Infinium",
         "CCU",
         2022,
         2024,
         2025,
         null,
         "Planned",
         1,
         "0.3",
         0.3,
         "Iron and steel",
         "Use",
         null,
         "Europe",
         "https://newsroom.engie.com/actualites/engie-et-infinium-annoncent-un-partenariat-pour-developper-un-hub-industriel-denvergure-europeenne-de-production-de-carburants-de-synthese-a-dunkerque-6d4d-ff316.html",
         "https://corporate.arcelormittal.com/climate-action/decarbonisation-technologies/the-3d-project-dmx-demonstration-in-dunkirk",
         null,
         null,
         null,
         null,
         null
        ],
        [
         "7 Blue Ammonia Facility",
         1055,
         "Qatar",
         "QAFCO, thyssenkrupp Uhde/Consolidated Contractors Company (EPC)",
         "Full Chain",
         2022,
         2022,
         2026,
         null,
         "Under construction",
         null,
         "1.5",
         1.5,
         "Hydrogen or ammonia",
         "Unknown/unspecified",
         null,
         "Middle East",
         "https://www.qafco.qa/content/qafco-7-announcement",
         "https://www.thyssenkrupp.com/en/newsroom/press-releases/pressdetailpage/thyssenkrupp-uhde-to-build-world-scale-blue-ammonia-plant-in-qatar-138369",
         null,
         null,
         null,
         null,
         null
        ]
       ],
       "datasetInfos": [],
       "dbfsResultPath": null,
       "isJsonSchema": true,
       "metadata": {},
       "overflow": false,
       "plotOptions": {
        "customPlotOptions": {},
        "displayType": "table",
        "pivotAggregation": null,
        "pivotColumns": null,
        "xColumns": null,
        "yColumns": null
       },
       "removedWidgets": [],
       "schema": [
        {
         "metadata": "{}",
         "name": "Project_name",
         "type": "\"string\""
        },
        {
         "metadata": "{}",
         "name": "ID",
         "type": "\"long\""
        },
        {
         "metadata": "{}",
         "name": "Country",
         "type": "\"string\""
        },
        {
         "metadata": "{}",
         "name": "Partners",
         "type": "\"string\""
        },
        {
         "metadata": "{}",
         "name": "Project_type",
         "type": "\"string\""
        },
        {
         "metadata": "{}",
         "name": "Announcement",
         "type": "\"integer\""
        },
        {
         "metadata": "{}",
         "name": "FID",
         "type": "\"integer\""
        },
        {
         "metadata": "{}",
         "name": "Operation",
         "type": "\"integer\""
        },
        {
         "metadata": "{}",
         "name": "Suspension_decommissioning",
         "type": "\"integer\""
        },
        {
         "metadata": "{}",
         "name": "Project_Status",
         "type": "\"string\""
        },
        {
         "metadata": "{}",
         "name": "Project_phase",
         "type": "\"integer\""
        },
        {
         "metadata": "{}",
         "name": "Announced_capacity_Mt_CO2_yr",
         "type": "\"string\""
        },
        {
         "metadata": "{}",
         "name": "Estimated_capacity_by_IEA_Mt_CO2_yr",
         "type": "\"double\""
        },
        {
         "metadata": "{}",
         "name": "Sector",
         "type": "\"string\""
        },
        {
         "metadata": "{}",
         "name": "Fate_of_carbon",
         "type": "\"string\""
        },
        {
         "metadata": "{}",
         "name": "Part_of_CCUS_hub",
         "type": "\"string\""
        },
        {
         "metadata": "{}",
         "name": "Region",
         "type": "\"string\""
        },
        {
         "metadata": "{}",
         "name": "Ref_1",
         "type": "\"string\""
        },
        {
         "metadata": "{}",
         "name": "Ref_2",
         "type": "\"string\""
        },
        {
         "metadata": "{}",
         "name": "Ref_3",
         "type": "\"string\""
        },
        {
         "metadata": "{}",
         "name": "Ref_4",
         "type": "\"string\""
        },
        {
         "metadata": "{}",
         "name": "Ref_5",
         "type": "\"string\""
        },
        {
         "metadata": "{}",
         "name": "Ref_6",
         "type": "\"string\""
        },
        {
         "metadata": "{}",
         "name": "Ref_7",
         "type": "\"string\""
        }
       ],
       "type": "table"
      }
     },
     "output_type": "display_data"
    }
   ],
   "source": [
    "colunas_drop = [c for c in df.columns if c.startswith(\"Link\")]\n",
    "df = df.drop(*colunas_drop)\n",
    "\n",
    "display(df.limit(3))"
   ]
  },
  {
   "cell_type": "markdown",
   "metadata": {
    "application/vnd.databricks.v1+cell": {
     "cellMetadata": {
      "byteLimit": 2048000,
      "rowLimit": 10000
     },
     "inputWidgets": {},
     "nuid": "34e33381-0956-4908-bec6-6812be707478",
     "showTitle": false,
     "title": ""
    }
   },
   "source": [
    "### Tratar coluna Announced_capacity_Mt_CO2_yr\n",
    "Essa coluna possui alguns valores expressos em faixas, como \"0.3 - 0.8\". Para permitir cálculos e agregações, vamos transformar essa coluna em duas: uma contendo o valor mínimo, outra contendo o valor máximo. Valores da coluna original que não sejam expressos em faixas serão repetidos, de forma a manter a integridade da informação de maneira independente nas duas colunas."
   ]
  },
  {
   "cell_type": "code",
   "execution_count": 0,
   "metadata": {
    "application/vnd.databricks.v1+cell": {
     "cellMetadata": {
      "byteLimit": 2048000,
      "rowLimit": 10000
     },
     "inputWidgets": {},
     "nuid": "e94b45ff-f23e-40e0-9cb0-07d3ff01eec4",
     "showTitle": false,
     "title": ""
    }
   },
   "outputs": [
    {
     "output_type": "display_data",
     "data": {
      "text/html": [
       "<style scoped>\n",
       "  .table-result-container {\n",
       "    max-height: 300px;\n",
       "    overflow: auto;\n",
       "  }\n",
       "  table, th, td {\n",
       "    border: 1px solid black;\n",
       "    border-collapse: collapse;\n",
       "  }\n",
       "  th, td {\n",
       "    padding: 5px;\n",
       "  }\n",
       "  th {\n",
       "    text-align: left;\n",
       "  }\n",
       "</style><div class='table-result-container'><table class='table-result'><thead style='background-color: white'><tr><th>Project_name</th><th>ID</th><th>Country</th><th>Partners</th><th>Project_type</th><th>Announcement</th><th>FID</th><th>Operation</th><th>Suspension_decommissioning</th><th>Project_Status</th><th>Project_phase</th><th>Announced_capacity_low_Mt_CO2_yr</th><th>Announced_capacity_high_Mt_CO2_yr</th><th>Estimated_capacity_by_IEA_Mt_CO2_yr</th><th>Sector</th><th>Fate_of_carbon</th><th>Part_of_CCUS_hub</th><th>Region</th><th>Ref_1</th><th>Ref_2</th><th>Ref_3</th><th>Ref_4</th><th>Ref_5</th><th>Ref_6</th><th>Ref_7</th></tr></thead><tbody><tr><td>3D DMX ArcelorMittal and IFPEN Dunkirk (full-scale)</td><td>1</td><td>France</td><td>ArcelorMittal, ifp, Axens, Uetikon, Grassco, brevik, TotalEnergies (T&S)</td><td>Capture</td><td>2019</td><td>null</td><td>2025</td><td>null</td><td>Planned</td><td>2</td><td>0.7</td><td>0.7</td><td>0.7</td><td>Iron and steel</td><td>Unknown/unspecified</td><td>null</td><td>Europe</td><td>https://automotive.arcelormittal.com/news_and_stories/news/2019DMXproject</td><td>https://3d-ccus.com/3d-overview/</td><td>null</td><td>null</td><td>null</td><td>null</td><td>null</td></tr><tr><td>3D DMX ArcelorMittal and IFPEN Dunkirk 'REUZE'</td><td>751</td><td>France</td><td>ArcelorMittal, Engie, Infinium</td><td>CCU</td><td>2022</td><td>2024</td><td>2025</td><td>null</td><td>Planned</td><td>1</td><td>0.3</td><td>0.3</td><td>0.3</td><td>Iron and steel</td><td>Use</td><td>null</td><td>Europe</td><td>https://newsroom.engie.com/actualites/engie-et-infinium-annoncent-un-partenariat-pour-developper-un-hub-industriel-denvergure-europeenne-de-production-de-carburants-de-synthese-a-dunkerque-6d4d-ff316.html</td><td>https://corporate.arcelormittal.com/climate-action/decarbonisation-technologies/the-3d-project-dmx-demonstration-in-dunkirk</td><td>null</td><td>null</td><td>null</td><td>null</td><td>null</td></tr><tr><td>7 Blue Ammonia Facility</td><td>1055</td><td>Qatar</td><td>QAFCO, thyssenkrupp Uhde/Consolidated Contractors Company (EPC)</td><td>Full Chain</td><td>2022</td><td>2022</td><td>2026</td><td>null</td><td>Under construction</td><td>null</td><td>1.5</td><td>1.5</td><td>1.5</td><td>Hydrogen or ammonia</td><td>Unknown/unspecified</td><td>null</td><td>Middle East</td><td>https://www.qafco.qa/content/qafco-7-announcement</td><td>https://www.thyssenkrupp.com/en/newsroom/press-releases/pressdetailpage/thyssenkrupp-uhde-to-build-world-scale-blue-ammonia-plant-in-qatar-138369</td><td>null</td><td>null</td><td>null</td><td>null</td><td>null</td></tr></tbody></table></div>"
      ]
     },
     "metadata": {
      "application/vnd.databricks.v1+output": {
       "addedWidgets": {},
       "aggData": [],
       "aggError": "",
       "aggOverflow": false,
       "aggSchema": [],
       "aggSeriesLimitReached": false,
       "aggType": "",
       "arguments": {},
       "columnCustomDisplayInfos": {},
       "data": [
        [
         "3D DMX ArcelorMittal and IFPEN Dunkirk (full-scale)",
         1,
         "France",
         "ArcelorMittal, ifp, Axens, Uetikon, Grassco, brevik, TotalEnergies (T&S)",
         "Capture",
         2019,
         null,
         2025,
         null,
         "Planned",
         2,
         0.7,
         0.7,
         0.7,
         "Iron and steel",
         "Unknown/unspecified",
         null,
         "Europe",
         "https://automotive.arcelormittal.com/news_and_stories/news/2019DMXproject",
         "https://3d-ccus.com/3d-overview/",
         null,
         null,
         null,
         null,
         null
        ],
        [
         "3D DMX ArcelorMittal and IFPEN Dunkirk 'REUZE'",
         751,
         "France",
         "ArcelorMittal, Engie, Infinium",
         "CCU",
         2022,
         2024,
         2025,
         null,
         "Planned",
         1,
         0.3,
         0.3,
         0.3,
         "Iron and steel",
         "Use",
         null,
         "Europe",
         "https://newsroom.engie.com/actualites/engie-et-infinium-annoncent-un-partenariat-pour-developper-un-hub-industriel-denvergure-europeenne-de-production-de-carburants-de-synthese-a-dunkerque-6d4d-ff316.html",
         "https://corporate.arcelormittal.com/climate-action/decarbonisation-technologies/the-3d-project-dmx-demonstration-in-dunkirk",
         null,
         null,
         null,
         null,
         null
        ],
        [
         "7 Blue Ammonia Facility",
         1055,
         "Qatar",
         "QAFCO, thyssenkrupp Uhde/Consolidated Contractors Company (EPC)",
         "Full Chain",
         2022,
         2022,
         2026,
         null,
         "Under construction",
         null,
         1.5,
         1.5,
         1.5,
         "Hydrogen or ammonia",
         "Unknown/unspecified",
         null,
         "Middle East",
         "https://www.qafco.qa/content/qafco-7-announcement",
         "https://www.thyssenkrupp.com/en/newsroom/press-releases/pressdetailpage/thyssenkrupp-uhde-to-build-world-scale-blue-ammonia-plant-in-qatar-138369",
         null,
         null,
         null,
         null,
         null
        ]
       ],
       "datasetInfos": [],
       "dbfsResultPath": null,
       "isJsonSchema": true,
       "metadata": {},
       "overflow": false,
       "plotOptions": {
        "customPlotOptions": {},
        "displayType": "table",
        "pivotAggregation": null,
        "pivotColumns": null,
        "xColumns": null,
        "yColumns": null
       },
       "removedWidgets": [],
       "schema": [
        {
         "metadata": "{}",
         "name": "Project_name",
         "type": "\"string\""
        },
        {
         "metadata": "{}",
         "name": "ID",
         "type": "\"long\""
        },
        {
         "metadata": "{}",
         "name": "Country",
         "type": "\"string\""
        },
        {
         "metadata": "{}",
         "name": "Partners",
         "type": "\"string\""
        },
        {
         "metadata": "{}",
         "name": "Project_type",
         "type": "\"string\""
        },
        {
         "metadata": "{}",
         "name": "Announcement",
         "type": "\"integer\""
        },
        {
         "metadata": "{}",
         "name": "FID",
         "type": "\"integer\""
        },
        {
         "metadata": "{}",
         "name": "Operation",
         "type": "\"integer\""
        },
        {
         "metadata": "{}",
         "name": "Suspension_decommissioning",
         "type": "\"integer\""
        },
        {
         "metadata": "{}",
         "name": "Project_Status",
         "type": "\"string\""
        },
        {
         "metadata": "{}",
         "name": "Project_phase",
         "type": "\"integer\""
        },
        {
         "metadata": "{}",
         "name": "Announced_capacity_low_Mt_CO2_yr",
         "type": "\"double\""
        },
        {
         "metadata": "{}",
         "name": "Announced_capacity_high_Mt_CO2_yr",
         "type": "\"double\""
        },
        {
         "metadata": "{}",
         "name": "Estimated_capacity_by_IEA_Mt_CO2_yr",
         "type": "\"double\""
        },
        {
         "metadata": "{}",
         "name": "Sector",
         "type": "\"string\""
        },
        {
         "metadata": "{}",
         "name": "Fate_of_carbon",
         "type": "\"string\""
        },
        {
         "metadata": "{}",
         "name": "Part_of_CCUS_hub",
         "type": "\"string\""
        },
        {
         "metadata": "{}",
         "name": "Region",
         "type": "\"string\""
        },
        {
         "metadata": "{}",
         "name": "Ref_1",
         "type": "\"string\""
        },
        {
         "metadata": "{}",
         "name": "Ref_2",
         "type": "\"string\""
        },
        {
         "metadata": "{}",
         "name": "Ref_3",
         "type": "\"string\""
        },
        {
         "metadata": "{}",
         "name": "Ref_4",
         "type": "\"string\""
        },
        {
         "metadata": "{}",
         "name": "Ref_5",
         "type": "\"string\""
        },
        {
         "metadata": "{}",
         "name": "Ref_6",
         "type": "\"string\""
        },
        {
         "metadata": "{}",
         "name": "Ref_7",
         "type": "\"string\""
        }
       ],
       "type": "table"
      }
     },
     "output_type": "display_data"
    }
   ],
   "source": [
    "# Dividir a coluna\n",
    "split_col = sf.split(df['Announced_capacity_Mt_CO2_yr'], \"-\")\n",
    "\n",
    "# Criar coluna de valor mínimo\n",
    "df = df.withColumn('Announced_capacity_low_Mt_CO2_yr', sf.when(sf.col('Announced_capacity_Mt_CO2_yr').contains('-'), split_col.getItem(0)).otherwise(sf.col('Announced_capacity_Mt_CO2_yr')).cast('double'))\n",
    "\n",
    "# Criar coluna de valor máximo\n",
    "df = df.withColumn('Announced_capacity_high_Mt_CO2_yr', sf.when(sf.col('Announced_capacity_Mt_CO2_yr').contains('-'), split_col.getItem(1)).otherwise(sf.col('Announced_capacity_Mt_CO2_yr')).cast('double'))\n",
    "\n",
    "# Substituir coluna original pelas novas\n",
    "colunas = df.columns\n",
    "pos = colunas.index(\"Announced_capacity_Mt_CO2_yr\")\n",
    "colunas[pos] = \"Announced_capacity_low_Mt_CO2_yr\"\n",
    "colunas.insert(pos+1, \"Announced_capacity_high_Mt_CO2_yr\")\n",
    "colunas = colunas[:-2]\n",
    "df = df.select(colunas)\n",
    "\n",
    "display(df.limit(3))"
   ]
  },
  {
   "cell_type": "markdown",
   "metadata": {
    "application/vnd.databricks.v1+cell": {
     "cellMetadata": {
      "byteLimit": 2048000,
      "rowLimit": 10000
     },
     "inputWidgets": {},
     "nuid": "aafeadd2-9c50-4bc4-9b1e-369272ba41b2",
     "showTitle": false,
     "title": ""
    }
   },
   "source": [
    "# Carga"
   ]
  },
  {
   "cell_type": "markdown",
   "metadata": {
    "application/vnd.databricks.v1+cell": {
     "cellMetadata": {},
     "inputWidgets": {},
     "nuid": "9ee44c9e-4211-407d-a628-904fbb0dccdd",
     "showTitle": false,
     "title": ""
    }
   },
   "source": [
    "## Gravar tabela"
   ]
  },
  {
   "cell_type": "markdown",
   "metadata": {
    "application/vnd.databricks.v1+cell": {
     "cellMetadata": {},
     "inputWidgets": {},
     "nuid": "e17aa08d-f6b0-4c25-bcd9-860946c0c49d",
     "showTitle": false,
     "title": ""
    }
   },
   "source": [
    "### Criar schema caso não exista"
   ]
  },
  {
   "cell_type": "code",
   "execution_count": 0,
   "metadata": {
    "application/vnd.databricks.v1+cell": {
     "cellMetadata": {
      "byteLimit": 2048000,
      "rowLimit": 10000
     },
     "inputWidgets": {},
     "nuid": "1b67117c-e64a-40ed-8b42-dbc7a4926765",
     "showTitle": false,
     "title": ""
    }
   },
   "outputs": [
    {
     "output_type": "stream",
     "name": "stdout",
     "output_type": "stream",
     "text": [
      "Schema treinamento já existe.\n"
     ]
    }
   ],
   "source": [
    "q = f\"SHOW DATABASES IN {catalogo} LIKE '{schema}'\"\n",
    "result = spark.sql(q)\n",
    "if result.count() > 0:\n",
    "    print(f\"Schema {schema} já existe.\")\n",
    "else:\n",
    "    print(f'Criando schema {schema}...', end=\" \")\n",
    "    sql_create_database = f\"CREATE DATABASE IF NOT EXISTS {catalogo}.{schema}\"\n",
    "    spark.sql(sql_create_database)\n",
    "    print(\"OK\")"
   ]
  },
  {
   "cell_type": "markdown",
   "metadata": {
    "application/vnd.databricks.v1+cell": {
     "cellMetadata": {},
     "inputWidgets": {},
     "nuid": "43c454be-f829-45ae-9097-2482df9a7a67",
     "showTitle": false,
     "title": ""
    }
   },
   "source": [
    "### Criar tabela caso não exista"
   ]
  },
  {
   "cell_type": "code",
   "execution_count": 0,
   "metadata": {
    "application/vnd.databricks.v1+cell": {
     "cellMetadata": {
      "byteLimit": 2048000,
      "rowLimit": 10000
     },
     "inputWidgets": {},
     "nuid": "afe765d4-0748-40dd-9496-1fdec5ecc88e",
     "showTitle": false,
     "title": ""
    }
   },
   "outputs": [
    {
     "output_type": "stream",
     "name": "stdout",
     "output_type": "stream",
     "text": [
      "Criando tabela dt0051_dev.treinamento.iea_ccus_projects... OK\n"
     ]
    }
   ],
   "source": [
    "path_tabela_catalogo = f\"{catalogo}.{schema}.{tabela}\"\n",
    "q = f\"SHOW TABLES IN {catalogo}.{schema} LIKE '{tabela}'\"\n",
    "result = spark.sql(q)\n",
    "\n",
    "if result.count() > 0:\n",
    "    print(f\"Tabela já existe: {path_tabela_catalogo}\")\n",
    "else:\n",
    "    # Definir colunas, seus tipos e comentários a partir do df_spark\n",
    "    colunas_sql = []    \n",
    "    for col, tipo in df.dtypes:\n",
    "        comentario = f\"COMMENT '{comentarios[col]}'\" if comentarios[col] else \"\"\n",
    "        colunas_sql.append(f\"{col} {tipo} {comentario}\")\n",
    "    colunas_sql = ', '.join(colunas_sql)\n",
    "\n",
    "    # Definir comentário da tabela\n",
    "    comment_tabela = f\"COMMENT '{descricao}'\" if descricao else \"\"\n",
    "\n",
    "    # Criar estrutura\n",
    "    print(f\"Criando tabela {path_tabela_catalogo}...\", end=\" \")\n",
    "    sql_create = f\"CREATE TABLE IF NOT EXISTS {path_tabela_catalogo} ( {colunas_sql} ) {comment_tabela}\"\n",
    "    spark.sql(sql_create)\n",
    "    print(\"OK\")"
   ]
  },
  {
   "cell_type": "markdown",
   "metadata": {
    "application/vnd.databricks.v1+cell": {
     "cellMetadata": {},
     "inputWidgets": {},
     "nuid": "e0fae883-605a-4677-82f1-080bfde8aa41",
     "showTitle": false,
     "title": ""
    }
   },
   "source": [
    "### Gravar dados na tabela"
   ]
  },
  {
   "cell_type": "code",
   "execution_count": 0,
   "metadata": {
    "application/vnd.databricks.v1+cell": {
     "cellMetadata": {
      "byteLimit": 2048000,
      "rowLimit": 10000
     },
     "inputWidgets": {},
     "nuid": "2f4c78ac-b982-40f9-be88-077e5508bb14",
     "showTitle": false,
     "title": ""
    }
   },
   "outputs": [
    {
     "output_type": "stream",
     "name": "stdout",
     "output_type": "stream",
     "text": [
      "Gravando dados na tabela dt0051_dev.treinamento.iea_ccus_projects... OK\n"
     ]
    }
   ],
   "source": [
    "path_tabela_catalogo = f\"{catalogo}.{schema}.{tabela}\"\n",
    "print(f\"Gravando dados na tabela {path_tabela_catalogo}...\", end=\" \")\n",
    "df.write.mode(\"overwrite\").format(\"delta\").saveAsTable(path_tabela_catalogo)\n",
    "print(\"OK\")"
   ]
  },
  {
   "cell_type": "markdown",
   "metadata": {
    "application/vnd.databricks.v1+cell": {
     "cellMetadata": {},
     "inputWidgets": {},
     "nuid": "5457b788-e180-442c-8d6d-85bdaeab8c65",
     "showTitle": false,
     "title": ""
    }
   },
   "source": [
    "# Próximas etapas\n",
    "Daqui, seguimos para a etapa de análise de qualidade dos dados, no link a seguir.\n",
    "\n",
    "https://github.com/samuelrubert/pucrio-mvp-engenhariadados/blob/main/Notebooks/CCUS_etapa2_qualidade.ipynb\n",
    "\n",
    "Em seguida, será feita a análise da solução do problema, no link abaixo.\n",
    "\n",
    "https://github.com/samuelrubert/pucrio-mvp-engenhariadados/blob/main/Notebooks/CCUS_etapa3_solucao.ipynb"
   ]
  }
 ],
 "metadata": {
  "application/vnd.databricks.v1+notebook": {
   "dashboards": [],
   "environmentMetadata": null,
   "language": "python",
   "notebookMetadata": {
    "mostRecentlyExecutedCommandWithImplicitDF": {
     "commandId": 2889040635026022,
     "dataframes": [
      "_sqldf"
     ]
    },
    "pythonIndentUnit": 4
   },
   "notebookName": "CCUS_etapa1_ETL",
   "widgets": {}
  }
 },
 "nbformat": 4,
 "nbformat_minor": 0
}
