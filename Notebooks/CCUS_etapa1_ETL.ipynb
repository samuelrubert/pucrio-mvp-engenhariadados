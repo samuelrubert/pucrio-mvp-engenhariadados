{
 "cells": [
  {
   "cell_type": "markdown",
   "metadata": {
    "application/vnd.databricks.v1+cell": {
     "cellMetadata": {},
     "inputWidgets": {},
     "nuid": "bc9f6ccd-d2d8-45e3-8743-403ca11a5ec1",
     "showTitle": false,
     "title": ""
    }
   },
   "source": [
    "# !! Atenção, professor !!\n",
    "No modo escuro, verifiquei que o GitHub pode não exibir corretamente as saídas dos dataframes Spark.\n",
    "\n",
    "Pode ser necessário alterar para o modo claro para conseguir ver os cabeçalhos das tabelas.\n",
    "\n",
    "O GitHub pede desculpas por esse inconveniente."
   ]
  },
  {
   "cell_type": "markdown",
   "metadata": {
    "application/vnd.databricks.v1+cell": {
     "cellMetadata": {
      "byteLimit": 2048000,
      "rowLimit": 10000
     },
     "inputWidgets": {},
     "nuid": "e4ec4e06-ede0-4955-8b90-09712b658c36",
     "showTitle": false,
     "title": ""
    }
   },
   "source": [
    "# Descrição do trabalho"
   ]
  },
  {
   "cell_type": "markdown",
   "metadata": {
    "application/vnd.databricks.v1+cell": {
     "cellMetadata": {
      "byteLimit": 2048000,
      "rowLimit": 10000
     },
     "inputWidgets": {},
     "nuid": "2464a71f-9680-4dd7-84e8-3325f7bd432f",
     "showTitle": false,
     "title": ""
    }
   },
   "source": [
    "## Objetivo\n",
    "Cada vez mais, o mundo tem se tornado ciente da importância e necessidade de adaptação às mudanças climáticas. A crescente conscientização sobre os impactos negativos das emissões de carbono tem impulsionado governos, empresas e organizações a implementar estratégias de descarbonização, visando atender ao Acordo de Paris e mitigar os efeitos do aquecimento global. O objetivo deste trabalho é obter perspectivas sobre os esforços de descarbonização realizados ao redor do mundo, analisando tendências, investimentos e resultados. \n",
    "\n",
    "Tentaremos responder a algumas perguntas sobre o tema:\n",
    "\n",
    "- Os investimentos em descarbonização têm aumentado? \n",
    "- Quais investimentos estão previstos para o futuro?\n",
    "- Quais são os países que mais têm investido em descarbonização?\n",
    "- Quais são as empresas que mais têm investido em descarbonização?\n",
    "- Em quais setores os esforços em descarbonização mais têm sido aplicados?\n",
    "- Quais as principais tecnologias que estão sendo utilizadas?\n",
    "- Qual a quantidade de emissões de carbono que se espera reduzir nos próximos anos?"
   ]
  },
  {
   "cell_type": "markdown",
   "metadata": {
    "application/vnd.databricks.v1+cell": {
     "cellMetadata": {
      "byteLimit": 2048000,
      "rowLimit": 10000
     },
     "inputWidgets": {},
     "nuid": "261f8a09-f56f-48a7-8124-a2520d617f8a",
     "showTitle": false,
     "title": ""
    }
   },
   "source": [
    "## Coleta de dados\n",
    "Para este trabalho, usaremos o conjunto de dados \"CCUS Projects Database\" disponibilizado pela International Energy Agency (IEA).\n",
    "\n",
    "Trata-se de dados sobre projetos de Captura, Utilização e Armazenamento de Carbono (CCUS) ao redor do mundo. São dados gratuitos, disponíveis para download no endereço https://www.iea.org/data-and-statistics/data-product/ccus-projects-database mediante a criação de uma conta. Eles são disponibilizados sob a licença Creative Commons Attribution 4.0.\n",
    "\n",
    "Devido à necessidade de login, não é possível acessar os dados diretamente via URL. Assim, os dados foram baixados e armazenados no GitHub, e este código lerá os dados desse endereço. Dessa forma, no caso de uma atualização do conjunto de dados, um usuário de negócio pode apenas atualizar o arquivo Excel e uma rotina agendada atualizaria os dados no Databricks automaticamente."
   ]
  },
  {
   "cell_type": "markdown",
   "metadata": {
    "application/vnd.databricks.v1+cell": {
     "cellMetadata": {
      "byteLimit": 2048000,
      "rowLimit": 10000
     },
     "inputWidgets": {},
     "nuid": "a1d6de13-b12e-473b-ac19-683e13d41a02",
     "showTitle": false,
     "title": ""
    }
   },
   "source": [
    "## Modelagem\n",
    "Os dados estão disponíveis em uma tabela do Excel. Essa tabela será gravada na base em um modelo flat, após as transformações necessárias e pertinentes.\n",
    "\n",
    "Metadados sobre a tabela e os campos também serão definidos e gravados no catálogo do Databricks."
   ]
  },
  {
   "cell_type": "markdown",
   "metadata": {
    "application/vnd.databricks.v1+cell": {
     "cellMetadata": {},
     "inputWidgets": {},
     "nuid": "cc4138e6-9d8b-46c5-aba7-6c9b1d5b0ff5",
     "showTitle": false,
     "title": ""
    }
   },
   "source": [
    "### Informações do Catálogo de Dados"
   ]
  },
  {
   "cell_type": "markdown",
   "metadata": {
    "application/vnd.databricks.v1+cell": {
     "cellMetadata": {},
     "inputWidgets": {},
     "nuid": "7924df74-df6a-49ab-b35b-90c2f8d74f0a",
     "showTitle": false,
     "title": ""
    }
   },
   "source": [
    "A tabela contém informações sobre projetos de captura, utilização e armazenamento de carbono (CCUS) ao redor do mundo. Ela inclui dados como o nome dos projetos, país, parceiros envolvidos, tipo de projeto, ano de anúncio, ano da decisão final de investimento, ano de operação, ano de suspensão/descomissionamento, status do projeto, fase do projeto, capacidade anunciada e estimada para captura, transporte e armazenamento de CO2, setor, destino do carbono, se o projeto faz parte de um hub CCUS, região, e links para artigos de notícias sobre o projeto. Esta tabela fornece insights valiosos sobre o panorama global dos projetos de CCUS e seu status atual. Os dados foram obtidos da International Energy Agency (IEA), em um arquivo Excel disponível no endereço https://www.iea.org/data-and-statistics/data-product/ccus-projects-database."
   ]
  },
  {
   "cell_type": "markdown",
   "metadata": {
    "application/vnd.databricks.v1+cell": {
     "cellMetadata": {},
     "inputWidgets": {},
     "nuid": "0ca29e8b-cde6-4624-ab69-0b58f2d72f2e",
     "showTitle": false,
     "title": ""
    }
   },
   "source": [
    "A tabela final possuirá os seguintes campos:\n",
    "\n",
    "**Project_name**: Nome do projeto. Texto livre.\n",
    "\n",
    "**ID**: Identificação única do projeto. Deve ser um número inteiro e único.\n",
    "\n",
    "**Country**: País(es) onde o projeto está localizado. Texto livre.\n",
    "\n",
    "**Partners**: Parceiros envolvidos no projeto. Texto livre.\n",
    "\n",
    "**Project_type**: Tipo de projeto. Valores possíveis**: Full chain (Cadeia completa), Capture (Captura), Transport (Transporte), Storage (Armazenamento), T&S (Transporte e armazenamento), ou CCU (Captura e Utilização).\n",
    "\n",
    "**Announcement**: Ano de anúncio do projeto, com quatro dígitos.\n",
    "\n",
    "**FID**: Ano ocorrido ou planejado da decisão final de investimento, com quatro dígitos.\n",
    "\n",
    "**Operation**: Ano ocorrido ou planejado de início da operação do projeto, com quatro dígitos.\n",
    "\n",
    "**Suspension_decommissioning**: Ano ocorrido ou planejado de suspensão ou descomissionamento do projeto, com quatro dígitos.\n",
    "\n",
    "**Project_Status**: Status atual do projeto. Valores possíveis**: Planned (Planejado), Under construction (Em construção), Operational (Operacional), Suspended (Suspenso), ou Decommissioned (Descomissionado).\n",
    "\n",
    "**Project_phase**: Fase atual do projeto. Número inteiro maior ou igual a 1.\n",
    "\n",
    "**Announced_capacity_low_Mt_CO2_yr**: Capacidade mínima anunciada para captura de CO2 em milhões de toneladas por ano. Número decimal maior ou igual a zero.\n",
    "\n",
    "**Announced_capacity_high_Mt_CO2_yr**: Capacidade máxima anunciada para captura de CO2 em milhões de toneladas por ano. Número decimal maior ou igual a zero.\n",
    "\n",
    "**Estimated_capacity_by_IEA_Mt_CO2_yr**: Capacidade estimada pela IEA para captura de CO2 em milhões de toneladas por ano. Número decimal maior ou igual a zero.\n",
    "\n",
    "**Sector**: Setor onde a captura de carbono é feita. Valores possíveis**: Power and heat (Energia e calor), Natural gas processing/LNG (Processamento de gás natural), Biofuels (Biocombustíveis), Hydrogen/ammonia (Hidrogênio/amônia), Other fuel transformation (Outras transformações de combustíveis), Cement (Cimento), Iron and steel (Ferro e aço), Chemicals (Química), Other industry (Outra indústria), DAC (Captura direta do ar), Transport (Transporte), Storage (Armazenamento), T&S (Transporte e armazenamento).\n",
    "\n",
    "**Fate_of_carbon**: Destino do carbono capturado. Valores possíveis**: Dedicated storage (Armazenamento dedicado), EOR (Recuperação de petróleo), Use (Uso), Unknown/unspecified (Desconhecido).\n",
    "\n",
    "**Part_of_CCUS_hub**: Indica se o projeto faz parte de um hub CCUS. Texto livre.\n",
    "\n",
    "**Region**: Região onde o projeto está localizado. Texto livre.\n",
    "\n",
    "**Ref_1**: Link para o primeiro artigo de notícias sobre o projeto. Texto, deve ser um URL válido.\n",
    "\n",
    "**Ref_2**: Link para o segundo artigo de notícias sobre o projeto. Texto, deve ser um URL válido.\n",
    "\n",
    "**Ref_3**: Link para o terceiro artigo de notícias sobre o projeto. Texto, deve ser um URL válido.\n",
    "\n",
    "**Ref_4**: Link para o quarto artigo de notícias sobre o projeto. Texto, deve ser um URL válido.\n",
    "\n",
    "**Ref_5**: Link para o quinto artigo de notícias sobre o projeto. Texto, deve ser um URL válido.\n",
    "\n",
    "**Ref_6**: Link para o sexto artigo de notícias sobre o projeto. Texto, deve ser um URL válido.\n",
    "\n",
    "**Ref_7**: Link para o sétimo artigo de notícias sobre o projeto. Texto, deve ser um URL válido."
   ]
  },
  {
   "cell_type": "markdown",
   "metadata": {
    "application/vnd.databricks.v1+cell": {
     "cellMetadata": {},
     "inputWidgets": {},
     "nuid": "0e56dbdd-5ccb-4aa9-8a82-79938fcd64d1",
     "showTitle": false,
     "title": ""
    }
   },
   "source": [
    "### Definir variáveis do catálogo"
   ]
  },
  {
   "cell_type": "code",
   "execution_count": 0,
   "metadata": {
    "application/vnd.databricks.v1+cell": {
     "cellMetadata": {
      "byteLimit": 2048000,
      "rowLimit": 10000
     },
     "inputWidgets": {},
     "nuid": "22728458-c961-4466-bcc8-d48169f533c1",
     "showTitle": false,
     "title": ""
    }
   },
   "outputs": [],
   "source": [
    "descricao = \"A tabela contém informações sobre projetos de captura, utilização e armazenamento de carbono (CCUS) ao redor do mundo. Ela inclui dados como o nome dos projetos, país, parceiros envolvidos, tipo de projeto, ano de anúncio, ano da decisão final de investimento, ano de operação, ano de suspensão/descomissionamento, status do projeto, fase do projeto, capacidade anunciada e estimada para captura, transporte e armazenamento de CO2, setor, destino do carbono, se o projeto faz parte de um hub CCUS, região, e links para artigos de notícias sobre o projeto. Esta tabela fornece insights valiosos sobre o panorama global dos projetos de CCUS e seu status atual. Os dados foram obtidos da International Energy Agency (IEA), de um arquivo Excel disponível no endereço https://www.iea.org/data-and-statistics/data-product/ccus-projects-database.\""
   ]
  },
  {
   "cell_type": "code",
   "execution_count": 0,
   "metadata": {
    "application/vnd.databricks.v1+cell": {
     "cellMetadata": {},
     "inputWidgets": {},
     "nuid": "f178032f-d9df-42ad-b39c-f07bdbaf6c68",
     "showTitle": false,
     "title": ""
    }
   },
   "outputs": [],
   "source": [
    "comentarios = {\n",
    "    \"Project_name\": \"Nome do projeto. Texto livre.\",\n",
    "    \"ID\": \"Identificação única do projeto. Deve ser um número inteiro e único.\",\n",
    "    \"Country\": \"País(es) onde o projeto está localizado. Texto livre.\",\n",
    "    \"Partners\": \"Parceiros envolvidos no projeto. Texto livre.\",\n",
    "    \"Project_type\": \"Tipo de projeto. Valores possíveis: Full chain (Cadeia completa), Capture (Captura), Transport (Transporte), Storage (Armazenamento), T&S (Transporte e armazenamento), ou CCU (Captura e Utilização).\",\n",
    "    \"Announcement\": \"Ano de anúncio do projeto, com quatro dígitos.\",\n",
    "    \"FID\": \"Ano ocorrido ou planejado da decisão final de investimento, com quatro dígitos.\",\n",
    "    \"Operation\": \"Ano ocorrido ou planejado de início da operação do projeto, com quatro dígitos.\",\n",
    "    \"Suspension_decommissioning\": \"Ano ocorrido ou planejado de suspensão ou descomissionamento do projeto, com quatro dígitos.\",\n",
    "    \"Project_Status\": \"Status atual do projeto. Valores possíveis: Planned (Planejado), Under construction (Em construção), Operational (Operacional), Suspended (Suspenso), ou Decommissioned (Descomissionado).\",\n",
    "    \"Project_phase\": \"Fase atual do projeto. Número inteiro maior ou igual a 1.\",\n",
    "    \"Announced_capacity_low_Mt_CO2_yr\": \"Capacidade mínima anunciada para captura de CO2 em milhões de toneladas por ano. Número decimal maior ou igual a zero.\",\n",
    "    \"Announced_capacity_high_Mt_CO2_yr\": \"Capacidade máxima anunciada para captura de CO2 em milhões de toneladas por ano. Número decimal maior ou igual a zero.\",\n",
    "    \"Estimated_capacity_by_IEA_Mt_CO2_yr\": \"Capacidade estimada pela IEA para captura de CO2 em milhões de toneladas por ano. Número decimal maior ou igual a zero.\",\n",
    "    \"Sector\": \"Setor onde a captura de carbono é feita. Valores possíveis: Power and heat (Energia e calor), Natural gas processing/LNG (Processamento de gás natural), Biofuels (Biocombustíveis), Hydrogen/ammonia (Hidrogênio/amônia), Other fuel transformation (Outras transformações de combustíveis), Cement (Cimento), Iron and steel (Ferro e aço), Chemicals (Química), Other industry (Outra indústria), DAC (Captura direta do ar), Transport (Transporte), Storage (Armazenamento), T&S (Transporte e armazenamento).\",\n",
    "    \"Fate_of_carbon\": \"Destino do carbono capturado. Valores possíveis: Dedicated storage (Armazenamento dedicado), EOR (Recuperação de petróleo), Use (Uso), Unknown/unspecified (Desconhecido).\",\n",
    "    \"Part_of_CCUS_hub\": \"Indica se o projeto faz parte de um hub CCUS. Texto livre.\",\n",
    "    \"Region\": \"Região onde o projeto está localizado. Texto livre.\",\n",
    "    \"Ref_1\": \"Link para o primeiro artigo de notícias sobre o projeto. Texto, deve ser um URL válido.\",\n",
    "    \"Ref_2\": \"Link para o segundo artigo de notícias sobre o projeto. Texto, deve ser um URL válido.\",\n",
    "    \"Ref_3\": \"Link para o terceiro artigo de notícias sobre o projeto. Texto, deve ser um URL válido.\",\n",
    "    \"Ref_4\": \"Link para o quarto artigo de notícias sobre o projeto. Texto, deve ser um URL válido.\",\n",
    "    \"Ref_5\": \"Link para o quinto artigo de notícias sobre o projeto. Texto, deve ser um URL válido.\",\n",
    "    \"Ref_6\": \"Link para o sexto artigo de notícias sobre o projeto. Texto, deve ser um URL válido.\",\n",
    "    \"Ref_7\": \"Link para o sétimo artigo de notícias sobre o projeto. Texto, deve ser um URL válido.\"\n",
    "}"
   ]
  },
  {
   "cell_type": "markdown",
   "metadata": {
    "application/vnd.databricks.v1+cell": {
     "cellMetadata": {
      "byteLimit": 2048000,
      "rowLimit": 10000
     },
     "inputWidgets": {},
     "nuid": "8320c1ef-e326-4588-b366-782c86c68a22",
     "showTitle": false,
     "title": ""
    }
   },
   "source": [
    "# Configurações iniciais"
   ]
  },
  {
   "cell_type": "markdown",
   "metadata": {
    "application/vnd.databricks.v1+cell": {
     "cellMetadata": {
      "byteLimit": 2048000,
      "rowLimit": 10000
     },
     "inputWidgets": {},
     "nuid": "38fd416c-d422-4bea-8d2b-fa848ff8861d",
     "showTitle": false,
     "title": ""
    }
   },
   "source": [
    "## Bibliotecas"
   ]
  },
  {
   "cell_type": "code",
   "execution_count": 0,
   "metadata": {
    "application/vnd.databricks.v1+cell": {
     "cellMetadata": {
      "byteLimit": 2048000,
      "rowLimit": 10000
     },
     "inputWidgets": {},
     "nuid": "49d25471-91d3-464a-acd1-caa46b4ee36b",
     "showTitle": false,
     "title": ""
    },
    "jupyter": {
     "outputs_hidden": true
    }
   },
   "outputs": [],
   "source": [
    "!pip install openpyxl --quiet\n",
    "!pip install unidecode --quiet"
   ]
  },
  {
   "cell_type": "code",
   "execution_count": 0,
   "metadata": {
    "application/vnd.databricks.v1+cell": {
     "cellMetadata": {
      "byteLimit": 2048000,
      "rowLimit": 10000
     },
     "inputWidgets": {},
     "nuid": "631e75fa-5ca2-403f-93ee-f2b3273bd9fd",
     "showTitle": false,
     "title": ""
    }
   },
   "outputs": [],
   "source": [
    "import pandas as pd\n",
    "import re\n",
    "from pyspark.sql import functions as sf\n",
    "from unidecode import unidecode"
   ]
  },
  {
   "cell_type": "markdown",
   "metadata": {
    "application/vnd.databricks.v1+cell": {
     "cellMetadata": {
      "byteLimit": 2048000,
      "rowLimit": 10000
     },
     "inputWidgets": {},
     "nuid": "2b75aa99-18ae-407e-a4b1-e690a2028045",
     "showTitle": false,
     "title": ""
    }
   },
   "source": [
    "## Parâmetros"
   ]
  },
  {
   "cell_type": "code",
   "execution_count": 0,
   "metadata": {
    "application/vnd.databricks.v1+cell": {
     "cellMetadata": {
      "byteLimit": 2048000,
      "rowLimit": 10000
     },
     "inputWidgets": {},
     "nuid": "fd95fa55-cde5-42c8-b440-631ae9bef73d",
     "showTitle": false,
     "title": ""
    }
   },
   "outputs": [],
   "source": [
    "# Definições do arquivo Excel\n",
    "sheetname = \"CCUS Projects Database\"\n",
    "cellposition = \"A1\""
   ]
  },
  {
   "cell_type": "code",
   "execution_count": 0,
   "metadata": {
    "application/vnd.databricks.v1+cell": {
     "cellMetadata": {
      "byteLimit": 2048000,
      "rowLimit": 10000
     },
     "inputWidgets": {},
     "nuid": "b47bc44e-0d6f-429c-bc20-72b03725416b",
     "showTitle": false,
     "title": ""
    }
   },
   "outputs": [],
   "source": [
    "# Parâmetros de gravação da tabela\n",
    "catalogo = \"dt0051_dev\"\n",
    "schema = \"treinamento\"\n",
    "tabela = \"iea_ccus_projects\""
   ]
  },
  {
   "cell_type": "markdown",
   "metadata": {
    "application/vnd.databricks.v1+cell": {
     "cellMetadata": {
      "byteLimit": 2048000,
      "rowLimit": 10000
     },
     "inputWidgets": {},
     "nuid": "07732b40-ad18-488f-ae84-be2c3a4034f0",
     "showTitle": false,
     "title": ""
    }
   },
   "source": [
    "## Caminhos"
   ]
  },
  {
   "cell_type": "code",
   "execution_count": 0,
   "metadata": {
    "application/vnd.databricks.v1+cell": {
     "cellMetadata": {
      "byteLimit": 2048000,
      "rowLimit": 10000
     },
     "inputWidgets": {},
     "nuid": "c52e74df-3d2f-4eff-8a9e-4fac2ec26946",
     "showTitle": false,
     "title": ""
    }
   },
   "outputs": [],
   "source": [
    "# Caminho dos dados\n",
    "path_arquivo = \"https://github.com/samuelrubert/pucrio-mvp-engenhariadados/raw/main/Dados/IEA_CCUS_Projects_Database.xlsx\""
   ]
  },
  {
   "cell_type": "markdown",
   "metadata": {
    "application/vnd.databricks.v1+cell": {
     "cellMetadata": {
      "byteLimit": 2048000,
      "rowLimit": 10000
     },
     "inputWidgets": {},
     "nuid": "e8e96faf-e783-4301-bacd-a8101acbd31e",
     "showTitle": false,
     "title": ""
    }
   },
   "source": [
    "# Extração"
   ]
  },
  {
   "cell_type": "markdown",
   "metadata": {
    "application/vnd.databricks.v1+cell": {
     "cellMetadata": {
      "byteLimit": 2048000,
      "rowLimit": 10000
     },
     "inputWidgets": {},
     "nuid": "9b05b72a-4260-4bd0-bf79-71d5e94d9515",
     "showTitle": false,
     "title": ""
    }
   },
   "source": [
    "## Leitura do arquivo Excel"
   ]
  },
  {
   "cell_type": "markdown",
   "metadata": {
    "application/vnd.databricks.v1+cell": {
     "cellMetadata": {
      "byteLimit": 2048000,
      "rowLimit": 10000
     },
     "inputWidgets": {},
     "nuid": "b9006f67-faa7-4527-931d-51eac8d4b157",
     "showTitle": false,
     "title": ""
    }
   },
   "source": [
    "Usaremos o pandas para ler o arquivo Excel a partir do url externo."
   ]
  },
  {
   "cell_type": "code",
   "execution_count": 0,
   "metadata": {
    "application/vnd.databricks.v1+cell": {
     "cellMetadata": {
      "byteLimit": 2048000,
      "rowLimit": 10000
     },
     "inputWidgets": {},
     "nuid": "741200f2-96c2-4990-9a52-1664449a0af9",
     "showTitle": false,
     "title": ""
    }
   },
   "outputs": [],
   "source": [
    "df_pandas = pd.read_excel(path_arquivo, sheet_name=sheetname, header=0)\n",
    "df_pandas.head()"
   ]
  },
  {
   "cell_type": "markdown",
   "metadata": {
    "application/vnd.databricks.v1+cell": {
     "cellMetadata": {
      "byteLimit": 2048000,
      "rowLimit": 10000
     },
     "inputWidgets": {},
     "nuid": "a19ba4bc-e508-4f24-af21-17b85b7caf94",
     "showTitle": false,
     "title": ""
    }
   },
   "source": [
    "Vamos verificar os tipos de dados inferidos pelo pandas. Pode ser necessário fazer alguma correção posterior."
   ]
  },
  {
   "cell_type": "code",
   "execution_count": 0,
   "metadata": {
    "application/vnd.databricks.v1+cell": {
     "cellMetadata": {
      "byteLimit": 2048000,
      "rowLimit": 10000
     },
     "inputWidgets": {},
     "nuid": "411f673c-32a3-4db4-b0ec-1d8ad9b214b7",
     "showTitle": false,
     "title": ""
    }
   },
   "outputs": [],
   "source": [
    "df_pandas.dtypes"
   ]
  },
  {
   "cell_type": "markdown",
   "metadata": {
    "application/vnd.databricks.v1+cell": {
     "cellMetadata": {
      "byteLimit": 2048000,
      "rowLimit": 10000
     },
     "inputWidgets": {},
     "nuid": "183d76a2-67bc-4e19-99c8-9a13e9f815bc",
     "showTitle": false,
     "title": ""
    }
   },
   "source": [
    "De fato, verificamos que algumas colunas que tratam apenas de números inteiros foram inferidas como float64. Ajustaremos isso adiante."
   ]
  },
  {
   "cell_type": "markdown",
   "metadata": {
    "application/vnd.databricks.v1+cell": {
     "cellMetadata": {
      "byteLimit": 2048000,
      "rowLimit": 10000
     },
     "inputWidgets": {},
     "nuid": "a193602e-1384-4e21-aef1-fcceb5a7747b",
     "showTitle": false,
     "title": ""
    }
   },
   "source": [
    "## Conversão em dataframe Spark"
   ]
  },
  {
   "cell_type": "markdown",
   "metadata": {
    "application/vnd.databricks.v1+cell": {
     "cellMetadata": {
      "byteLimit": 2048000,
      "rowLimit": 10000
     },
     "inputWidgets": {},
     "nuid": "11bcb3c7-4c78-4ef7-b664-9135141a0190",
     "showTitle": false,
     "title": ""
    }
   },
   "source": [
    "Vamos converter os dados para um dataframe Spark, que usaremos para fazer o tratamento."
   ]
  },
  {
   "cell_type": "code",
   "execution_count": 0,
   "metadata": {
    "application/vnd.databricks.v1+cell": {
     "cellMetadata": {
      "byteLimit": 2048000,
      "rowLimit": 10000
     },
     "inputWidgets": {},
     "nuid": "ca950ce4-f599-40a6-b050-521f3d713dee",
     "showTitle": false,
     "title": ""
    }
   },
   "outputs": [],
   "source": [
    "df = spark.createDataFrame(df_pandas)\n",
    "display(df.limit(10))"
   ]
  },
  {
   "cell_type": "markdown",
   "metadata": {
    "application/vnd.databricks.v1+cell": {
     "cellMetadata": {
      "byteLimit": 2048000,
      "rowLimit": 10000
     },
     "inputWidgets": {},
     "nuid": "2bedb659-28c5-4229-b770-1dc50a4142bf",
     "showTitle": false,
     "title": ""
    }
   },
   "source": [
    "# Transformação"
   ]
  },
  {
   "cell_type": "markdown",
   "metadata": {
    "application/vnd.databricks.v1+cell": {
     "cellMetadata": {
      "byteLimit": 2048000,
      "rowLimit": 10000
     },
     "inputWidgets": {},
     "nuid": "98230dce-11b2-447c-b406-b9456d0caa9c",
     "showTitle": false,
     "title": ""
    }
   },
   "source": [
    "## Tratar nomes das colunas\n",
    "Primeiramente vamos renomear as colunas para um formato compatível com SQL, substituindo espaços e caracteres especiais."
   ]
  },
  {
   "cell_type": "code",
   "execution_count": 0,
   "metadata": {
    "application/vnd.databricks.v1+cell": {
     "cellMetadata": {
      "byteLimit": 2048000,
      "rowLimit": 10000
     },
     "inputWidgets": {},
     "nuid": "caf13607-832b-43b0-b62e-e46c44c3c892",
     "showTitle": false,
     "title": ""
    }
   },
   "outputs": [],
   "source": [
    "# Dicionário de nomes\n",
    "dict_rename = {}\n",
    "\n",
    "# Criar nomes tratados\n",
    "for c in df.columns:\n",
    "    nome_ok = c.strip()\n",
    "    nome_ok = nome_ok.replace('/', '_')\n",
    "    nome_ok = re.sub('[^A-Za-z0-9_ ]+', '', unidecode(nome_ok))\n",
    "    nome_ok = re.sub('\\s+','_', nome_ok)\n",
    "    dict_rename[c] = nome_ok\n",
    "\n",
    "# Renomear colunas no dataframe\n",
    "df = df.withColumnsRenamed(dict_rename)\n",
    "\n",
    "display(df.limit(3))"
   ]
  },
  {
   "cell_type": "markdown",
   "metadata": {
    "application/vnd.databricks.v1+cell": {
     "cellMetadata": {
      "byteLimit": 2048000,
      "rowLimit": 10000
     },
     "inputWidgets": {},
     "nuid": "f633f601-476e-4430-832d-762798e99377",
     "showTitle": false,
     "title": ""
    }
   },
   "source": [
    "## Tratar dados"
   ]
  },
  {
   "cell_type": "markdown",
   "metadata": {
    "application/vnd.databricks.v1+cell": {
     "cellMetadata": {
      "byteLimit": 2048000,
      "rowLimit": 10000
     },
     "inputWidgets": {},
     "nuid": "c1d3a788-5540-4bf6-91da-662169a49174",
     "showTitle": false,
     "title": ""
    }
   },
   "source": [
    "### Remover NaN\n",
    "Os valores NaN nas colunas do tipo float são substituídos por nulos, pois eles interferem nas agregações de valores em certas ferramentas, como o Power BI.\n",
    "Ademais, vamos remover os valores NaN nas colunas de texto, pois se trata de um valor sem significado para o público de negócio."
   ]
  },
  {
   "cell_type": "code",
   "execution_count": 0,
   "metadata": {
    "application/vnd.databricks.v1+cell": {
     "cellMetadata": {
      "byteLimit": 2048000,
      "rowLimit": 10000
     },
     "inputWidgets": {},
     "nuid": "7a2d1652-2467-4f93-ad26-afe9aff47ed8",
     "showTitle": false,
     "title": ""
    }
   },
   "outputs": [],
   "source": [
    "df = df.replace(float(\"nan\"), None)\n",
    "df = df.replace(\"NaN\", None)\n",
    "\n",
    "display(df.limit(3))"
   ]
  },
  {
   "cell_type": "markdown",
   "metadata": {
    "application/vnd.databricks.v1+cell": {
     "cellMetadata": {
      "byteLimit": 2048000,
      "rowLimit": 10000
     },
     "inputWidgets": {},
     "nuid": "bbe7e99c-6998-4306-b70f-c3ecf27f2aca",
     "showTitle": false,
     "title": ""
    }
   },
   "source": [
    "### Converter colunas em tipo inteiro\n",
    "Quando fizemos a leitura do arquivo, algumas colunas foram inferidas como tipo float, quando na verdade tratam de valores inteiros."
   ]
  },
  {
   "cell_type": "code",
   "execution_count": 0,
   "metadata": {
    "application/vnd.databricks.v1+cell": {
     "cellMetadata": {
      "byteLimit": 2048000,
      "rowLimit": 10000
     },
     "inputWidgets": {},
     "nuid": "c446c806-1693-4bc9-9a7c-d5fa38a34527",
     "showTitle": false,
     "title": ""
    }
   },
   "outputs": [],
   "source": [
    "colunas_cast_int = [\n",
    "    \"Announcement\",\n",
    "    \"FID\",\n",
    "    \"Operation\",\n",
    "    \"Suspension_decommissioning\",\n",
    "    \"Project_phase\"\n",
    "]\n",
    "colunas_cast_int = {c: df[c].cast(\"int\") for c in colunas_cast_int}\n",
    "\n",
    "df = df.withColumns(colunas_cast_int)\n",
    "\n",
    "display(df.limit(3))"
   ]
  },
  {
   "cell_type": "markdown",
   "metadata": {
    "application/vnd.databricks.v1+cell": {
     "cellMetadata": {
      "byteLimit": 2048000,
      "rowLimit": 10000
     },
     "inputWidgets": {},
     "nuid": "59b79a42-52a6-4811-ad96-860d461e39a7",
     "showTitle": false,
     "title": ""
    }
   },
   "source": [
    "### Eliminar colunas Link\n",
    "No arquivo Excel, as colunas Link possuem um hiperlink clicável para o endereço contido na coluna Ref de mesmo número. Esse recurso não se aplica a uma base de dados, por isso vamos remover as colunas Link e manter as colunas Ref."
   ]
  },
  {
   "cell_type": "code",
   "execution_count": 0,
   "metadata": {
    "application/vnd.databricks.v1+cell": {
     "cellMetadata": {
      "byteLimit": 2048000,
      "rowLimit": 10000
     },
     "inputWidgets": {},
     "nuid": "03f6e36d-577e-436f-812d-59840dddf15b",
     "showTitle": false,
     "title": ""
    }
   },
   "outputs": [],
   "source": [
    "colunas_drop = [c for c in df.columns if c.startswith(\"Link\")]\n",
    "df = df.drop(*colunas_drop)\n",
    "\n",
    "display(df.limit(3))"
   ]
  },
  {
   "cell_type": "markdown",
   "metadata": {
    "application/vnd.databricks.v1+cell": {
     "cellMetadata": {
      "byteLimit": 2048000,
      "rowLimit": 10000
     },
     "inputWidgets": {},
     "nuid": "34e33381-0956-4908-bec6-6812be707478",
     "showTitle": false,
     "title": ""
    }
   },
   "source": [
    "### Tratar coluna Announced_capacity_Mt_CO2_yr\n",
    "Essa coluna possui alguns valores expressos em faixas, como \"0.3 - 0.8\". Para permitir cálculos e agregações, vamos transformar essa coluna em duas: uma contendo o valor mínimo, outra contendo o valor máximo. Valores da coluna original que não sejam expressos em faixas serão repetidos, de forma a manter a integridade da informação de maneira independente nas duas colunas."
   ]
  },
  {
   "cell_type": "code",
   "execution_count": 0,
   "metadata": {
    "application/vnd.databricks.v1+cell": {
     "cellMetadata": {
      "byteLimit": 2048000,
      "rowLimit": 10000
     },
     "inputWidgets": {},
     "nuid": "e94b45ff-f23e-40e0-9cb0-07d3ff01eec4",
     "showTitle": false,
     "title": ""
    }
   },
   "outputs": [],
   "source": [
    "# Dividir a coluna\n",
    "split_col = sf.split(df['Announced_capacity_Mt_CO2_yr'], \"-\")\n",
    "\n",
    "# Criar coluna de valor mínimo\n",
    "df = df.withColumn('Announced_capacity_low_Mt_CO2_yr', sf.when(sf.col('Announced_capacity_Mt_CO2_yr').contains('-'), split_col.getItem(0)).otherwise(sf.col('Announced_capacity_Mt_CO2_yr')).cast('double'))\n",
    "\n",
    "# Criar coluna de valor máximo\n",
    "df = df.withColumn('Announced_capacity_high_Mt_CO2_yr', sf.when(sf.col('Announced_capacity_Mt_CO2_yr').contains('-'), split_col.getItem(1)).otherwise(sf.col('Announced_capacity_Mt_CO2_yr')).cast('double'))\n",
    "\n",
    "# Substituir coluna original pelas novas\n",
    "colunas = df.columns\n",
    "pos = colunas.index(\"Announced_capacity_Mt_CO2_yr\")\n",
    "colunas[pos] = \"Announced_capacity_low_Mt_CO2_yr\"\n",
    "colunas.insert(pos+1, \"Announced_capacity_high_Mt_CO2_yr\")\n",
    "colunas = colunas[:-2]\n",
    "df = df.select(colunas)\n",
    "\n",
    "display(df.limit(3))"
   ]
  },
  {
   "cell_type": "markdown",
   "metadata": {
    "application/vnd.databricks.v1+cell": {
     "cellMetadata": {
      "byteLimit": 2048000,
      "rowLimit": 10000
     },
     "inputWidgets": {},
     "nuid": "aafeadd2-9c50-4bc4-9b1e-369272ba41b2",
     "showTitle": false,
     "title": ""
    }
   },
   "source": [
    "# Carga"
   ]
  },
  {
   "cell_type": "markdown",
   "metadata": {
    "application/vnd.databricks.v1+cell": {
     "cellMetadata": {},
     "inputWidgets": {},
     "nuid": "9ee44c9e-4211-407d-a628-904fbb0dccdd",
     "showTitle": false,
     "title": ""
    }
   },
   "source": [
    "## Gravar tabela"
   ]
  },
  {
   "cell_type": "markdown",
   "metadata": {
    "application/vnd.databricks.v1+cell": {
     "cellMetadata": {},
     "inputWidgets": {},
     "nuid": "e17aa08d-f6b0-4c25-bcd9-860946c0c49d",
     "showTitle": false,
     "title": ""
    }
   },
   "source": [
    "### Criar schema caso não exista"
   ]
  },
  {
   "cell_type": "code",
   "execution_count": 0,
   "metadata": {
    "application/vnd.databricks.v1+cell": {
     "cellMetadata": {
      "byteLimit": 2048000,
      "rowLimit": 10000
     },
     "inputWidgets": {},
     "nuid": "1b67117c-e64a-40ed-8b42-dbc7a4926765",
     "showTitle": false,
     "title": ""
    }
   },
   "outputs": [],
   "source": [
    "q = f\"SHOW DATABASES IN {catalogo} LIKE '{schema}'\"\n",
    "result = spark.sql(q)\n",
    "if result.count() > 0:\n",
    "    print(f\"Schema {schema} já existe.\")\n",
    "else:\n",
    "    print(f'Criando schema {schema}...', end=\" \")\n",
    "    sql_create_database = f\"CREATE DATABASE IF NOT EXISTS {catalogo}.{schema}\"\n",
    "    spark.sql(sql_create_database)\n",
    "    print(\"OK\")"
   ]
  },
  {
   "cell_type": "markdown",
   "metadata": {
    "application/vnd.databricks.v1+cell": {
     "cellMetadata": {},
     "inputWidgets": {},
     "nuid": "43c454be-f829-45ae-9097-2482df9a7a67",
     "showTitle": false,
     "title": ""
    }
   },
   "source": [
    "### Criar tabela caso não exista"
   ]
  },
  {
   "cell_type": "code",
   "execution_count": 0,
   "metadata": {
    "application/vnd.databricks.v1+cell": {
     "cellMetadata": {
      "byteLimit": 2048000,
      "rowLimit": 10000
     },
     "inputWidgets": {},
     "nuid": "afe765d4-0748-40dd-9496-1fdec5ecc88e",
     "showTitle": false,
     "title": ""
    }
   },
   "outputs": [],
   "source": [
    "path_tabela_catalogo = f\"{catalogo}.{schema}.{tabela}\"\n",
    "q = f\"SHOW TABLES IN {catalogo}.{schema} LIKE '{tabela}'\"\n",
    "result = spark.sql(q)\n",
    "\n",
    "if result.count() > 0:\n",
    "    print(f\"Tabela já existe: {path_tabela_catalogo}\")\n",
    "else:\n",
    "    # Definir colunas, seus tipos e comentários a partir do df_spark\n",
    "    colunas_sql = []    \n",
    "    for col, tipo in df.dtypes:\n",
    "        comentario = f\"COMMENT '{comentarios[col]}'\" if comentarios[col] else \"\"\n",
    "        colunas_sql.append(f\"{col} {tipo} {comentario}\")\n",
    "    colunas_sql = ', '.join(colunas_sql)\n",
    "\n",
    "    # Definir comentário da tabela\n",
    "    comment_tabela = f\"COMMENT '{descricao}'\" if descricao else \"\"\n",
    "\n",
    "    # Criar estrutura\n",
    "    print(f\"Criando tabela {path_tabela_catalogo}...\", end=\" \")\n",
    "    sql_create = f\"CREATE TABLE IF NOT EXISTS {path_tabela_catalogo} ( {colunas_sql} ) {comment_tabela}\"\n",
    "    spark.sql(sql_create)\n",
    "    print(\"OK\")"
   ]
  },
  {
   "cell_type": "markdown",
   "metadata": {
    "application/vnd.databricks.v1+cell": {
     "cellMetadata": {},
     "inputWidgets": {},
     "nuid": "e0fae883-605a-4677-82f1-080bfde8aa41",
     "showTitle": false,
     "title": ""
    }
   },
   "source": [
    "### Gravar dados na tabela"
   ]
  },
  {
   "cell_type": "code",
   "execution_count": 0,
   "metadata": {
    "application/vnd.databricks.v1+cell": {
     "cellMetadata": {
      "byteLimit": 2048000,
      "rowLimit": 10000
     },
     "inputWidgets": {},
     "nuid": "2f4c78ac-b982-40f9-be88-077e5508bb14",
     "showTitle": false,
     "title": ""
    }
   },
   "outputs": [],
   "source": [
    "path_tabela_catalogo = f\"{catalogo}.{schema}.{tabela}\"\n",
    "print(f\"Gravando dados na tabela {path_tabela_catalogo}...\", end=\" \")\n",
    "df.write.mode(\"overwrite\").format(\"delta\").saveAsTable(path_tabela_catalogo)\n",
    "print(\"OK\")"
   ]
  }
 ],
 "metadata": {
  "application/vnd.databricks.v1+notebook": {
   "dashboards": [],
   "environmentMetadata": null,
   "language": "python",
   "notebookMetadata": {
    "mostRecentlyExecutedCommandWithImplicitDF": {
     "commandId": 2889040635026022,
     "dataframes": [
      "_sqldf"
     ]
    },
    "pythonIndentUnit": 4
   },
   "notebookName": "CCUS_etapa1_ETL",
   "widgets": {}
  }
 },
 "nbformat": 4,
 "nbformat_minor": 0
}
